{
 "cells": [
  {
   "cell_type": "code",
   "execution_count": 17,
   "metadata": {
    "collapsed": true
   },
   "outputs": [],
   "source": [
    "import numpy as np\n",
    "import pandas as pd\n",
    "import matplotlib.pyplot as plt\n",
    "import seaborn as sns\n",
    "import plotly.graph_objects as go\n",
    "plt.style.use('dark_background')\n",
    "plt.style.use('seaborn-dark')"
   ]
  },
  {
   "cell_type": "code",
   "execution_count": 18,
   "outputs": [],
   "source": [
    "files_directory = 'input/'\n",
    "installments = pd.read_csv(files_directory + 'installments_payments.csv')"
   ],
   "metadata": {
    "collapsed": false,
    "pycharm": {
     "name": "#%%\n"
    }
   }
  },
  {
   "cell_type": "code",
   "execution_count": 19,
   "outputs": [
    {
     "data": {
      "text/plain": "   SK_ID_PREV  SK_ID_CURR  NUM_INSTALMENT_VERSION  NUM_INSTALMENT_NUMBER  \\\n0     1054186      161674                     1.0                      6   \n1     1330831      151639                     0.0                     34   \n2     2085231      193053                     2.0                      1   \n3     2452527      199697                     1.0                      3   \n4     2714724      167756                     1.0                      2   \n\n   DAYS_INSTALMENT  DAYS_ENTRY_PAYMENT  AMT_INSTALMENT  AMT_PAYMENT  \n0          -1180.0             -1187.0        6948.360     6948.360  \n1          -2156.0             -2156.0        1716.525     1716.525  \n2            -63.0               -63.0       25425.000    25425.000  \n3          -2418.0             -2426.0       24350.130    24350.130  \n4          -1383.0             -1366.0        2165.040     2160.585  ",
      "text/html": "<div>\n<style scoped>\n    .dataframe tbody tr th:only-of-type {\n        vertical-align: middle;\n    }\n\n    .dataframe tbody tr th {\n        vertical-align: top;\n    }\n\n    .dataframe thead th {\n        text-align: right;\n    }\n</style>\n<table border=\"1\" class=\"dataframe\">\n  <thead>\n    <tr style=\"text-align: right;\">\n      <th></th>\n      <th>SK_ID_PREV</th>\n      <th>SK_ID_CURR</th>\n      <th>NUM_INSTALMENT_VERSION</th>\n      <th>NUM_INSTALMENT_NUMBER</th>\n      <th>DAYS_INSTALMENT</th>\n      <th>DAYS_ENTRY_PAYMENT</th>\n      <th>AMT_INSTALMENT</th>\n      <th>AMT_PAYMENT</th>\n    </tr>\n  </thead>\n  <tbody>\n    <tr>\n      <th>0</th>\n      <td>1054186</td>\n      <td>161674</td>\n      <td>1.0</td>\n      <td>6</td>\n      <td>-1180.0</td>\n      <td>-1187.0</td>\n      <td>6948.360</td>\n      <td>6948.360</td>\n    </tr>\n    <tr>\n      <th>1</th>\n      <td>1330831</td>\n      <td>151639</td>\n      <td>0.0</td>\n      <td>34</td>\n      <td>-2156.0</td>\n      <td>-2156.0</td>\n      <td>1716.525</td>\n      <td>1716.525</td>\n    </tr>\n    <tr>\n      <th>2</th>\n      <td>2085231</td>\n      <td>193053</td>\n      <td>2.0</td>\n      <td>1</td>\n      <td>-63.0</td>\n      <td>-63.0</td>\n      <td>25425.000</td>\n      <td>25425.000</td>\n    </tr>\n    <tr>\n      <th>3</th>\n      <td>2452527</td>\n      <td>199697</td>\n      <td>1.0</td>\n      <td>3</td>\n      <td>-2418.0</td>\n      <td>-2426.0</td>\n      <td>24350.130</td>\n      <td>24350.130</td>\n    </tr>\n    <tr>\n      <th>4</th>\n      <td>2714724</td>\n      <td>167756</td>\n      <td>1.0</td>\n      <td>2</td>\n      <td>-1383.0</td>\n      <td>-1366.0</td>\n      <td>2165.040</td>\n      <td>2160.585</td>\n    </tr>\n  </tbody>\n</table>\n</div>"
     },
     "execution_count": 19,
     "metadata": {},
     "output_type": "execute_result"
    }
   ],
   "source": [
    "installments.head()"
   ],
   "metadata": {
    "collapsed": false,
    "pycharm": {
     "name": "#%%\n"
    }
   }
  },
  {
   "cell_type": "code",
   "execution_count": 20,
   "outputs": [],
   "source": [
    "application_test = pd.read_csv(files_directory + 'application_test.csv')\n",
    "application_train = pd.read_csv(files_directory + 'application_train.csv')"
   ],
   "metadata": {
    "collapsed": false,
    "pycharm": {
     "name": "#%%\n"
    }
   }
  },
  {
   "cell_type": "code",
   "execution_count": 21,
   "outputs": [
    {
     "data": {
      "text/plain": "        SK_ID_CURR  TARGET NAME_CONTRACT_TYPE CODE_GENDER FLAG_OWN_CAR  \\\n0           100002       1         Cash loans           M            N   \n1           100003       0         Cash loans           F            N   \n2           100004       0    Revolving loans           M            Y   \n3           100006       0         Cash loans           F            N   \n4           100007       0         Cash loans           M            N   \n...            ...     ...                ...         ...          ...   \n307506      456251       0         Cash loans           M            N   \n307507      456252       0         Cash loans           F            N   \n307508      456253       0         Cash loans           F            N   \n307509      456254       1         Cash loans           F            N   \n307510      456255       0         Cash loans           F            N   \n\n       FLAG_OWN_REALTY  CNT_CHILDREN  AMT_INCOME_TOTAL  AMT_CREDIT  \\\n0                    Y             0          202500.0    406597.5   \n1                    N             0          270000.0   1293502.5   \n2                    Y             0           67500.0    135000.0   \n3                    Y             0          135000.0    312682.5   \n4                    Y             0          121500.0    513000.0   \n...                ...           ...               ...         ...   \n307506               N             0          157500.0    254700.0   \n307507               Y             0           72000.0    269550.0   \n307508               Y             0          153000.0    677664.0   \n307509               Y             0          171000.0    370107.0   \n307510               N             0          157500.0    675000.0   \n\n        AMT_ANNUITY  ...  FLAG_DOCUMENT_18 FLAG_DOCUMENT_19 FLAG_DOCUMENT_20  \\\n0           24700.5  ...                 0                0                0   \n1           35698.5  ...                 0                0                0   \n2            6750.0  ...                 0                0                0   \n3           29686.5  ...                 0                0                0   \n4           21865.5  ...                 0                0                0   \n...             ...  ...               ...              ...              ...   \n307506      27558.0  ...                 0                0                0   \n307507      12001.5  ...                 0                0                0   \n307508      29979.0  ...                 0                0                0   \n307509      20205.0  ...                 0                0                0   \n307510      49117.5  ...                 0                0                0   \n\n       FLAG_DOCUMENT_21 AMT_REQ_CREDIT_BUREAU_HOUR AMT_REQ_CREDIT_BUREAU_DAY  \\\n0                     0                        0.0                       0.0   \n1                     0                        0.0                       0.0   \n2                     0                        0.0                       0.0   \n3                     0                        NaN                       NaN   \n4                     0                        0.0                       0.0   \n...                 ...                        ...                       ...   \n307506                0                        NaN                       NaN   \n307507                0                        NaN                       NaN   \n307508                0                        1.0                       0.0   \n307509                0                        0.0                       0.0   \n307510                0                        0.0                       0.0   \n\n        AMT_REQ_CREDIT_BUREAU_WEEK  AMT_REQ_CREDIT_BUREAU_MON  \\\n0                              0.0                        0.0   \n1                              0.0                        0.0   \n2                              0.0                        0.0   \n3                              NaN                        NaN   \n4                              0.0                        0.0   \n...                            ...                        ...   \n307506                         NaN                        NaN   \n307507                         NaN                        NaN   \n307508                         0.0                        1.0   \n307509                         0.0                        0.0   \n307510                         0.0                        2.0   \n\n        AMT_REQ_CREDIT_BUREAU_QRT  AMT_REQ_CREDIT_BUREAU_YEAR  \n0                             0.0                         1.0  \n1                             0.0                         0.0  \n2                             0.0                         0.0  \n3                             NaN                         NaN  \n4                             0.0                         0.0  \n...                           ...                         ...  \n307506                        NaN                         NaN  \n307507                        NaN                         NaN  \n307508                        0.0                         1.0  \n307509                        0.0                         0.0  \n307510                        0.0                         1.0  \n\n[307511 rows x 122 columns]",
      "text/html": "<div>\n<style scoped>\n    .dataframe tbody tr th:only-of-type {\n        vertical-align: middle;\n    }\n\n    .dataframe tbody tr th {\n        vertical-align: top;\n    }\n\n    .dataframe thead th {\n        text-align: right;\n    }\n</style>\n<table border=\"1\" class=\"dataframe\">\n  <thead>\n    <tr style=\"text-align: right;\">\n      <th></th>\n      <th>SK_ID_CURR</th>\n      <th>TARGET</th>\n      <th>NAME_CONTRACT_TYPE</th>\n      <th>CODE_GENDER</th>\n      <th>FLAG_OWN_CAR</th>\n      <th>FLAG_OWN_REALTY</th>\n      <th>CNT_CHILDREN</th>\n      <th>AMT_INCOME_TOTAL</th>\n      <th>AMT_CREDIT</th>\n      <th>AMT_ANNUITY</th>\n      <th>...</th>\n      <th>FLAG_DOCUMENT_18</th>\n      <th>FLAG_DOCUMENT_19</th>\n      <th>FLAG_DOCUMENT_20</th>\n      <th>FLAG_DOCUMENT_21</th>\n      <th>AMT_REQ_CREDIT_BUREAU_HOUR</th>\n      <th>AMT_REQ_CREDIT_BUREAU_DAY</th>\n      <th>AMT_REQ_CREDIT_BUREAU_WEEK</th>\n      <th>AMT_REQ_CREDIT_BUREAU_MON</th>\n      <th>AMT_REQ_CREDIT_BUREAU_QRT</th>\n      <th>AMT_REQ_CREDIT_BUREAU_YEAR</th>\n    </tr>\n  </thead>\n  <tbody>\n    <tr>\n      <th>0</th>\n      <td>100002</td>\n      <td>1</td>\n      <td>Cash loans</td>\n      <td>M</td>\n      <td>N</td>\n      <td>Y</td>\n      <td>0</td>\n      <td>202500.0</td>\n      <td>406597.5</td>\n      <td>24700.5</td>\n      <td>...</td>\n      <td>0</td>\n      <td>0</td>\n      <td>0</td>\n      <td>0</td>\n      <td>0.0</td>\n      <td>0.0</td>\n      <td>0.0</td>\n      <td>0.0</td>\n      <td>0.0</td>\n      <td>1.0</td>\n    </tr>\n    <tr>\n      <th>1</th>\n      <td>100003</td>\n      <td>0</td>\n      <td>Cash loans</td>\n      <td>F</td>\n      <td>N</td>\n      <td>N</td>\n      <td>0</td>\n      <td>270000.0</td>\n      <td>1293502.5</td>\n      <td>35698.5</td>\n      <td>...</td>\n      <td>0</td>\n      <td>0</td>\n      <td>0</td>\n      <td>0</td>\n      <td>0.0</td>\n      <td>0.0</td>\n      <td>0.0</td>\n      <td>0.0</td>\n      <td>0.0</td>\n      <td>0.0</td>\n    </tr>\n    <tr>\n      <th>2</th>\n      <td>100004</td>\n      <td>0</td>\n      <td>Revolving loans</td>\n      <td>M</td>\n      <td>Y</td>\n      <td>Y</td>\n      <td>0</td>\n      <td>67500.0</td>\n      <td>135000.0</td>\n      <td>6750.0</td>\n      <td>...</td>\n      <td>0</td>\n      <td>0</td>\n      <td>0</td>\n      <td>0</td>\n      <td>0.0</td>\n      <td>0.0</td>\n      <td>0.0</td>\n      <td>0.0</td>\n      <td>0.0</td>\n      <td>0.0</td>\n    </tr>\n    <tr>\n      <th>3</th>\n      <td>100006</td>\n      <td>0</td>\n      <td>Cash loans</td>\n      <td>F</td>\n      <td>N</td>\n      <td>Y</td>\n      <td>0</td>\n      <td>135000.0</td>\n      <td>312682.5</td>\n      <td>29686.5</td>\n      <td>...</td>\n      <td>0</td>\n      <td>0</td>\n      <td>0</td>\n      <td>0</td>\n      <td>NaN</td>\n      <td>NaN</td>\n      <td>NaN</td>\n      <td>NaN</td>\n      <td>NaN</td>\n      <td>NaN</td>\n    </tr>\n    <tr>\n      <th>4</th>\n      <td>100007</td>\n      <td>0</td>\n      <td>Cash loans</td>\n      <td>M</td>\n      <td>N</td>\n      <td>Y</td>\n      <td>0</td>\n      <td>121500.0</td>\n      <td>513000.0</td>\n      <td>21865.5</td>\n      <td>...</td>\n      <td>0</td>\n      <td>0</td>\n      <td>0</td>\n      <td>0</td>\n      <td>0.0</td>\n      <td>0.0</td>\n      <td>0.0</td>\n      <td>0.0</td>\n      <td>0.0</td>\n      <td>0.0</td>\n    </tr>\n    <tr>\n      <th>...</th>\n      <td>...</td>\n      <td>...</td>\n      <td>...</td>\n      <td>...</td>\n      <td>...</td>\n      <td>...</td>\n      <td>...</td>\n      <td>...</td>\n      <td>...</td>\n      <td>...</td>\n      <td>...</td>\n      <td>...</td>\n      <td>...</td>\n      <td>...</td>\n      <td>...</td>\n      <td>...</td>\n      <td>...</td>\n      <td>...</td>\n      <td>...</td>\n      <td>...</td>\n      <td>...</td>\n    </tr>\n    <tr>\n      <th>307506</th>\n      <td>456251</td>\n      <td>0</td>\n      <td>Cash loans</td>\n      <td>M</td>\n      <td>N</td>\n      <td>N</td>\n      <td>0</td>\n      <td>157500.0</td>\n      <td>254700.0</td>\n      <td>27558.0</td>\n      <td>...</td>\n      <td>0</td>\n      <td>0</td>\n      <td>0</td>\n      <td>0</td>\n      <td>NaN</td>\n      <td>NaN</td>\n      <td>NaN</td>\n      <td>NaN</td>\n      <td>NaN</td>\n      <td>NaN</td>\n    </tr>\n    <tr>\n      <th>307507</th>\n      <td>456252</td>\n      <td>0</td>\n      <td>Cash loans</td>\n      <td>F</td>\n      <td>N</td>\n      <td>Y</td>\n      <td>0</td>\n      <td>72000.0</td>\n      <td>269550.0</td>\n      <td>12001.5</td>\n      <td>...</td>\n      <td>0</td>\n      <td>0</td>\n      <td>0</td>\n      <td>0</td>\n      <td>NaN</td>\n      <td>NaN</td>\n      <td>NaN</td>\n      <td>NaN</td>\n      <td>NaN</td>\n      <td>NaN</td>\n    </tr>\n    <tr>\n      <th>307508</th>\n      <td>456253</td>\n      <td>0</td>\n      <td>Cash loans</td>\n      <td>F</td>\n      <td>N</td>\n      <td>Y</td>\n      <td>0</td>\n      <td>153000.0</td>\n      <td>677664.0</td>\n      <td>29979.0</td>\n      <td>...</td>\n      <td>0</td>\n      <td>0</td>\n      <td>0</td>\n      <td>0</td>\n      <td>1.0</td>\n      <td>0.0</td>\n      <td>0.0</td>\n      <td>1.0</td>\n      <td>0.0</td>\n      <td>1.0</td>\n    </tr>\n    <tr>\n      <th>307509</th>\n      <td>456254</td>\n      <td>1</td>\n      <td>Cash loans</td>\n      <td>F</td>\n      <td>N</td>\n      <td>Y</td>\n      <td>0</td>\n      <td>171000.0</td>\n      <td>370107.0</td>\n      <td>20205.0</td>\n      <td>...</td>\n      <td>0</td>\n      <td>0</td>\n      <td>0</td>\n      <td>0</td>\n      <td>0.0</td>\n      <td>0.0</td>\n      <td>0.0</td>\n      <td>0.0</td>\n      <td>0.0</td>\n      <td>0.0</td>\n    </tr>\n    <tr>\n      <th>307510</th>\n      <td>456255</td>\n      <td>0</td>\n      <td>Cash loans</td>\n      <td>F</td>\n      <td>N</td>\n      <td>N</td>\n      <td>0</td>\n      <td>157500.0</td>\n      <td>675000.0</td>\n      <td>49117.5</td>\n      <td>...</td>\n      <td>0</td>\n      <td>0</td>\n      <td>0</td>\n      <td>0</td>\n      <td>0.0</td>\n      <td>0.0</td>\n      <td>0.0</td>\n      <td>2.0</td>\n      <td>0.0</td>\n      <td>1.0</td>\n    </tr>\n  </tbody>\n</table>\n<p>307511 rows × 122 columns</p>\n</div>"
     },
     "execution_count": 21,
     "metadata": {},
     "output_type": "execute_result"
    }
   ],
   "source": [
    "application_train"
   ],
   "metadata": {
    "collapsed": false,
    "pycharm": {
     "name": "#%%\n"
    }
   }
  },
  {
   "cell_type": "code",
   "execution_count": 22,
   "outputs": [
    {
     "data": {
      "text/plain": "          SK_ID_CURR         TARGET   CNT_CHILDREN  AMT_INCOME_TOTAL  \\\ncount  307511.000000  307511.000000  307511.000000      3.075110e+05   \nmean   278180.518577       0.080729       0.417052      1.687979e+05   \nstd    102790.175348       0.272419       0.722121      2.371231e+05   \nmin    100002.000000       0.000000       0.000000      2.565000e+04   \n25%    189145.500000       0.000000       0.000000      1.125000e+05   \n50%    278202.000000       0.000000       0.000000      1.471500e+05   \n75%    367142.500000       0.000000       1.000000      2.025000e+05   \nmax    456255.000000       1.000000      19.000000      1.170000e+08   \n\n         AMT_CREDIT    AMT_ANNUITY  AMT_GOODS_PRICE  \\\ncount  3.075110e+05  307499.000000     3.072330e+05   \nmean   5.990260e+05   27108.573909     5.383962e+05   \nstd    4.024908e+05   14493.737315     3.694465e+05   \nmin    4.500000e+04    1615.500000     4.050000e+04   \n25%    2.700000e+05   16524.000000     2.385000e+05   \n50%    5.135310e+05   24903.000000     4.500000e+05   \n75%    8.086500e+05   34596.000000     6.795000e+05   \nmax    4.050000e+06  258025.500000     4.050000e+06   \n\n       REGION_POPULATION_RELATIVE     DAYS_BIRTH  DAYS_EMPLOYED  ...  \\\ncount               307511.000000  307511.000000  307511.000000  ...   \nmean                     0.020868  -16036.995067   63815.045904  ...   \nstd                      0.013831    4363.988632  141275.766519  ...   \nmin                      0.000290  -25229.000000  -17912.000000  ...   \n25%                      0.010006  -19682.000000   -2760.000000  ...   \n50%                      0.018850  -15750.000000   -1213.000000  ...   \n75%                      0.028663  -12413.000000    -289.000000  ...   \nmax                      0.072508   -7489.000000  365243.000000  ...   \n\n       FLAG_DOCUMENT_18  FLAG_DOCUMENT_19  FLAG_DOCUMENT_20  FLAG_DOCUMENT_21  \\\ncount     307511.000000     307511.000000     307511.000000     307511.000000   \nmean           0.008130          0.000595          0.000507          0.000335   \nstd            0.089798          0.024387          0.022518          0.018299   \nmin            0.000000          0.000000          0.000000          0.000000   \n25%            0.000000          0.000000          0.000000          0.000000   \n50%            0.000000          0.000000          0.000000          0.000000   \n75%            0.000000          0.000000          0.000000          0.000000   \nmax            1.000000          1.000000          1.000000          1.000000   \n\n       AMT_REQ_CREDIT_BUREAU_HOUR  AMT_REQ_CREDIT_BUREAU_DAY  \\\ncount               265992.000000              265992.000000   \nmean                     0.006402                   0.007000   \nstd                      0.083849                   0.110757   \nmin                      0.000000                   0.000000   \n25%                      0.000000                   0.000000   \n50%                      0.000000                   0.000000   \n75%                      0.000000                   0.000000   \nmax                      4.000000                   9.000000   \n\n       AMT_REQ_CREDIT_BUREAU_WEEK  AMT_REQ_CREDIT_BUREAU_MON  \\\ncount               265992.000000              265992.000000   \nmean                     0.034362                   0.267395   \nstd                      0.204685                   0.916002   \nmin                      0.000000                   0.000000   \n25%                      0.000000                   0.000000   \n50%                      0.000000                   0.000000   \n75%                      0.000000                   0.000000   \nmax                      8.000000                  27.000000   \n\n       AMT_REQ_CREDIT_BUREAU_QRT  AMT_REQ_CREDIT_BUREAU_YEAR  \ncount              265992.000000               265992.000000  \nmean                    0.265474                    1.899974  \nstd                     0.794056                    1.869295  \nmin                     0.000000                    0.000000  \n25%                     0.000000                    0.000000  \n50%                     0.000000                    1.000000  \n75%                     0.000000                    3.000000  \nmax                   261.000000                   25.000000  \n\n[8 rows x 106 columns]",
      "text/html": "<div>\n<style scoped>\n    .dataframe tbody tr th:only-of-type {\n        vertical-align: middle;\n    }\n\n    .dataframe tbody tr th {\n        vertical-align: top;\n    }\n\n    .dataframe thead th {\n        text-align: right;\n    }\n</style>\n<table border=\"1\" class=\"dataframe\">\n  <thead>\n    <tr style=\"text-align: right;\">\n      <th></th>\n      <th>SK_ID_CURR</th>\n      <th>TARGET</th>\n      <th>CNT_CHILDREN</th>\n      <th>AMT_INCOME_TOTAL</th>\n      <th>AMT_CREDIT</th>\n      <th>AMT_ANNUITY</th>\n      <th>AMT_GOODS_PRICE</th>\n      <th>REGION_POPULATION_RELATIVE</th>\n      <th>DAYS_BIRTH</th>\n      <th>DAYS_EMPLOYED</th>\n      <th>...</th>\n      <th>FLAG_DOCUMENT_18</th>\n      <th>FLAG_DOCUMENT_19</th>\n      <th>FLAG_DOCUMENT_20</th>\n      <th>FLAG_DOCUMENT_21</th>\n      <th>AMT_REQ_CREDIT_BUREAU_HOUR</th>\n      <th>AMT_REQ_CREDIT_BUREAU_DAY</th>\n      <th>AMT_REQ_CREDIT_BUREAU_WEEK</th>\n      <th>AMT_REQ_CREDIT_BUREAU_MON</th>\n      <th>AMT_REQ_CREDIT_BUREAU_QRT</th>\n      <th>AMT_REQ_CREDIT_BUREAU_YEAR</th>\n    </tr>\n  </thead>\n  <tbody>\n    <tr>\n      <th>count</th>\n      <td>307511.000000</td>\n      <td>307511.000000</td>\n      <td>307511.000000</td>\n      <td>3.075110e+05</td>\n      <td>3.075110e+05</td>\n      <td>307499.000000</td>\n      <td>3.072330e+05</td>\n      <td>307511.000000</td>\n      <td>307511.000000</td>\n      <td>307511.000000</td>\n      <td>...</td>\n      <td>307511.000000</td>\n      <td>307511.000000</td>\n      <td>307511.000000</td>\n      <td>307511.000000</td>\n      <td>265992.000000</td>\n      <td>265992.000000</td>\n      <td>265992.000000</td>\n      <td>265992.000000</td>\n      <td>265992.000000</td>\n      <td>265992.000000</td>\n    </tr>\n    <tr>\n      <th>mean</th>\n      <td>278180.518577</td>\n      <td>0.080729</td>\n      <td>0.417052</td>\n      <td>1.687979e+05</td>\n      <td>5.990260e+05</td>\n      <td>27108.573909</td>\n      <td>5.383962e+05</td>\n      <td>0.020868</td>\n      <td>-16036.995067</td>\n      <td>63815.045904</td>\n      <td>...</td>\n      <td>0.008130</td>\n      <td>0.000595</td>\n      <td>0.000507</td>\n      <td>0.000335</td>\n      <td>0.006402</td>\n      <td>0.007000</td>\n      <td>0.034362</td>\n      <td>0.267395</td>\n      <td>0.265474</td>\n      <td>1.899974</td>\n    </tr>\n    <tr>\n      <th>std</th>\n      <td>102790.175348</td>\n      <td>0.272419</td>\n      <td>0.722121</td>\n      <td>2.371231e+05</td>\n      <td>4.024908e+05</td>\n      <td>14493.737315</td>\n      <td>3.694465e+05</td>\n      <td>0.013831</td>\n      <td>4363.988632</td>\n      <td>141275.766519</td>\n      <td>...</td>\n      <td>0.089798</td>\n      <td>0.024387</td>\n      <td>0.022518</td>\n      <td>0.018299</td>\n      <td>0.083849</td>\n      <td>0.110757</td>\n      <td>0.204685</td>\n      <td>0.916002</td>\n      <td>0.794056</td>\n      <td>1.869295</td>\n    </tr>\n    <tr>\n      <th>min</th>\n      <td>100002.000000</td>\n      <td>0.000000</td>\n      <td>0.000000</td>\n      <td>2.565000e+04</td>\n      <td>4.500000e+04</td>\n      <td>1615.500000</td>\n      <td>4.050000e+04</td>\n      <td>0.000290</td>\n      <td>-25229.000000</td>\n      <td>-17912.000000</td>\n      <td>...</td>\n      <td>0.000000</td>\n      <td>0.000000</td>\n      <td>0.000000</td>\n      <td>0.000000</td>\n      <td>0.000000</td>\n      <td>0.000000</td>\n      <td>0.000000</td>\n      <td>0.000000</td>\n      <td>0.000000</td>\n      <td>0.000000</td>\n    </tr>\n    <tr>\n      <th>25%</th>\n      <td>189145.500000</td>\n      <td>0.000000</td>\n      <td>0.000000</td>\n      <td>1.125000e+05</td>\n      <td>2.700000e+05</td>\n      <td>16524.000000</td>\n      <td>2.385000e+05</td>\n      <td>0.010006</td>\n      <td>-19682.000000</td>\n      <td>-2760.000000</td>\n      <td>...</td>\n      <td>0.000000</td>\n      <td>0.000000</td>\n      <td>0.000000</td>\n      <td>0.000000</td>\n      <td>0.000000</td>\n      <td>0.000000</td>\n      <td>0.000000</td>\n      <td>0.000000</td>\n      <td>0.000000</td>\n      <td>0.000000</td>\n    </tr>\n    <tr>\n      <th>50%</th>\n      <td>278202.000000</td>\n      <td>0.000000</td>\n      <td>0.000000</td>\n      <td>1.471500e+05</td>\n      <td>5.135310e+05</td>\n      <td>24903.000000</td>\n      <td>4.500000e+05</td>\n      <td>0.018850</td>\n      <td>-15750.000000</td>\n      <td>-1213.000000</td>\n      <td>...</td>\n      <td>0.000000</td>\n      <td>0.000000</td>\n      <td>0.000000</td>\n      <td>0.000000</td>\n      <td>0.000000</td>\n      <td>0.000000</td>\n      <td>0.000000</td>\n      <td>0.000000</td>\n      <td>0.000000</td>\n      <td>1.000000</td>\n    </tr>\n    <tr>\n      <th>75%</th>\n      <td>367142.500000</td>\n      <td>0.000000</td>\n      <td>1.000000</td>\n      <td>2.025000e+05</td>\n      <td>8.086500e+05</td>\n      <td>34596.000000</td>\n      <td>6.795000e+05</td>\n      <td>0.028663</td>\n      <td>-12413.000000</td>\n      <td>-289.000000</td>\n      <td>...</td>\n      <td>0.000000</td>\n      <td>0.000000</td>\n      <td>0.000000</td>\n      <td>0.000000</td>\n      <td>0.000000</td>\n      <td>0.000000</td>\n      <td>0.000000</td>\n      <td>0.000000</td>\n      <td>0.000000</td>\n      <td>3.000000</td>\n    </tr>\n    <tr>\n      <th>max</th>\n      <td>456255.000000</td>\n      <td>1.000000</td>\n      <td>19.000000</td>\n      <td>1.170000e+08</td>\n      <td>4.050000e+06</td>\n      <td>258025.500000</td>\n      <td>4.050000e+06</td>\n      <td>0.072508</td>\n      <td>-7489.000000</td>\n      <td>365243.000000</td>\n      <td>...</td>\n      <td>1.000000</td>\n      <td>1.000000</td>\n      <td>1.000000</td>\n      <td>1.000000</td>\n      <td>4.000000</td>\n      <td>9.000000</td>\n      <td>8.000000</td>\n      <td>27.000000</td>\n      <td>261.000000</td>\n      <td>25.000000</td>\n    </tr>\n  </tbody>\n</table>\n<p>8 rows × 106 columns</p>\n</div>"
     },
     "execution_count": 22,
     "metadata": {},
     "output_type": "execute_result"
    }
   ],
   "source": [
    "application_train.describe()"
   ],
   "metadata": {
    "collapsed": false,
    "pycharm": {
     "name": "#%%\n"
    }
   }
  },
  {
   "cell_type": "code",
   "execution_count": 23,
   "outputs": [
    {
     "data": {
      "text/plain": "SK_ID_CURR                      int64\nTARGET                          int64\nNAME_CONTRACT_TYPE             object\nCODE_GENDER                    object\nFLAG_OWN_CAR                   object\n                               ...   \nAMT_REQ_CREDIT_BUREAU_DAY     float64\nAMT_REQ_CREDIT_BUREAU_WEEK    float64\nAMT_REQ_CREDIT_BUREAU_MON     float64\nAMT_REQ_CREDIT_BUREAU_QRT     float64\nAMT_REQ_CREDIT_BUREAU_YEAR    float64\nLength: 122, dtype: object"
     },
     "execution_count": 23,
     "metadata": {},
     "output_type": "execute_result"
    }
   ],
   "source": [
    "application_train.dtypes"
   ],
   "metadata": {
    "collapsed": false,
    "pycharm": {
     "name": "#%%\n"
    }
   }
  },
  {
   "cell_type": "code",
   "execution_count": 24,
   "outputs": [
    {
     "data": {
      "text/plain": "       SK_ID_CURR NAME_CONTRACT_TYPE CODE_GENDER FLAG_OWN_CAR FLAG_OWN_REALTY  \\\n0          100001         Cash loans           F            N               Y   \n1          100005         Cash loans           M            N               Y   \n2          100013         Cash loans           M            Y               Y   \n3          100028         Cash loans           F            N               Y   \n4          100038         Cash loans           M            Y               N   \n...           ...                ...         ...          ...             ...   \n48739      456221         Cash loans           F            N               Y   \n48740      456222         Cash loans           F            N               N   \n48741      456223         Cash loans           F            Y               Y   \n48742      456224         Cash loans           M            N               N   \n48743      456250         Cash loans           F            Y               N   \n\n       CNT_CHILDREN  AMT_INCOME_TOTAL  AMT_CREDIT  AMT_ANNUITY  \\\n0                 0          135000.0    568800.0      20560.5   \n1                 0           99000.0    222768.0      17370.0   \n2                 0          202500.0    663264.0      69777.0   \n3                 2          315000.0   1575000.0      49018.5   \n4                 1          180000.0    625500.0      32067.0   \n...             ...               ...         ...          ...   \n48739             0          121500.0    412560.0      17473.5   \n48740             2          157500.0    622413.0      31909.5   \n48741             1          202500.0    315000.0      33205.5   \n48742             0          225000.0    450000.0      25128.0   \n48743             0          135000.0    312768.0      24709.5   \n\n       AMT_GOODS_PRICE  ... FLAG_DOCUMENT_18 FLAG_DOCUMENT_19  \\\n0             450000.0  ...                0                0   \n1             180000.0  ...                0                0   \n2             630000.0  ...                0                0   \n3            1575000.0  ...                0                0   \n4             625500.0  ...                0                0   \n...                ...  ...              ...              ...   \n48739         270000.0  ...                0                0   \n48740         495000.0  ...                0                0   \n48741         315000.0  ...                0                0   \n48742         450000.0  ...                0                0   \n48743         270000.0  ...                0                0   \n\n      FLAG_DOCUMENT_20 FLAG_DOCUMENT_21 AMT_REQ_CREDIT_BUREAU_HOUR  \\\n0                    0                0                        0.0   \n1                    0                0                        0.0   \n2                    0                0                        0.0   \n3                    0                0                        0.0   \n4                    0                0                        NaN   \n...                ...              ...                        ...   \n48739                0                0                        0.0   \n48740                0                0                        NaN   \n48741                0                0                        0.0   \n48742                0                0                        0.0   \n48743                0                0                        0.0   \n\n       AMT_REQ_CREDIT_BUREAU_DAY  AMT_REQ_CREDIT_BUREAU_WEEK  \\\n0                            0.0                         0.0   \n1                            0.0                         0.0   \n2                            0.0                         0.0   \n3                            0.0                         0.0   \n4                            NaN                         NaN   \n...                          ...                         ...   \n48739                        0.0                         0.0   \n48740                        NaN                         NaN   \n48741                        0.0                         0.0   \n48742                        0.0                         0.0   \n48743                        0.0                         0.0   \n\n       AMT_REQ_CREDIT_BUREAU_MON  AMT_REQ_CREDIT_BUREAU_QRT  \\\n0                            0.0                        0.0   \n1                            0.0                        0.0   \n2                            0.0                        1.0   \n3                            0.0                        0.0   \n4                            NaN                        NaN   \n...                          ...                        ...   \n48739                        0.0                        0.0   \n48740                        NaN                        NaN   \n48741                        0.0                        3.0   \n48742                        0.0                        0.0   \n48743                        0.0                        1.0   \n\n       AMT_REQ_CREDIT_BUREAU_YEAR  \n0                             0.0  \n1                             3.0  \n2                             4.0  \n3                             3.0  \n4                             NaN  \n...                           ...  \n48739                         1.0  \n48740                         NaN  \n48741                         1.0  \n48742                         2.0  \n48743                         4.0  \n\n[48744 rows x 121 columns]",
      "text/html": "<div>\n<style scoped>\n    .dataframe tbody tr th:only-of-type {\n        vertical-align: middle;\n    }\n\n    .dataframe tbody tr th {\n        vertical-align: top;\n    }\n\n    .dataframe thead th {\n        text-align: right;\n    }\n</style>\n<table border=\"1\" class=\"dataframe\">\n  <thead>\n    <tr style=\"text-align: right;\">\n      <th></th>\n      <th>SK_ID_CURR</th>\n      <th>NAME_CONTRACT_TYPE</th>\n      <th>CODE_GENDER</th>\n      <th>FLAG_OWN_CAR</th>\n      <th>FLAG_OWN_REALTY</th>\n      <th>CNT_CHILDREN</th>\n      <th>AMT_INCOME_TOTAL</th>\n      <th>AMT_CREDIT</th>\n      <th>AMT_ANNUITY</th>\n      <th>AMT_GOODS_PRICE</th>\n      <th>...</th>\n      <th>FLAG_DOCUMENT_18</th>\n      <th>FLAG_DOCUMENT_19</th>\n      <th>FLAG_DOCUMENT_20</th>\n      <th>FLAG_DOCUMENT_21</th>\n      <th>AMT_REQ_CREDIT_BUREAU_HOUR</th>\n      <th>AMT_REQ_CREDIT_BUREAU_DAY</th>\n      <th>AMT_REQ_CREDIT_BUREAU_WEEK</th>\n      <th>AMT_REQ_CREDIT_BUREAU_MON</th>\n      <th>AMT_REQ_CREDIT_BUREAU_QRT</th>\n      <th>AMT_REQ_CREDIT_BUREAU_YEAR</th>\n    </tr>\n  </thead>\n  <tbody>\n    <tr>\n      <th>0</th>\n      <td>100001</td>\n      <td>Cash loans</td>\n      <td>F</td>\n      <td>N</td>\n      <td>Y</td>\n      <td>0</td>\n      <td>135000.0</td>\n      <td>568800.0</td>\n      <td>20560.5</td>\n      <td>450000.0</td>\n      <td>...</td>\n      <td>0</td>\n      <td>0</td>\n      <td>0</td>\n      <td>0</td>\n      <td>0.0</td>\n      <td>0.0</td>\n      <td>0.0</td>\n      <td>0.0</td>\n      <td>0.0</td>\n      <td>0.0</td>\n    </tr>\n    <tr>\n      <th>1</th>\n      <td>100005</td>\n      <td>Cash loans</td>\n      <td>M</td>\n      <td>N</td>\n      <td>Y</td>\n      <td>0</td>\n      <td>99000.0</td>\n      <td>222768.0</td>\n      <td>17370.0</td>\n      <td>180000.0</td>\n      <td>...</td>\n      <td>0</td>\n      <td>0</td>\n      <td>0</td>\n      <td>0</td>\n      <td>0.0</td>\n      <td>0.0</td>\n      <td>0.0</td>\n      <td>0.0</td>\n      <td>0.0</td>\n      <td>3.0</td>\n    </tr>\n    <tr>\n      <th>2</th>\n      <td>100013</td>\n      <td>Cash loans</td>\n      <td>M</td>\n      <td>Y</td>\n      <td>Y</td>\n      <td>0</td>\n      <td>202500.0</td>\n      <td>663264.0</td>\n      <td>69777.0</td>\n      <td>630000.0</td>\n      <td>...</td>\n      <td>0</td>\n      <td>0</td>\n      <td>0</td>\n      <td>0</td>\n      <td>0.0</td>\n      <td>0.0</td>\n      <td>0.0</td>\n      <td>0.0</td>\n      <td>1.0</td>\n      <td>4.0</td>\n    </tr>\n    <tr>\n      <th>3</th>\n      <td>100028</td>\n      <td>Cash loans</td>\n      <td>F</td>\n      <td>N</td>\n      <td>Y</td>\n      <td>2</td>\n      <td>315000.0</td>\n      <td>1575000.0</td>\n      <td>49018.5</td>\n      <td>1575000.0</td>\n      <td>...</td>\n      <td>0</td>\n      <td>0</td>\n      <td>0</td>\n      <td>0</td>\n      <td>0.0</td>\n      <td>0.0</td>\n      <td>0.0</td>\n      <td>0.0</td>\n      <td>0.0</td>\n      <td>3.0</td>\n    </tr>\n    <tr>\n      <th>4</th>\n      <td>100038</td>\n      <td>Cash loans</td>\n      <td>M</td>\n      <td>Y</td>\n      <td>N</td>\n      <td>1</td>\n      <td>180000.0</td>\n      <td>625500.0</td>\n      <td>32067.0</td>\n      <td>625500.0</td>\n      <td>...</td>\n      <td>0</td>\n      <td>0</td>\n      <td>0</td>\n      <td>0</td>\n      <td>NaN</td>\n      <td>NaN</td>\n      <td>NaN</td>\n      <td>NaN</td>\n      <td>NaN</td>\n      <td>NaN</td>\n    </tr>\n    <tr>\n      <th>...</th>\n      <td>...</td>\n      <td>...</td>\n      <td>...</td>\n      <td>...</td>\n      <td>...</td>\n      <td>...</td>\n      <td>...</td>\n      <td>...</td>\n      <td>...</td>\n      <td>...</td>\n      <td>...</td>\n      <td>...</td>\n      <td>...</td>\n      <td>...</td>\n      <td>...</td>\n      <td>...</td>\n      <td>...</td>\n      <td>...</td>\n      <td>...</td>\n      <td>...</td>\n      <td>...</td>\n    </tr>\n    <tr>\n      <th>48739</th>\n      <td>456221</td>\n      <td>Cash loans</td>\n      <td>F</td>\n      <td>N</td>\n      <td>Y</td>\n      <td>0</td>\n      <td>121500.0</td>\n      <td>412560.0</td>\n      <td>17473.5</td>\n      <td>270000.0</td>\n      <td>...</td>\n      <td>0</td>\n      <td>0</td>\n      <td>0</td>\n      <td>0</td>\n      <td>0.0</td>\n      <td>0.0</td>\n      <td>0.0</td>\n      <td>0.0</td>\n      <td>0.0</td>\n      <td>1.0</td>\n    </tr>\n    <tr>\n      <th>48740</th>\n      <td>456222</td>\n      <td>Cash loans</td>\n      <td>F</td>\n      <td>N</td>\n      <td>N</td>\n      <td>2</td>\n      <td>157500.0</td>\n      <td>622413.0</td>\n      <td>31909.5</td>\n      <td>495000.0</td>\n      <td>...</td>\n      <td>0</td>\n      <td>0</td>\n      <td>0</td>\n      <td>0</td>\n      <td>NaN</td>\n      <td>NaN</td>\n      <td>NaN</td>\n      <td>NaN</td>\n      <td>NaN</td>\n      <td>NaN</td>\n    </tr>\n    <tr>\n      <th>48741</th>\n      <td>456223</td>\n      <td>Cash loans</td>\n      <td>F</td>\n      <td>Y</td>\n      <td>Y</td>\n      <td>1</td>\n      <td>202500.0</td>\n      <td>315000.0</td>\n      <td>33205.5</td>\n      <td>315000.0</td>\n      <td>...</td>\n      <td>0</td>\n      <td>0</td>\n      <td>0</td>\n      <td>0</td>\n      <td>0.0</td>\n      <td>0.0</td>\n      <td>0.0</td>\n      <td>0.0</td>\n      <td>3.0</td>\n      <td>1.0</td>\n    </tr>\n    <tr>\n      <th>48742</th>\n      <td>456224</td>\n      <td>Cash loans</td>\n      <td>M</td>\n      <td>N</td>\n      <td>N</td>\n      <td>0</td>\n      <td>225000.0</td>\n      <td>450000.0</td>\n      <td>25128.0</td>\n      <td>450000.0</td>\n      <td>...</td>\n      <td>0</td>\n      <td>0</td>\n      <td>0</td>\n      <td>0</td>\n      <td>0.0</td>\n      <td>0.0</td>\n      <td>0.0</td>\n      <td>0.0</td>\n      <td>0.0</td>\n      <td>2.0</td>\n    </tr>\n    <tr>\n      <th>48743</th>\n      <td>456250</td>\n      <td>Cash loans</td>\n      <td>F</td>\n      <td>Y</td>\n      <td>N</td>\n      <td>0</td>\n      <td>135000.0</td>\n      <td>312768.0</td>\n      <td>24709.5</td>\n      <td>270000.0</td>\n      <td>...</td>\n      <td>0</td>\n      <td>0</td>\n      <td>0</td>\n      <td>0</td>\n      <td>0.0</td>\n      <td>0.0</td>\n      <td>0.0</td>\n      <td>0.0</td>\n      <td>1.0</td>\n      <td>4.0</td>\n    </tr>\n  </tbody>\n</table>\n<p>48744 rows × 121 columns</p>\n</div>"
     },
     "execution_count": 24,
     "metadata": {},
     "output_type": "execute_result"
    }
   ],
   "source": [
    "application_test"
   ],
   "metadata": {
    "collapsed": false,
    "pycharm": {
     "name": "#%%\n"
    }
   }
  },
  {
   "cell_type": "code",
   "execution_count": 25,
   "outputs": [
    {
     "data": {
      "text/plain": "0    282686\n1     24825\nName: TARGET, dtype: int64"
     },
     "execution_count": 25,
     "metadata": {},
     "output_type": "execute_result"
    }
   ],
   "source": [
    "application_train['TARGET'].value_counts()"
   ],
   "metadata": {
    "collapsed": false,
    "pycharm": {
     "name": "#%%\n"
    }
   }
  },
  {
   "cell_type": "code",
   "execution_count": 26,
   "outputs": [
    {
     "data": {
      "text/plain": "{'TARGET'}"
     },
     "execution_count": 26,
     "metadata": {},
     "output_type": "execute_result"
    }
   ],
   "source": [
    "set(application_train.columns) - set(application_test.columns)"
   ],
   "metadata": {
    "collapsed": false,
    "pycharm": {
     "name": "#%%\n"
    }
   }
  },
  {
   "cell_type": "code",
   "execution_count": 27,
   "outputs": [
    {
     "data": {
      "text/plain": "0         1\n1         0\n2         0\n3         0\n4         0\n         ..\n307506    0\n307507    0\n307508    0\n307509    1\n307510    0\nName: TARGET, Length: 307511, dtype: int64"
     },
     "execution_count": 27,
     "metadata": {},
     "output_type": "execute_result"
    }
   ],
   "source": [
    "application_train['TARGET']"
   ],
   "metadata": {
    "collapsed": false,
    "pycharm": {
     "name": "#%%\n"
    }
   }
  },
  {
   "cell_type": "code",
   "execution_count": 28,
   "outputs": [
    {
     "data": {
      "text/plain": "<AxesSubplot:xlabel='TARGET', ylabel='Count'>"
     },
     "execution_count": 28,
     "metadata": {},
     "output_type": "execute_result"
    },
    {
     "data": {
      "text/plain": "<Figure size 432x288 with 1 Axes>",
      "image/png": "[encoded data removed]"
     },
     "metadata": {},
     "output_type": "display_data"
    }
   ],
   "source": [
    "sns.histplot(data=application_train, x=\"TARGET\")"
   ],
   "metadata": {
    "collapsed": false,
    "pycharm": {
     "name": "#%%\n"
    }
   }
  },
  {
   "cell_type": "code",
   "execution_count": 29,
   "outputs": [
    {
     "data": {
      "text/plain": "['Solarize_Light2',\n '_classic_test_patch',\n 'bmh',\n 'classic',\n 'dark_background',\n 'fast',\n 'fivethirtyeight',\n 'ggplot',\n 'grayscale',\n 'seaborn',\n 'seaborn-bright',\n 'seaborn-colorblind',\n 'seaborn-dark',\n 'seaborn-dark-palette',\n 'seaborn-darkgrid',\n 'seaborn-deep',\n 'seaborn-muted',\n 'seaborn-notebook',\n 'seaborn-paper',\n 'seaborn-pastel',\n 'seaborn-poster',\n 'seaborn-talk',\n 'seaborn-ticks',\n 'seaborn-white',\n 'seaborn-whitegrid',\n 'tableau-colorblind10']"
     },
     "execution_count": 29,
     "metadata": {},
     "output_type": "execute_result"
    }
   ],
   "source": [
    "plt.style.available"
   ],
   "metadata": {
    "collapsed": false,
    "pycharm": {
     "name": "#%%\n"
    }
   }
  },
  {
   "cell_type": "code",
   "execution_count": 30,
   "outputs": [
    {
     "data": {
      "text/plain": "<Figure size 432x288 with 1 Axes>",
      "image/png": "[encoded data removed]"
     },
     "metadata": {},
     "output_type": "display_data"
    }
   ],
   "source": [
    "sns.histplot(data=application_train, x=\"TARGET\")\n",
    "plt.title('')\n",
    "plt.show()"
   ],
   "metadata": {
    "collapsed": false,
    "pycharm": {
     "name": "#%%\n"
    }
   }
  },
  {
   "cell_type": "code",
   "execution_count": 31,
   "outputs": [
    {
     "data": {
      "text/plain": "<Figure size 432x288 with 1 Axes>",
      "image/png": "[encoded data removed]"
     },
     "metadata": {},
     "output_type": "display_data"
    }
   ],
   "source": [
    "g = sns.histplot(data=application_train, x=\"AMT_INCOME_TOTAL\")\n",
    "g.set_yscale(\"log\")\n",
    "g.set_xscale(\"log\")\n",
    "plt.title('')\n",
    "plt.show()"
   ],
   "metadata": {
    "collapsed": false,
    "pycharm": {
     "name": "#%%\n"
    }
   }
  },
  {
   "cell_type": "code",
   "execution_count": 32,
   "outputs": [
    {
     "data": {
      "text/plain": "81000.0"
     },
     "execution_count": 32,
     "metadata": {},
     "output_type": "execute_result"
    }
   ],
   "source": [
    "application_train['AMT_INCOME_TOTAL'].quantile(.1)"
   ],
   "metadata": {
    "collapsed": false,
    "pycharm": {
     "name": "#%%\n"
    }
   }
  },
  {
   "cell_type": "code",
   "execution_count": 33,
   "outputs": [
    {
     "data": {
      "text/plain": "99000.0"
     },
     "execution_count": 33,
     "metadata": {},
     "output_type": "execute_result"
    }
   ],
   "source": [
    "application_train['AMT_INCOME_TOTAL'].quantile(.2)"
   ],
   "metadata": {
    "collapsed": false,
    "pycharm": {
     "name": "#%%\n"
    }
   }
  },
  {
   "cell_type": "code",
   "execution_count": 34,
   "outputs": [
    {
     "data": {
      "text/plain": "0.1     81000.0\n0.2     99000.0\n0.3    112500.0\nName: AMT_INCOME_TOTAL, dtype: float64"
     },
     "execution_count": 34,
     "metadata": {},
     "output_type": "execute_result"
    }
   ],
   "source": [
    "application_train['AMT_INCOME_TOTAL'].quantile([.1, .2, .3])\n"
   ],
   "metadata": {
    "collapsed": false,
    "pycharm": {
     "name": "#%%\n"
    }
   }
  },
  {
   "cell_type": "code",
   "execution_count": 38,
   "outputs": [
    {
     "data": {
      "text/plain": "0.0        25650.0\n0.1        81000.0\n0.2        99000.0\n0.3       112500.0\n0.4       135000.0\n0.5       147150.0\n0.6       162000.0\n0.7       180000.0\n0.8       225000.0\n0.9       270000.0\n1.0    117000000.0\nName: AMT_INCOME_TOTAL, dtype: float64"
     },
     "execution_count": 38,
     "metadata": {},
     "output_type": "execute_result"
    }
   ],
   "source": [
    "income_application_train['AMT_INCOME_TOTAL'].quantile(np.arange(0, 1.1, .1))"
   ],
   "metadata": {
    "collapsed": false,
    "pycharm": {
     "name": "#%%\n"
    }
   }
  },
  {
   "cell_type": "code",
   "execution_count": 41,
   "outputs": [
    {
     "data": {
      "text/plain": "963"
     },
     "execution_count": 41,
     "metadata": {},
     "output_type": "execute_result"
    }
   ],
   "source": [
    "application_train['AMT_INCOME_TOTAL'].apply(lambda x: 20000 <= x < 40000).sum()"
   ],
   "metadata": {
    "collapsed": false,
    "pycharm": {
     "name": "#%%\n"
    }
   }
  },
  {
   "cell_type": "code",
   "execution_count": 70,
   "outputs": [],
   "source": [
    "lower_bound_income = np.arange(0, 300, 20)\n",
    "upper_bound_income = [u + 20 for u in lower_bound_income]\n",
    "upper_bound_income[-1] = np.inf"
   ],
   "metadata": {
    "collapsed": false,
    "pycharm": {
     "name": "#%%\n"
    }
   }
  },
  {
   "cell_type": "code",
   "execution_count": 71,
   "outputs": [],
   "source": [
    "range_name = []\n",
    "effectifs = []\n",
    "\n",
    "for low, up in zip(lower_bound_income, upper_bound_income):\n",
    "    range_name.append(str(low) + 'k' + '-' + str(up) + 'k')\n",
    "    effectifs.append(application_train['AMT_INCOME_TOTAL'].apply(lambda x: 1000*low <= x < 1000*up).sum())"
   ],
   "metadata": {
    "collapsed": false,
    "pycharm": {
     "name": "#%%\n"
    }
   }
  },
  {
   "cell_type": "code",
   "execution_count": 72,
   "outputs": [
    {
     "data": {
      "text/plain": "<Figure size 432x288 with 1 Axes>",
      "image/png": "[encoded data removed]"
     },
     "metadata": {},
     "output_type": "display_data"
    }
   ],
   "source": [
    "sns.barplot(x=range_name, y=effectifs)\n",
    "plt.xticks(rotation=45)\n",
    "plt.show()"
   ],
   "metadata": {
    "collapsed": false,
    "pycharm": {
     "name": "#%%\n"
    }
   }
  },
  {
   "cell_type": "code",
   "execution_count": 80,
   "outputs": [
    {
     "data": {
      "text/plain": "{'Cash loans', 'Revolving loans'}"
     },
     "execution_count": 80,
     "metadata": {},
     "output_type": "execute_result"
    }
   ],
   "source": [
    "set(application_train['NAME_CONTRACT_TYPE'])"
   ],
   "metadata": {
    "collapsed": false,
    "pycharm": {
     "name": "#%%\n"
    }
   }
  },
  {
   "cell_type": "code",
   "execution_count": 81,
   "outputs": [
    {
     "data": {
      "text/plain": "{'F', 'M', 'XNA'}"
     },
     "execution_count": 81,
     "metadata": {},
     "output_type": "execute_result"
    }
   ],
   "source": [
    "set(application_train['CODE_GENDER'])"
   ],
   "metadata": {
    "collapsed": false,
    "pycharm": {
     "name": "#%%\n"
    }
   }
  },
  {
   "cell_type": "code",
   "execution_count": 114,
   "outputs": [],
   "source": [
    "width_income_group = 20000\n",
    "width_income_group_k = int(width_income_group // 1000)\n",
    "max_income_group = 20\n",
    "application_train['income_group'] = application_train['AMT_INCOME_TOTAL'].astype(int) // width_income_group\n",
    "application_train['income_group'] = application_train['income_group'].apply(lambda x: min(x, max_income_group))"
   ],
   "metadata": {
    "collapsed": false,
    "pycharm": {
     "name": "#%%\n"
    }
   }
  },
  {
   "cell_type": "code",
   "execution_count": 164,
   "outputs": [],
   "source": [
    "fails = pd.DataFrame(application_train[application_train['TARGET'] == 1]['income_group'].value_counts().sort_index().rename('nb_loans'))\n",
    "fails['status'] = 'fail'\n",
    "success = pd.DataFrame(application_train[application_train['TARGET'] == 0]['income_group'].value_counts().sort_index().rename('nb_loans'))\n",
    "success['status'] = 'success'\n",
    "to_plot = pd.concat([fails, success])"
   ],
   "metadata": {
    "collapsed": false,
    "pycharm": {
     "name": "#%%\n"
    }
   }
  },
  {
   "cell_type": "code",
   "execution_count": 167,
   "outputs": [],
   "source": [
    "labels = [str(width_income_group_k * x) + 'k-' + str(width_income_group_k * (x+1)) + 'k' for x in to_plot.index]\n",
    "max_income = labels[-1]\n",
    "labels = [((labels[-1].split('-')[0] + '+') if l == max_income else l)for l in labels]\n",
    "to_plot.index = labels\n",
    "to_plot = to_plot.reset_index().rename(columns={'index': 'income_group'})"
   ],
   "metadata": {
    "collapsed": false,
    "pycharm": {
     "name": "#%%\n"
    }
   }
  },
  {
   "cell_type": "code",
   "execution_count": 168,
   "outputs": [
    {
     "data": {
      "text/plain": "   income_group  nb_loans   status\n0       20k-40k        80     fail\n1       40k-60k       558     fail\n2       60k-80k      1531     fail\n3      80k-100k      3056     fail\n4     100k-120k      3461     fail\n5     120k-140k      3991     fail\n6     140k-160k      2860     fail\n7     160k-180k       635     fail\n8     180k-200k      2379     fail\n9     200k-220k      1601     fail\n10    220k-240k      1712     fail\n11    240k-260k       498     fail\n12    260k-280k       822     fail\n13    280k-300k       288     fail\n14    300k-320k       403     fail\n15    320k-340k       134     fail\n16    340k-360k        23     fail\n17    360k-380k       245     fail\n18    380k-400k        80     fail\n19        400k+       468     fail\n20      20k-40k       883  success\n21      40k-60k      7031  success\n22      60k-80k     17280  success\n23     80k-100k     33279  success\n24    100k-120k     36178  success\n25    120k-140k     43047  success\n26    140k-160k     29892  success\n27    160k-180k      7103  success\n28    180k-200k     26352  success\n29    200k-220k     18066  success\n30    220k-240k     20940  success\n31    240k-260k      6392  success\n32    260k-280k     11128  success\n33    280k-300k      3729  success\n34    300k-320k      6195  success\n35    320k-340k      1978  success\n36    340k-360k       389  success\n37    360k-380k      4113  success\n38    380k-400k      1116  success\n39        400k+      7595  success",
      "text/html": "<div>\n<style scoped>\n    .dataframe tbody tr th:only-of-type {\n        vertical-align: middle;\n    }\n\n    .dataframe tbody tr th {\n        vertical-align: top;\n    }\n\n    .dataframe thead th {\n        text-align: right;\n    }\n</style>\n<table border=\"1\" class=\"dataframe\">\n  <thead>\n    <tr style=\"text-align: right;\">\n      <th></th>\n      <th>income_group</th>\n      <th>nb_loans</th>\n      <th>status</th>\n    </tr>\n  </thead>\n  <tbody>\n    <tr>\n      <th>0</th>\n      <td>20k-40k</td>\n      <td>80</td>\n      <td>fail</td>\n    </tr>\n    <tr>\n      <th>1</th>\n      <td>40k-60k</td>\n      <td>558</td>\n      <td>fail</td>\n    </tr>\n    <tr>\n      <th>2</th>\n      <td>60k-80k</td>\n      <td>1531</td>\n      <td>fail</td>\n    </tr>\n    <tr>\n      <th>3</th>\n      <td>80k-100k</td>\n      <td>3056</td>\n      <td>fail</td>\n    </tr>\n    <tr>\n      <th>4</th>\n      <td>100k-120k</td>\n      <td>3461</td>\n      <td>fail</td>\n    </tr>\n    <tr>\n      <th>5</th>\n      <td>120k-140k</td>\n      <td>3991</td>\n      <td>fail</td>\n    </tr>\n    <tr>\n      <th>6</th>\n      <td>140k-160k</td>\n      <td>2860</td>\n      <td>fail</td>\n    </tr>\n    <tr>\n      <th>7</th>\n      <td>160k-180k</td>\n      <td>635</td>\n      <td>fail</td>\n    </tr>\n    <tr>\n      <th>8</th>\n      <td>180k-200k</td>\n      <td>2379</td>\n      <td>fail</td>\n    </tr>\n    <tr>\n      <th>9</th>\n      <td>200k-220k</td>\n      <td>1601</td>\n      <td>fail</td>\n    </tr>\n    <tr>\n      <th>10</th>\n      <td>220k-240k</td>\n      <td>1712</td>\n      <td>fail</td>\n    </tr>\n    <tr>\n      <th>11</th>\n      <td>240k-260k</td>\n      <td>498</td>\n      <td>fail</td>\n    </tr>\n    <tr>\n      <th>12</th>\n      <td>260k-280k</td>\n      <td>822</td>\n      <td>fail</td>\n    </tr>\n    <tr>\n      <th>13</th>\n      <td>280k-300k</td>\n      <td>288</td>\n      <td>fail</td>\n    </tr>\n    <tr>\n      <th>14</th>\n      <td>300k-320k</td>\n      <td>403</td>\n      <td>fail</td>\n    </tr>\n    <tr>\n      <th>15</th>\n      <td>320k-340k</td>\n      <td>134</td>\n      <td>fail</td>\n    </tr>\n    <tr>\n      <th>16</th>\n      <td>340k-360k</td>\n      <td>23</td>\n      <td>fail</td>\n    </tr>\n    <tr>\n      <th>17</th>\n      <td>360k-380k</td>\n      <td>245</td>\n      <td>fail</td>\n    </tr>\n    <tr>\n      <th>18</th>\n      <td>380k-400k</td>\n      <td>80</td>\n      <td>fail</td>\n    </tr>\n    <tr>\n      <th>19</th>\n      <td>400k+</td>\n      <td>468</td>\n      <td>fail</td>\n    </tr>\n    <tr>\n      <th>20</th>\n      <td>20k-40k</td>\n      <td>883</td>\n      <td>success</td>\n    </tr>\n    <tr>\n      <th>21</th>\n      <td>40k-60k</td>\n      <td>7031</td>\n      <td>success</td>\n    </tr>\n    <tr>\n      <th>22</th>\n      <td>60k-80k</td>\n      <td>17280</td>\n      <td>success</td>\n    </tr>\n    <tr>\n      <th>23</th>\n      <td>80k-100k</td>\n      <td>33279</td>\n      <td>success</td>\n    </tr>\n    <tr>\n      <th>24</th>\n      <td>100k-120k</td>\n      <td>36178</td>\n      <td>success</td>\n    </tr>\n    <tr>\n      <th>25</th>\n      <td>120k-140k</td>\n      <td>43047</td>\n      <td>success</td>\n    </tr>\n    <tr>\n      <th>26</th>\n      <td>140k-160k</td>\n      <td>29892</td>\n      <td>success</td>\n    </tr>\n    <tr>\n      <th>27</th>\n      <td>160k-180k</td>\n      <td>7103</td>\n      <td>success</td>\n    </tr>\n    <tr>\n      <th>28</th>\n      <td>180k-200k</td>\n      <td>26352</td>\n      <td>success</td>\n    </tr>\n    <tr>\n      <th>29</th>\n      <td>200k-220k</td>\n      <td>18066</td>\n      <td>success</td>\n    </tr>\n    <tr>\n      <th>30</th>\n      <td>220k-240k</td>\n      <td>20940</td>\n      <td>success</td>\n    </tr>\n    <tr>\n      <th>31</th>\n      <td>240k-260k</td>\n      <td>6392</td>\n      <td>success</td>\n    </tr>\n    <tr>\n      <th>32</th>\n      <td>260k-280k</td>\n      <td>11128</td>\n      <td>success</td>\n    </tr>\n    <tr>\n      <th>33</th>\n      <td>280k-300k</td>\n      <td>3729</td>\n      <td>success</td>\n    </tr>\n    <tr>\n      <th>34</th>\n      <td>300k-320k</td>\n      <td>6195</td>\n      <td>success</td>\n    </tr>\n    <tr>\n      <th>35</th>\n      <td>320k-340k</td>\n      <td>1978</td>\n      <td>success</td>\n    </tr>\n    <tr>\n      <th>36</th>\n      <td>340k-360k</td>\n      <td>389</td>\n      <td>success</td>\n    </tr>\n    <tr>\n      <th>37</th>\n      <td>360k-380k</td>\n      <td>4113</td>\n      <td>success</td>\n    </tr>\n    <tr>\n      <th>38</th>\n      <td>380k-400k</td>\n      <td>1116</td>\n      <td>success</td>\n    </tr>\n    <tr>\n      <th>39</th>\n      <td>400k+</td>\n      <td>7595</td>\n      <td>success</td>\n    </tr>\n  </tbody>\n</table>\n</div>"
     },
     "execution_count": 168,
     "metadata": {},
     "output_type": "execute_result"
    }
   ],
   "source": [
    "to_plot"
   ],
   "metadata": {
    "collapsed": false,
    "pycharm": {
     "name": "#%%\n"
    }
   }
  },
  {
   "cell_type": "code",
   "execution_count": 203,
   "outputs": [
    {
     "data": {
      "application/vnd.plotly.v1+json": {
       "data": [
        {
         "hovertemplate": "status=fail<br>income_group=%{x}<br>nb_loans=%{y}<extra></extra>",
         "name": "fail",
         "x": [
          "20k-40k",
          "40k-60k",
          "60k-80k",
          "80k-100k",
          "100k-120k",
          "120k-140k",
          "140k-160k",
          "160k-180k",
          "180k-200k",
          "200k-220k",
          "220k-240k",
          "240k-260k",
          "260k-280k",
          "280k-300k",
          "300k-320k",
          "320k-340k",
          "340k-360k",
          "360k-380k",
          "380k-400k",
          "400k+"
         ],
         "y": [
          80,
          558,
          1531,
          3056,
          3461,
          3991,
          2860,
          635,
          2379,
          1601,
          1712,
          498,
          822,
          288,
          403,
          134,
          23,
          245,
          80,
          468
         ],
         "type": "bar"
        },
        {
         "hovertemplate": "status=success<br>income_group=%{x}<br>nb_loans=%{y}<extra></extra>",
         "name": "success",
         "x": [
          "20k-40k",
          "40k-60k",
          "60k-80k",
          "80k-100k",
          "100k-120k",
          "120k-140k",
          "140k-160k",
          "160k-180k",
          "180k-200k",
          "200k-220k",
          "220k-240k",
          "240k-260k",
          "260k-280k",
          "280k-300k",
          "300k-320k",
          "320k-340k",
          "340k-360k",
          "360k-380k",
          "380k-400k",
          "400k+"
         ],
         "y": [
          883,
          7031,
          17280,
          33279,
          36178,
          43047,
          29892,
          7103,
          26352,
          18066,
          20940,
          6392,
          11128,
          3729,
          6195,
          1978,
          389,
          4113,
          1116,
          7595
         ],
         "type": "bar"
        }
       ],
       "layout": {
        "template": {
         "data": {
          "bar": [
           {
            "error_x": {
             "color": "#2a3f5f"
            },
            "error_y": {
             "color": "#2a3f5f"
            },
            "marker": {
             "line": {
              "color": "#E5ECF6",
              "width": 0.5
             },
             "pattern": {
              "fillmode": "overlay",
              "size": 10,
              "solidity": 0.2
             }
            },
            "type": "bar"
           }
          ],
          "barpolar": [
           {
            "marker": {
             "line": {
              "color": "#E5ECF6",
              "width": 0.5
             },
             "pattern": {
              "fillmode": "overlay",
              "size": 10,
              "solidity": 0.2
             }
            },
            "type": "barpolar"
           }
          ],
          "carpet": [
           {
            "aaxis": {
             "endlinecolor": "#2a3f5f",
             "gridcolor": "white",
             "linecolor": "white",
             "minorgridcolor": "white",
             "startlinecolor": "#2a3f5f"
            },
            "baxis": {
             "endlinecolor": "#2a3f5f",
             "gridcolor": "white",
             "linecolor": "white",
             "minorgridcolor": "white",
             "startlinecolor": "#2a3f5f"
            },
            "type": "carpet"
           }
          ],
          "choropleth": [
           {
            "colorbar": {
             "outlinewidth": 0,
             "ticks": ""
            },
            "type": "choropleth"
           }
          ],
          "contour": [
           {
            "colorbar": {
             "outlinewidth": 0,
             "ticks": ""
            },
            "colorscale": [
             [
              0.0,
              "#0d0887"
             ],
             [
              0.1111111111111111,
              "#46039f"
             ],
             [
              0.2222222222222222,
              "#7201a8"
             ],
             [
              0.3333333333333333,
              "#9c179e"
             ],
             [
              0.4444444444444444,
              "#bd3786"
             ],
             [
              0.5555555555555556,
              "#d8576b"
             ],
             [
              0.6666666666666666,
              "#ed7953"
             ],
             [
              0.7777777777777778,
              "#fb9f3a"
             ],
             [
              0.8888888888888888,
              "#fdca26"
             ],
             [
              1.0,
              "#f0f921"
             ]
            ],
            "type": "contour"
           }
          ],
          "contourcarpet": [
           {
            "colorbar": {
             "outlinewidth": 0,
             "ticks": ""
            },
            "type": "contourcarpet"
           }
          ],
          "heatmap": [
           {
            "colorbar": {
             "outlinewidth": 0,
             "ticks": ""
            },
            "colorscale": [
             [
              0.0,
              "#0d0887"
             ],
             [
              0.1111111111111111,
              "#46039f"
             ],
             [
              0.2222222222222222,
              "#7201a8"
             ],
             [
              0.3333333333333333,
              "#9c179e"
             ],
             [
              0.4444444444444444,
              "#bd3786"
             ],
             [
              0.5555555555555556,
              "#d8576b"
             ],
             [
              0.6666666666666666,
              "#ed7953"
             ],
             [
              0.7777777777777778,
              "#fb9f3a"
             ],
             [
              0.8888888888888888,
              "#fdca26"
             ],
             [
              1.0,
              "#f0f921"
             ]
            ],
            "type": "heatmap"
           }
          ],
          "heatmapgl": [
           {
            "colorbar": {
             "outlinewidth": 0,
             "ticks": ""
            },
            "colorscale": [
             [
              0.0,
              "#0d0887"
             ],
             [
              0.1111111111111111,
              "#46039f"
             ],
             [
              0.2222222222222222,
              "#7201a8"
             ],
             [
              0.3333333333333333,
              "#9c179e"
             ],
             [
              0.4444444444444444,
              "#bd3786"
             ],
             [
              0.5555555555555556,
              "#d8576b"
             ],
             [
              0.6666666666666666,
              "#ed7953"
             ],
             [
              0.7777777777777778,
              "#fb9f3a"
             ],
             [
              0.8888888888888888,
              "#fdca26"
             ],
             [
              1.0,
              "#f0f921"
             ]
            ],
            "type": "heatmapgl"
           }
          ],
          "histogram": [
           {
            "marker": {
             "pattern": {
              "fillmode": "overlay",
              "size": 10,
              "solidity": 0.2
             }
            },
            "type": "histogram"
           }
          ],
          "histogram2d": [
           {
            "colorbar": {
             "outlinewidth": 0,
             "ticks": ""
            },
            "colorscale": [
             [
              0.0,
              "#0d0887"
             ],
             [
              0.1111111111111111,
              "#46039f"
             ],
             [
              0.2222222222222222,
              "#7201a8"
             ],
             [
              0.3333333333333333,
              "#9c179e"
             ],
             [
              0.4444444444444444,
              "#bd3786"
             ],
             [
              0.5555555555555556,
              "#d8576b"
             ],
             [
              0.6666666666666666,
              "#ed7953"
             ],
             [
              0.7777777777777778,
              "#fb9f3a"
             ],
             [
              0.8888888888888888,
              "#fdca26"
             ],
             [
              1.0,
              "#f0f921"
             ]
            ],
            "type": "histogram2d"
           }
          ],
          "histogram2dcontour": [
           {
            "colorbar": {
             "outlinewidth": 0,
             "ticks": ""
            },
            "colorscale": [
             [
              0.0,
              "#0d0887"
             ],
             [
              0.1111111111111111,
              "#46039f"
             ],
             [
              0.2222222222222222,
              "#7201a8"
             ],
             [
              0.3333333333333333,
              "#9c179e"
             ],
             [
              0.4444444444444444,
              "#bd3786"
             ],
             [
              0.5555555555555556,
              "#d8576b"
             ],
             [
              0.6666666666666666,
              "#ed7953"
             ],
             [
              0.7777777777777778,
              "#fb9f3a"
             ],
             [
              0.8888888888888888,
              "#fdca26"
             ],
             [
              1.0,
              "#f0f921"
             ]
            ],
            "type": "histogram2dcontour"
           }
          ],
          "mesh3d": [
           {
            "colorbar": {
             "outlinewidth": 0,
             "ticks": ""
            },
            "type": "mesh3d"
           }
          ],
          "parcoords": [
           {
            "line": {
             "colorbar": {
              "outlinewidth": 0,
              "ticks": ""
             }
            },
            "type": "parcoords"
           }
          ],
          "pie": [
           {
            "automargin": true,
            "type": "pie"
           }
          ],
          "scatter": [
           {
            "marker": {
             "colorbar": {
              "outlinewidth": 0,
              "ticks": ""
             }
            },
            "type": "scatter"
           }
          ],
          "scatter3d": [
           {
            "line": {
             "colorbar": {
              "outlinewidth": 0,
              "ticks": ""
             }
            },
            "marker": {
             "colorbar": {
              "outlinewidth": 0,
              "ticks": ""
             }
            },
            "type": "scatter3d"
           }
          ],
          "scattercarpet": [
           {
            "marker": {
             "colorbar": {
              "outlinewidth": 0,
              "ticks": ""
             }
            },
            "type": "scattercarpet"
           }
          ],
          "scattergeo": [
           {
            "marker": {
             "colorbar": {
              "outlinewidth": 0,
              "ticks": ""
             }
            },
            "type": "scattergeo"
           }
          ],
          "scattergl": [
           {
            "marker": {
             "colorbar": {
              "outlinewidth": 0,
              "ticks": ""
             }
            },
            "type": "scattergl"
           }
          ],
          "scattermapbox": [
           {
            "marker": {
             "colorbar": {
              "outlinewidth": 0,
              "ticks": ""
             }
            },
            "type": "scattermapbox"
           }
          ],
          "scatterpolar": [
           {
            "marker": {
             "colorbar": {
              "outlinewidth": 0,
              "ticks": ""
             }
            },
            "type": "scatterpolar"
           }
          ],
          "scatterpolargl": [
           {
            "marker": {
             "colorbar": {
              "outlinewidth": 0,
              "ticks": ""
             }
            },
            "type": "scatterpolargl"
           }
          ],
          "scatterternary": [
           {
            "marker": {
             "colorbar": {
              "outlinewidth": 0,
              "ticks": ""
             }
            },
            "type": "scatterternary"
           }
          ],
          "surface": [
           {
            "colorbar": {
             "outlinewidth": 0,
             "ticks": ""
            },
            "colorscale": [
             [
              0.0,
              "#0d0887"
             ],
             [
              0.1111111111111111,
              "#46039f"
             ],
             [
              0.2222222222222222,
              "#7201a8"
             ],
             [
              0.3333333333333333,
              "#9c179e"
             ],
             [
              0.4444444444444444,
              "#bd3786"
             ],
             [
              0.5555555555555556,
              "#d8576b"
             ],
             [
              0.6666666666666666,
              "#ed7953"
             ],
             [
              0.7777777777777778,
              "#fb9f3a"
             ],
             [
              0.8888888888888888,
              "#fdca26"
             ],
             [
              1.0,
              "#f0f921"
             ]
            ],
            "type": "surface"
           }
          ],
          "table": [
           {
            "cells": {
             "fill": {
              "color": "#EBF0F8"
             },
             "line": {
              "color": "white"
             }
            },
            "header": {
             "fill": {
              "color": "#C8D4E3"
             },
             "line": {
              "color": "white"
             }
            },
            "type": "table"
           }
          ]
         },
         "layout": {
          "annotationdefaults": {
           "arrowcolor": "#2a3f5f",
           "arrowhead": 0,
           "arrowwidth": 1
          },
          "autotypenumbers": "strict",
          "coloraxis": {
           "colorbar": {
            "outlinewidth": 0,
            "ticks": ""
           }
          },
          "colorscale": {
           "diverging": [
            [
             0,
             "#8e0152"
            ],
            [
             0.1,
             "#c51b7d"
            ],
            [
             0.2,
             "#de77ae"
            ],
            [
             0.3,
             "#f1b6da"
            ],
            [
             0.4,
             "#fde0ef"
            ],
            [
             0.5,
             "#f7f7f7"
            ],
            [
             0.6,
             "#e6f5d0"
            ],
            [
             0.7,
             "#b8e186"
            ],
            [
             0.8,
             "#7fbc41"
            ],
            [
             0.9,
             "#4d9221"
            ],
            [
             1,
             "#276419"
            ]
           ],
           "sequential": [
            [
             0.0,
             "#0d0887"
            ],
            [
             0.1111111111111111,
             "#46039f"
            ],
            [
             0.2222222222222222,
             "#7201a8"
            ],
            [
             0.3333333333333333,
             "#9c179e"
            ],
            [
             0.4444444444444444,
             "#bd3786"
            ],
            [
             0.5555555555555556,
             "#d8576b"
            ],
            [
             0.6666666666666666,
             "#ed7953"
            ],
            [
             0.7777777777777778,
             "#fb9f3a"
            ],
            [
             0.8888888888888888,
             "#fdca26"
            ],
            [
             1.0,
             "#f0f921"
            ]
           ],
           "sequentialminus": [
            [
             0.0,
             "#0d0887"
            ],
            [
             0.1111111111111111,
             "#46039f"
            ],
            [
             0.2222222222222222,
             "#7201a8"
            ],
            [
             0.3333333333333333,
             "#9c179e"
            ],
            [
             0.4444444444444444,
             "#bd3786"
            ],
            [
             0.5555555555555556,
             "#d8576b"
            ],
            [
             0.6666666666666666,
             "#ed7953"
            ],
            [
             0.7777777777777778,
             "#fb9f3a"
            ],
            [
             0.8888888888888888,
             "#fdca26"
            ],
            [
             1.0,
             "#f0f921"
            ]
           ]
          },
          "colorway": [
           "#636efa",
           "#EF553B",
           "#00cc96",
           "#ab63fa",
           "#FFA15A",
           "#19d3f3",
           "#FF6692",
           "#B6E880",
           "#FF97FF",
           "#FECB52"
          ],
          "font": {
           "color": "#2a3f5f"
          },
          "geo": {
           "bgcolor": "white",
           "lakecolor": "white",
           "landcolor": "#E5ECF6",
           "showlakes": true,
           "showland": true,
           "subunitcolor": "white"
          },
          "hoverlabel": {
           "align": "left"
          },
          "hovermode": "closest",
          "mapbox": {
           "style": "light"
          },
          "paper_bgcolor": "white",
          "plot_bgcolor": "#E5ECF6",
          "polar": {
           "angularaxis": {
            "gridcolor": "white",
            "linecolor": "white",
            "ticks": ""
           },
           "bgcolor": "#E5ECF6",
           "radialaxis": {
            "gridcolor": "white",
            "linecolor": "white",
            "ticks": ""
           }
          },
          "scene": {
           "xaxis": {
            "backgroundcolor": "#E5ECF6",
            "gridcolor": "white",
            "gridwidth": 2,
            "linecolor": "white",
            "showbackground": true,
            "ticks": "",
            "zerolinecolor": "white"
           },
           "yaxis": {
            "backgroundcolor": "#E5ECF6",
            "gridcolor": "white",
            "gridwidth": 2,
            "linecolor": "white",
            "showbackground": true,
            "ticks": "",
            "zerolinecolor": "white"
           },
           "zaxis": {
            "backgroundcolor": "#E5ECF6",
            "gridcolor": "white",
            "gridwidth": 2,
            "linecolor": "white",
            "showbackground": true,
            "ticks": "",
            "zerolinecolor": "white"
           }
          },
          "shapedefaults": {
           "line": {
            "color": "#2a3f5f"
           }
          },
          "ternary": {
           "aaxis": {
            "gridcolor": "white",
            "linecolor": "white",
            "ticks": ""
           },
           "baxis": {
            "gridcolor": "white",
            "linecolor": "white",
            "ticks": ""
           },
           "bgcolor": "#E5ECF6",
           "caxis": {
            "gridcolor": "white",
            "linecolor": "white",
            "ticks": ""
           }
          },
          "title": {
           "x": 0.05
          },
          "xaxis": {
           "automargin": true,
           "gridcolor": "white",
           "linecolor": "white",
           "ticks": "",
           "title": {
            "standoff": 15
           },
           "zerolinecolor": "white",
           "zerolinewidth": 2
          },
          "yaxis": {
           "automargin": true,
           "gridcolor": "white",
           "linecolor": "white",
           "ticks": "",
           "title": {
            "standoff": 15
           },
           "zerolinecolor": "white",
           "zerolinewidth": 2
          }
         }
        },
        "legend": {
         "title": {
          "text": "Status"
         }
        },
        "xaxis": {
         "title": {
          "text": "income_group"
         }
        },
        "yaxis": {
         "title": {
          "text": "nb_loans"
         }
        },
        "barmode": "stack"
       },
       "config": {
        "plotlyServerURL": "https://plot.ly"
       }
      },
      "text/html": "<div>                            <div id=\"3ba3e119-f8d4-45ff-b106-20a55acf61a1\" class=\"plotly-graph-div\" style=\"height:525px; width:100%;\"></div>            <script type=\"text/javascript\">                require([\"plotly\"], function(Plotly) {                    window.PLOTLYENV=window.PLOTLYENV || {};                                    if (document.getElementById(\"3ba3e119-f8d4-45ff-b106-20a55acf61a1\")) {                    Plotly.newPlot(                        \"3ba3e119-f8d4-45ff-b106-20a55acf61a1\",                        [{\"hovertemplate\":\"status=fail<br>income_group=%{x}<br>nb_loans=%{y}<extra></extra>\",\"name\":\"fail\",\"x\":[\"20k-40k\",\"40k-60k\",\"60k-80k\",\"80k-100k\",\"100k-120k\",\"120k-140k\",\"140k-160k\",\"160k-180k\",\"180k-200k\",\"200k-220k\",\"220k-240k\",\"240k-260k\",\"260k-280k\",\"280k-300k\",\"300k-320k\",\"320k-340k\",\"340k-360k\",\"360k-380k\",\"380k-400k\",\"400k+\"],\"y\":[80,558,1531,3056,3461,3991,2860,635,2379,1601,1712,498,822,288,403,134,23,245,80,468],\"type\":\"bar\"},{\"hovertemplate\":\"status=success<br>income_group=%{x}<br>nb_loans=%{y}<extra></extra>\",\"name\":\"success\",\"x\":[\"20k-40k\",\"40k-60k\",\"60k-80k\",\"80k-100k\",\"100k-120k\",\"120k-140k\",\"140k-160k\",\"160k-180k\",\"180k-200k\",\"200k-220k\",\"220k-240k\",\"240k-260k\",\"260k-280k\",\"280k-300k\",\"300k-320k\",\"320k-340k\",\"340k-360k\",\"360k-380k\",\"380k-400k\",\"400k+\"],\"y\":[883,7031,17280,33279,36178,43047,29892,7103,26352,18066,20940,6392,11128,3729,6195,1978,389,4113,1116,7595],\"type\":\"bar\"}],                        {\"template\":{\"data\":{\"bar\":[{\"error_x\":{\"color\":\"#2a3f5f\"},\"error_y\":{\"color\":\"#2a3f5f\"},\"marker\":{\"line\":{\"color\":\"#E5ECF6\",\"width\":0.5},\"pattern\":{\"fillmode\":\"overlay\",\"size\":10,\"solidity\":0.2}},\"type\":\"bar\"}],\"barpolar\":[{\"marker\":{\"line\":{\"color\":\"#E5ECF6\",\"width\":0.5},\"pattern\":{\"fillmode\":\"overlay\",\"size\":10,\"solidity\":0.2}},\"type\":\"barpolar\"}],\"carpet\":[{\"aaxis\":{\"endlinecolor\":\"#2a3f5f\",\"gridcolor\":\"white\",\"linecolor\":\"white\",\"minorgridcolor\":\"white\",\"startlinecolor\":\"#2a3f5f\"},\"baxis\":{\"endlinecolor\":\"#2a3f5f\",\"gridcolor\":\"white\",\"linecolor\":\"white\",\"minorgridcolor\":\"white\",\"startlinecolor\":\"#2a3f5f\"},\"type\":\"carpet\"}],\"choropleth\":[{\"colorbar\":{\"outlinewidth\":0,\"ticks\":\"\"},\"type\":\"choropleth\"}],\"contour\":[{\"colorbar\":{\"outlinewidth\":0,\"ticks\":\"\"},\"colorscale\":[[0.0,\"#0d0887\"],[0.1111111111111111,\"#46039f\"],[0.2222222222222222,\"#7201a8\"],[0.3333333333333333,\"#9c179e\"],[0.4444444444444444,\"#bd3786\"],[0.5555555555555556,\"#d8576b\"],[0.6666666666666666,\"#ed7953\"],[0.7777777777777778,\"#fb9f3a\"],[0.8888888888888888,\"#fdca26\"],[1.0,\"#f0f921\"]],\"type\":\"contour\"}],\"contourcarpet\":[{\"colorbar\":{\"outlinewidth\":0,\"ticks\":\"\"},\"type\":\"contourcarpet\"}],\"heatmap\":[{\"colorbar\":{\"outlinewidth\":0,\"ticks\":\"\"},\"colorscale\":[[0.0,\"#0d0887\"],[0.1111111111111111,\"#46039f\"],[0.2222222222222222,\"#7201a8\"],[0.3333333333333333,\"#9c179e\"],[0.4444444444444444,\"#bd3786\"],[0.5555555555555556,\"#d8576b\"],[0.6666666666666666,\"#ed7953\"],[0.7777777777777778,\"#fb9f3a\"],[0.8888888888888888,\"#fdca26\"],[1.0,\"#f0f921\"]],\"type\":\"heatmap\"}],\"heatmapgl\":[{\"colorbar\":{\"outlinewidth\":0,\"ticks\":\"\"},\"colorscale\":[[0.0,\"#0d0887\"],[0.1111111111111111,\"#46039f\"],[0.2222222222222222,\"#7201a8\"],[0.3333333333333333,\"#9c179e\"],[0.4444444444444444,\"#bd3786\"],[0.5555555555555556,\"#d8576b\"],[0.6666666666666666,\"#ed7953\"],[0.7777777777777778,\"#fb9f3a\"],[0.8888888888888888,\"#fdca26\"],[1.0,\"#f0f921\"]],\"type\":\"heatmapgl\"}],\"histogram\":[{\"marker\":{\"pattern\":{\"fillmode\":\"overlay\",\"size\":10,\"solidity\":0.2}},\"type\":\"histogram\"}],\"histogram2d\":[{\"colorbar\":{\"outlinewidth\":0,\"ticks\":\"\"},\"colorscale\":[[0.0,\"#0d0887\"],[0.1111111111111111,\"#46039f\"],[0.2222222222222222,\"#7201a8\"],[0.3333333333333333,\"#9c179e\"],[0.4444444444444444,\"#bd3786\"],[0.5555555555555556,\"#d8576b\"],[0.6666666666666666,\"#ed7953\"],[0.7777777777777778,\"#fb9f3a\"],[0.8888888888888888,\"#fdca26\"],[1.0,\"#f0f921\"]],\"type\":\"histogram2d\"}],\"histogram2dcontour\":[{\"colorbar\":{\"outlinewidth\":0,\"ticks\":\"\"},\"colorscale\":[[0.0,\"#0d0887\"],[0.1111111111111111,\"#46039f\"],[0.2222222222222222,\"#7201a8\"],[0.3333333333333333,\"#9c179e\"],[0.4444444444444444,\"#bd3786\"],[0.5555555555555556,\"#d8576b\"],[0.6666666666666666,\"#ed7953\"],[0.7777777777777778,\"#fb9f3a\"],[0.8888888888888888,\"#fdca26\"],[1.0,\"#f0f921\"]],\"type\":\"histogram2dcontour\"}],\"mesh3d\":[{\"colorbar\":{\"outlinewidth\":0,\"ticks\":\"\"},\"type\":\"mesh3d\"}],\"parcoords\":[{\"line\":{\"colorbar\":{\"outlinewidth\":0,\"ticks\":\"\"}},\"type\":\"parcoords\"}],\"pie\":[{\"automargin\":true,\"type\":\"pie\"}],\"scatter\":[{\"marker\":{\"colorbar\":{\"outlinewidth\":0,\"ticks\":\"\"}},\"type\":\"scatter\"}],\"scatter3d\":[{\"line\":{\"colorbar\":{\"outlinewidth\":0,\"ticks\":\"\"}},\"marker\":{\"colorbar\":{\"outlinewidth\":0,\"ticks\":\"\"}},\"type\":\"scatter3d\"}],\"scattercarpet\":[{\"marker\":{\"colorbar\":{\"outlinewidth\":0,\"ticks\":\"\"}},\"type\":\"scattercarpet\"}],\"scattergeo\":[{\"marker\":{\"colorbar\":{\"outlinewidth\":0,\"ticks\":\"\"}},\"type\":\"scattergeo\"}],\"scattergl\":[{\"marker\":{\"colorbar\":{\"outlinewidth\":0,\"ticks\":\"\"}},\"type\":\"scattergl\"}],\"scattermapbox\":[{\"marker\":{\"colorbar\":{\"outlinewidth\":0,\"ticks\":\"\"}},\"type\":\"scattermapbox\"}],\"scatterpolar\":[{\"marker\":{\"colorbar\":{\"outlinewidth\":0,\"ticks\":\"\"}},\"type\":\"scatterpolar\"}],\"scatterpolargl\":[{\"marker\":{\"colorbar\":{\"outlinewidth\":0,\"ticks\":\"\"}},\"type\":\"scatterpolargl\"}],\"scatterternary\":[{\"marker\":{\"colorbar\":{\"outlinewidth\":0,\"ticks\":\"\"}},\"type\":\"scatterternary\"}],\"surface\":[{\"colorbar\":{\"outlinewidth\":0,\"ticks\":\"\"},\"colorscale\":[[0.0,\"#0d0887\"],[0.1111111111111111,\"#46039f\"],[0.2222222222222222,\"#7201a8\"],[0.3333333333333333,\"#9c179e\"],[0.4444444444444444,\"#bd3786\"],[0.5555555555555556,\"#d8576b\"],[0.6666666666666666,\"#ed7953\"],[0.7777777777777778,\"#fb9f3a\"],[0.8888888888888888,\"#fdca26\"],[1.0,\"#f0f921\"]],\"type\":\"surface\"}],\"table\":[{\"cells\":{\"fill\":{\"color\":\"#EBF0F8\"},\"line\":{\"color\":\"white\"}},\"header\":{\"fill\":{\"color\":\"#C8D4E3\"},\"line\":{\"color\":\"white\"}},\"type\":\"table\"}]},\"layout\":{\"annotationdefaults\":{\"arrowcolor\":\"#2a3f5f\",\"arrowhead\":0,\"arrowwidth\":1},\"autotypenumbers\":\"strict\",\"coloraxis\":{\"colorbar\":{\"outlinewidth\":0,\"ticks\":\"\"}},\"colorscale\":{\"diverging\":[[0,\"#8e0152\"],[0.1,\"#c51b7d\"],[0.2,\"#de77ae\"],[0.3,\"#f1b6da\"],[0.4,\"#fde0ef\"],[0.5,\"#f7f7f7\"],[0.6,\"#e6f5d0\"],[0.7,\"#b8e186\"],[0.8,\"#7fbc41\"],[0.9,\"#4d9221\"],[1,\"#276419\"]],\"sequential\":[[0.0,\"#0d0887\"],[0.1111111111111111,\"#46039f\"],[0.2222222222222222,\"#7201a8\"],[0.3333333333333333,\"#9c179e\"],[0.4444444444444444,\"#bd3786\"],[0.5555555555555556,\"#d8576b\"],[0.6666666666666666,\"#ed7953\"],[0.7777777777777778,\"#fb9f3a\"],[0.8888888888888888,\"#fdca26\"],[1.0,\"#f0f921\"]],\"sequentialminus\":[[0.0,\"#0d0887\"],[0.1111111111111111,\"#46039f\"],[0.2222222222222222,\"#7201a8\"],[0.3333333333333333,\"#9c179e\"],[0.4444444444444444,\"#bd3786\"],[0.5555555555555556,\"#d8576b\"],[0.6666666666666666,\"#ed7953\"],[0.7777777777777778,\"#fb9f3a\"],[0.8888888888888888,\"#fdca26\"],[1.0,\"#f0f921\"]]},\"colorway\":[\"#636efa\",\"#EF553B\",\"#00cc96\",\"#ab63fa\",\"#FFA15A\",\"#19d3f3\",\"#FF6692\",\"#B6E880\",\"#FF97FF\",\"#FECB52\"],\"font\":{\"color\":\"#2a3f5f\"},\"geo\":{\"bgcolor\":\"white\",\"lakecolor\":\"white\",\"landcolor\":\"#E5ECF6\",\"showlakes\":true,\"showland\":true,\"subunitcolor\":\"white\"},\"hoverlabel\":{\"align\":\"left\"},\"hovermode\":\"closest\",\"mapbox\":{\"style\":\"light\"},\"paper_bgcolor\":\"white\",\"plot_bgcolor\":\"#E5ECF6\",\"polar\":{\"angularaxis\":{\"gridcolor\":\"white\",\"linecolor\":\"white\",\"ticks\":\"\"},\"bgcolor\":\"#E5ECF6\",\"radialaxis\":{\"gridcolor\":\"white\",\"linecolor\":\"white\",\"ticks\":\"\"}},\"scene\":{\"xaxis\":{\"backgroundcolor\":\"#E5ECF6\",\"gridcolor\":\"white\",\"gridwidth\":2,\"linecolor\":\"white\",\"showbackground\":true,\"ticks\":\"\",\"zerolinecolor\":\"white\"},\"yaxis\":{\"backgroundcolor\":\"#E5ECF6\",\"gridcolor\":\"white\",\"gridwidth\":2,\"linecolor\":\"white\",\"showbackground\":true,\"ticks\":\"\",\"zerolinecolor\":\"white\"},\"zaxis\":{\"backgroundcolor\":\"#E5ECF6\",\"gridcolor\":\"white\",\"gridwidth\":2,\"linecolor\":\"white\",\"showbackground\":true,\"ticks\":\"\",\"zerolinecolor\":\"white\"}},\"shapedefaults\":{\"line\":{\"color\":\"#2a3f5f\"}},\"ternary\":{\"aaxis\":{\"gridcolor\":\"white\",\"linecolor\":\"white\",\"ticks\":\"\"},\"baxis\":{\"gridcolor\":\"white\",\"linecolor\":\"white\",\"ticks\":\"\"},\"bgcolor\":\"#E5ECF6\",\"caxis\":{\"gridcolor\":\"white\",\"linecolor\":\"white\",\"ticks\":\"\"}},\"title\":{\"x\":0.05},\"xaxis\":{\"automargin\":true,\"gridcolor\":\"white\",\"linecolor\":\"white\",\"ticks\":\"\",\"title\":{\"standoff\":15},\"zerolinecolor\":\"white\",\"zerolinewidth\":2},\"yaxis\":{\"automargin\":true,\"gridcolor\":\"white\",\"linecolor\":\"white\",\"ticks\":\"\",\"title\":{\"standoff\":15},\"zerolinecolor\":\"white\",\"zerolinewidth\":2}}},\"legend\":{\"title\":{\"text\":\"Status\"}},\"xaxis\":{\"title\":{\"text\":\"income_group\"}},\"yaxis\":{\"title\":{\"text\":\"nb_loans\"}},\"barmode\":\"stack\"},                        {\"responsive\": true}                    ).then(function(){\n                            \nvar gd = document.getElementById('3ba3e119-f8d4-45ff-b106-20a55acf61a1');\nvar x = new MutationObserver(function (mutations, observer) {{\n        var display = window.getComputedStyle(gd).display;\n        if (!display || display === 'none') {{\n            console.log([gd, 'removed!']);\n            Plotly.purge(gd);\n            observer.disconnect();\n        }}\n}});\n\n// Listen for the removal of the full notebook cells\nvar notebookContainer = gd.closest('#notebook-container');\nif (notebookContainer) {{\n    x.observe(notebookContainer, {childList: true});\n}}\n\n// Listen for the clearing of the current output cell\nvar outputEl = gd.closest('.output');\nif (outputEl) {{\n    x.observe(outputEl, {childList: true});\n}}\n\n                        })                };                });            </script>        </div>"
     },
     "metadata": {},
     "output_type": "display_data"
    }
   ],
   "source": [
    "\n",
    "fig = go.Figure()\n",
    "for status, group in to_plot.groupby(\"status\"):\n",
    "    fig.add_trace(go.Bar(x=group[\"income_group\"], y=group[\"nb_loans\"], name=status,\n",
    "      hovertemplate=\"status=%s<br>income_group=%%{x}<br>nb_loans=%%{y}<extra></extra>\"% status))\n",
    "fig.update_layout(legend_title_text = \"Status\")\n",
    "fig.update_xaxes(title_text=\"income_group\")\n",
    "fig.update_yaxes(title_text=\"nb_loans\")\n",
    "fig.update_layout(barmode='stack')\n",
    "fig.show()"
   ],
   "metadata": {
    "collapsed": false,
    "pycharm": {
     "name": "#%%\n"
    }
   }
  },
  {
   "cell_type": "code",
   "execution_count": 192,
   "outputs": [],
   "source": [
    "max_children = 3\n",
    "application_train['children_group'] = application_train['CNT_CHILDREN']\\\n",
    "    .apply(lambda x: str(x) if x < max_children else str(max_children) + '+')"
   ],
   "metadata": {
    "collapsed": false,
    "pycharm": {
     "name": "#%%\n"
    }
   }
  },
  {
   "cell_type": "code",
   "execution_count": 193,
   "outputs": [
    {
     "data": {
      "text/plain": "0     215371\n1      61119\n2      26749\n3+      4272\nName: children_group, dtype: int64"
     },
     "execution_count": 193,
     "metadata": {},
     "output_type": "execute_result"
    }
   ],
   "source": [
    "application_train['children_group'].value_counts().sort_index()"
   ],
   "metadata": {
    "collapsed": false,
    "pycharm": {
     "name": "#%%\n"
    }
   }
  },
  {
   "cell_type": "code",
   "execution_count": 200,
   "outputs": [],
   "source": [
    "children_filter = '3+'\n",
    "def get_data_filtered_by_child_group(group=None):\n",
    "    if not group:\n",
    "        return application_train\n",
    "    return application_train[application_train['children_group'] == group]\n"
   ],
   "metadata": {
    "collapsed": false,
    "pycharm": {
     "name": "#%%\n"
    }
   }
  },
  {
   "cell_type": "code",
   "execution_count": 201,
   "outputs": [],
   "source": [
    "df = get_data_filtered_by_child_group(children_filter)"
   ],
   "metadata": {
    "collapsed": false,
    "pycharm": {
     "name": "#%%\n"
    }
   }
  },
  {
   "cell_type": "code",
   "execution_count": 206,
   "outputs": [
    {
     "data": {
      "text/plain": "   income_group  nb_loans   status\n0       20k-40k        80     fail\n1       40k-60k       558     fail\n2       60k-80k      1531     fail\n3      80k-100k      3056     fail\n4     100k-120k      3461     fail\n5     120k-140k      3991     fail\n6     140k-160k      2860     fail\n7     160k-180k       635     fail\n8     180k-200k      2379     fail\n9     200k-220k      1601     fail\n10    220k-240k      1712     fail\n11    240k-260k       498     fail\n12    260k-280k       822     fail\n13    280k-300k       288     fail\n14    300k-320k       403     fail\n15    320k-340k       134     fail\n16    340k-360k        23     fail\n17    360k-380k       245     fail\n18    380k-400k        80     fail\n19        400k+       468     fail\n20      20k-40k       883  success\n21      40k-60k      7031  success\n22      60k-80k     17280  success\n23     80k-100k     33279  success\n24    100k-120k     36178  success\n25    120k-140k     43047  success\n26    140k-160k     29892  success\n27    160k-180k      7103  success\n28    180k-200k     26352  success\n29    200k-220k     18066  success\n30    220k-240k     20940  success\n31    240k-260k      6392  success\n32    260k-280k     11128  success\n33    280k-300k      3729  success\n34    300k-320k      6195  success\n35    320k-340k      1978  success\n36    340k-360k       389  success\n37    360k-380k      4113  success\n38    380k-400k      1116  success\n39        400k+      7595  success",
      "text/html": "<div>\n<style scoped>\n    .dataframe tbody tr th:only-of-type {\n        vertical-align: middle;\n    }\n\n    .dataframe tbody tr th {\n        vertical-align: top;\n    }\n\n    .dataframe thead th {\n        text-align: right;\n    }\n</style>\n<table border=\"1\" class=\"dataframe\">\n  <thead>\n    <tr style=\"text-align: right;\">\n      <th></th>\n      <th>income_group</th>\n      <th>nb_loans</th>\n      <th>status</th>\n    </tr>\n  </thead>\n  <tbody>\n    <tr>\n      <th>0</th>\n      <td>20k-40k</td>\n      <td>80</td>\n      <td>fail</td>\n    </tr>\n    <tr>\n      <th>1</th>\n      <td>40k-60k</td>\n      <td>558</td>\n      <td>fail</td>\n    </tr>\n    <tr>\n      <th>2</th>\n      <td>60k-80k</td>\n      <td>1531</td>\n      <td>fail</td>\n    </tr>\n    <tr>\n      <th>3</th>\n      <td>80k-100k</td>\n      <td>3056</td>\n      <td>fail</td>\n    </tr>\n    <tr>\n      <th>4</th>\n      <td>100k-120k</td>\n      <td>3461</td>\n      <td>fail</td>\n    </tr>\n    <tr>\n      <th>5</th>\n      <td>120k-140k</td>\n      <td>3991</td>\n      <td>fail</td>\n    </tr>\n    <tr>\n      <th>6</th>\n      <td>140k-160k</td>\n      <td>2860</td>\n      <td>fail</td>\n    </tr>\n    <tr>\n      <th>7</th>\n      <td>160k-180k</td>\n      <td>635</td>\n      <td>fail</td>\n    </tr>\n    <tr>\n      <th>8</th>\n      <td>180k-200k</td>\n      <td>2379</td>\n      <td>fail</td>\n    </tr>\n    <tr>\n      <th>9</th>\n      <td>200k-220k</td>\n      <td>1601</td>\n      <td>fail</td>\n    </tr>\n    <tr>\n      <th>10</th>\n      <td>220k-240k</td>\n      <td>1712</td>\n      <td>fail</td>\n    </tr>\n    <tr>\n      <th>11</th>\n      <td>240k-260k</td>\n      <td>498</td>\n      <td>fail</td>\n    </tr>\n    <tr>\n      <th>12</th>\n      <td>260k-280k</td>\n      <td>822</td>\n      <td>fail</td>\n    </tr>\n    <tr>\n      <th>13</th>\n      <td>280k-300k</td>\n      <td>288</td>\n      <td>fail</td>\n    </tr>\n    <tr>\n      <th>14</th>\n      <td>300k-320k</td>\n      <td>403</td>\n      <td>fail</td>\n    </tr>\n    <tr>\n      <th>15</th>\n      <td>320k-340k</td>\n      <td>134</td>\n      <td>fail</td>\n    </tr>\n    <tr>\n      <th>16</th>\n      <td>340k-360k</td>\n      <td>23</td>\n      <td>fail</td>\n    </tr>\n    <tr>\n      <th>17</th>\n      <td>360k-380k</td>\n      <td>245</td>\n      <td>fail</td>\n    </tr>\n    <tr>\n      <th>18</th>\n      <td>380k-400k</td>\n      <td>80</td>\n      <td>fail</td>\n    </tr>\n    <tr>\n      <th>19</th>\n      <td>400k+</td>\n      <td>468</td>\n      <td>fail</td>\n    </tr>\n    <tr>\n      <th>20</th>\n      <td>20k-40k</td>\n      <td>883</td>\n      <td>success</td>\n    </tr>\n    <tr>\n      <th>21</th>\n      <td>40k-60k</td>\n      <td>7031</td>\n      <td>success</td>\n    </tr>\n    <tr>\n      <th>22</th>\n      <td>60k-80k</td>\n      <td>17280</td>\n      <td>success</td>\n    </tr>\n    <tr>\n      <th>23</th>\n      <td>80k-100k</td>\n      <td>33279</td>\n      <td>success</td>\n    </tr>\n    <tr>\n      <th>24</th>\n      <td>100k-120k</td>\n      <td>36178</td>\n      <td>success</td>\n    </tr>\n    <tr>\n      <th>25</th>\n      <td>120k-140k</td>\n      <td>43047</td>\n      <td>success</td>\n    </tr>\n    <tr>\n      <th>26</th>\n      <td>140k-160k</td>\n      <td>29892</td>\n      <td>success</td>\n    </tr>\n    <tr>\n      <th>27</th>\n      <td>160k-180k</td>\n      <td>7103</td>\n      <td>success</td>\n    </tr>\n    <tr>\n      <th>28</th>\n      <td>180k-200k</td>\n      <td>26352</td>\n      <td>success</td>\n    </tr>\n    <tr>\n      <th>29</th>\n      <td>200k-220k</td>\n      <td>18066</td>\n      <td>success</td>\n    </tr>\n    <tr>\n      <th>30</th>\n      <td>220k-240k</td>\n      <td>20940</td>\n      <td>success</td>\n    </tr>\n    <tr>\n      <th>31</th>\n      <td>240k-260k</td>\n      <td>6392</td>\n      <td>success</td>\n    </tr>\n    <tr>\n      <th>32</th>\n      <td>260k-280k</td>\n      <td>11128</td>\n      <td>success</td>\n    </tr>\n    <tr>\n      <th>33</th>\n      <td>280k-300k</td>\n      <td>3729</td>\n      <td>success</td>\n    </tr>\n    <tr>\n      <th>34</th>\n      <td>300k-320k</td>\n      <td>6195</td>\n      <td>success</td>\n    </tr>\n    <tr>\n      <th>35</th>\n      <td>320k-340k</td>\n      <td>1978</td>\n      <td>success</td>\n    </tr>\n    <tr>\n      <th>36</th>\n      <td>340k-360k</td>\n      <td>389</td>\n      <td>success</td>\n    </tr>\n    <tr>\n      <th>37</th>\n      <td>360k-380k</td>\n      <td>4113</td>\n      <td>success</td>\n    </tr>\n    <tr>\n      <th>38</th>\n      <td>380k-400k</td>\n      <td>1116</td>\n      <td>success</td>\n    </tr>\n    <tr>\n      <th>39</th>\n      <td>400k+</td>\n      <td>7595</td>\n      <td>success</td>\n    </tr>\n  </tbody>\n</table>\n</div>"
     },
     "execution_count": 206,
     "metadata": {},
     "output_type": "execute_result"
    }
   ],
   "source": [
    "to_plot"
   ],
   "metadata": {
    "collapsed": false,
    "pycharm": {
     "name": "#%%\n"
    }
   }
  },
  {
   "cell_type": "code",
   "execution_count": null,
   "outputs": [],
   "source": [],
   "metadata": {
    "collapsed": false,
    "pycharm": {
     "name": "#%%\n"
    }
   }
  }
 ],
 "metadata": {
  "kernelspec": {
   "name": "pycharm-3746b720",
   "language": "python",
   "display_name": "PyCharm (home-credit)"
  },
  "language_info": {
   "codemirror_mode": {
    "name": "ipython",
    "version": 2
   },
   "file_extension": ".py",
   "mimetype": "text/x-python",
   "name": "python",
   "nbconvert_exporter": "python",
   "pygments_lexer": "ipython2",
   "version": "2.7.6"
  }
 },
 "nbformat": 4,
 "nbformat_minor": 0
}