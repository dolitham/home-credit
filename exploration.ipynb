{
 "cells": [
  {
   "cell_type": "code",
   "execution_count": 1,
   "outputs": [],
   "source": [
    "import numpy as np\n",
    "import pandas as pd\n",
    "import matplotlib.pyplot as plt\n",
    "import seaborn as sns\n",
    "import plotly.graph_objects as go\n",
    "import os\n",
    "plt.style.use('dark_background')\n",
    "plt.style.use('seaborn-dark')"
   ],
   "metadata": {
    "collapsed": false,
    "pycharm": {
     "name": "#%%\n"
    }
   }
  },
  {
   "cell_type": "code",
   "execution_count": 2,
   "outputs": [],
   "source": [
    "files_directory = 'input/'\n",
    "installments = pd.read_csv(files_directory + 'installments_payments.csv')"
   ],
   "metadata": {
    "collapsed": false,
    "pycharm": {
     "name": "#%%\n"
    }
   }
  },
  {
   "cell_type": "code",
   "execution_count": 3,
   "outputs": [
    {
     "data": {
      "text/plain": "   SK_ID_PREV  SK_ID_CURR  NUM_INSTALMENT_VERSION  NUM_INSTALMENT_NUMBER  \\\n0     1054186      161674                     1.0                      6   \n1     1330831      151639                     0.0                     34   \n2     2085231      193053                     2.0                      1   \n3     2452527      199697                     1.0                      3   \n4     2714724      167756                     1.0                      2   \n\n   DAYS_INSTALMENT  DAYS_ENTRY_PAYMENT  AMT_INSTALMENT  AMT_PAYMENT  \n0          -1180.0             -1187.0        6948.360     6948.360  \n1          -2156.0             -2156.0        1716.525     1716.525  \n2            -63.0               -63.0       25425.000    25425.000  \n3          -2418.0             -2426.0       24350.130    24350.130  \n4          -1383.0             -1366.0        2165.040     2160.585  ",
      "text/html": "<div>\n<style scoped>\n    .dataframe tbody tr th:only-of-type {\n        vertical-align: middle;\n    }\n\n    .dataframe tbody tr th {\n        vertical-align: top;\n    }\n\n    .dataframe thead th {\n        text-align: right;\n    }\n</style>\n<table border=\"1\" class=\"dataframe\">\n  <thead>\n    <tr style=\"text-align: right;\">\n      <th></th>\n      <th>SK_ID_PREV</th>\n      <th>SK_ID_CURR</th>\n      <th>NUM_INSTALMENT_VERSION</th>\n      <th>NUM_INSTALMENT_NUMBER</th>\n      <th>DAYS_INSTALMENT</th>\n      <th>DAYS_ENTRY_PAYMENT</th>\n      <th>AMT_INSTALMENT</th>\n      <th>AMT_PAYMENT</th>\n    </tr>\n  </thead>\n  <tbody>\n    <tr>\n      <th>0</th>\n      <td>1054186</td>\n      <td>161674</td>\n      <td>1.0</td>\n      <td>6</td>\n      <td>-1180.0</td>\n      <td>-1187.0</td>\n      <td>6948.360</td>\n      <td>6948.360</td>\n    </tr>\n    <tr>\n      <th>1</th>\n      <td>1330831</td>\n      <td>151639</td>\n      <td>0.0</td>\n      <td>34</td>\n      <td>-2156.0</td>\n      <td>-2156.0</td>\n      <td>1716.525</td>\n      <td>1716.525</td>\n    </tr>\n    <tr>\n      <th>2</th>\n      <td>2085231</td>\n      <td>193053</td>\n      <td>2.0</td>\n      <td>1</td>\n      <td>-63.0</td>\n      <td>-63.0</td>\n      <td>25425.000</td>\n      <td>25425.000</td>\n    </tr>\n    <tr>\n      <th>3</th>\n      <td>2452527</td>\n      <td>199697</td>\n      <td>1.0</td>\n      <td>3</td>\n      <td>-2418.0</td>\n      <td>-2426.0</td>\n      <td>24350.130</td>\n      <td>24350.130</td>\n    </tr>\n    <tr>\n      <th>4</th>\n      <td>2714724</td>\n      <td>167756</td>\n      <td>1.0</td>\n      <td>2</td>\n      <td>-1383.0</td>\n      <td>-1366.0</td>\n      <td>2165.040</td>\n      <td>2160.585</td>\n    </tr>\n  </tbody>\n</table>\n</div>"
     },
     "execution_count": 3,
     "metadata": {},
     "output_type": "execute_result"
    }
   ],
   "source": [
    "installments.head()"
   ],
   "metadata": {
    "collapsed": false,
    "pycharm": {
     "name": "#%%\n"
    }
   }
  },
  {
   "cell_type": "code",
   "execution_count": 4,
   "outputs": [],
   "source": [
    "application_test = pd.read_csv(files_directory + 'application_test.csv')\n",
    "application_train = pd.read_csv(files_directory + 'application_train.csv')"
   ],
   "metadata": {
    "collapsed": false,
    "pycharm": {
     "name": "#%%\n"
    }
   }
  },
  {
   "cell_type": "code",
   "execution_count": 5,
   "outputs": [
    {
     "data": {
      "text/plain": "        SK_ID_CURR  TARGET NAME_CONTRACT_TYPE CODE_GENDER FLAG_OWN_CAR  \\\n0           100002       1         Cash loans           M            N   \n1           100003       0         Cash loans           F            N   \n2           100004       0    Revolving loans           M            Y   \n3           100006       0         Cash loans           F            N   \n4           100007       0         Cash loans           M            N   \n...            ...     ...                ...         ...          ...   \n307506      456251       0         Cash loans           M            N   \n307507      456252       0         Cash loans           F            N   \n307508      456253       0         Cash loans           F            N   \n307509      456254       1         Cash loans           F            N   \n307510      456255       0         Cash loans           F            N   \n\n       FLAG_OWN_REALTY  CNT_CHILDREN  AMT_INCOME_TOTAL  AMT_CREDIT  \\\n0                    Y             0          202500.0    406597.5   \n1                    N             0          270000.0   1293502.5   \n2                    Y             0           67500.0    135000.0   \n3                    Y             0          135000.0    312682.5   \n4                    Y             0          121500.0    513000.0   \n...                ...           ...               ...         ...   \n307506               N             0          157500.0    254700.0   \n307507               Y             0           72000.0    269550.0   \n307508               Y             0          153000.0    677664.0   \n307509               Y             0          171000.0    370107.0   \n307510               N             0          157500.0    675000.0   \n\n        AMT_ANNUITY  ...  FLAG_DOCUMENT_18 FLAG_DOCUMENT_19 FLAG_DOCUMENT_20  \\\n0           24700.5  ...                 0                0                0   \n1           35698.5  ...                 0                0                0   \n2            6750.0  ...                 0                0                0   \n3           29686.5  ...                 0                0                0   \n4           21865.5  ...                 0                0                0   \n...             ...  ...               ...              ...              ...   \n307506      27558.0  ...                 0                0                0   \n307507      12001.5  ...                 0                0                0   \n307508      29979.0  ...                 0                0                0   \n307509      20205.0  ...                 0                0                0   \n307510      49117.5  ...                 0                0                0   \n\n       FLAG_DOCUMENT_21 AMT_REQ_CREDIT_BUREAU_HOUR AMT_REQ_CREDIT_BUREAU_DAY  \\\n0                     0                        0.0                       0.0   \n1                     0                        0.0                       0.0   \n2                     0                        0.0                       0.0   \n3                     0                        NaN                       NaN   \n4                     0                        0.0                       0.0   \n...                 ...                        ...                       ...   \n307506                0                        NaN                       NaN   \n307507                0                        NaN                       NaN   \n307508                0                        1.0                       0.0   \n307509                0                        0.0                       0.0   \n307510                0                        0.0                       0.0   \n\n        AMT_REQ_CREDIT_BUREAU_WEEK  AMT_REQ_CREDIT_BUREAU_MON  \\\n0                              0.0                        0.0   \n1                              0.0                        0.0   \n2                              0.0                        0.0   \n3                              NaN                        NaN   \n4                              0.0                        0.0   \n...                            ...                        ...   \n307506                         NaN                        NaN   \n307507                         NaN                        NaN   \n307508                         0.0                        1.0   \n307509                         0.0                        0.0   \n307510                         0.0                        2.0   \n\n        AMT_REQ_CREDIT_BUREAU_QRT  AMT_REQ_CREDIT_BUREAU_YEAR  \n0                             0.0                         1.0  \n1                             0.0                         0.0  \n2                             0.0                         0.0  \n3                             NaN                         NaN  \n4                             0.0                         0.0  \n...                           ...                         ...  \n307506                        NaN                         NaN  \n307507                        NaN                         NaN  \n307508                        0.0                         1.0  \n307509                        0.0                         0.0  \n307510                        0.0                         1.0  \n\n[307511 rows x 122 columns]",
      "text/html": "<div>\n<style scoped>\n    .dataframe tbody tr th:only-of-type {\n        vertical-align: middle;\n    }\n\n    .dataframe tbody tr th {\n        vertical-align: top;\n    }\n\n    .dataframe thead th {\n        text-align: right;\n    }\n</style>\n<table border=\"1\" class=\"dataframe\">\n  <thead>\n    <tr style=\"text-align: right;\">\n      <th></th>\n      <th>SK_ID_CURR</th>\n      <th>TARGET</th>\n      <th>NAME_CONTRACT_TYPE</th>\n      <th>CODE_GENDER</th>\n      <th>FLAG_OWN_CAR</th>\n      <th>FLAG_OWN_REALTY</th>\n      <th>CNT_CHILDREN</th>\n      <th>AMT_INCOME_TOTAL</th>\n      <th>AMT_CREDIT</th>\n      <th>AMT_ANNUITY</th>\n      <th>...</th>\n      <th>FLAG_DOCUMENT_18</th>\n      <th>FLAG_DOCUMENT_19</th>\n      <th>FLAG_DOCUMENT_20</th>\n      <th>FLAG_DOCUMENT_21</th>\n      <th>AMT_REQ_CREDIT_BUREAU_HOUR</th>\n      <th>AMT_REQ_CREDIT_BUREAU_DAY</th>\n      <th>AMT_REQ_CREDIT_BUREAU_WEEK</th>\n      <th>AMT_REQ_CREDIT_BUREAU_MON</th>\n      <th>AMT_REQ_CREDIT_BUREAU_QRT</th>\n      <th>AMT_REQ_CREDIT_BUREAU_YEAR</th>\n    </tr>\n  </thead>\n  <tbody>\n    <tr>\n      <th>0</th>\n      <td>100002</td>\n      <td>1</td>\n      <td>Cash loans</td>\n      <td>M</td>\n      <td>N</td>\n      <td>Y</td>\n      <td>0</td>\n      <td>202500.0</td>\n      <td>406597.5</td>\n      <td>24700.5</td>\n      <td>...</td>\n      <td>0</td>\n      <td>0</td>\n      <td>0</td>\n      <td>0</td>\n      <td>0.0</td>\n      <td>0.0</td>\n      <td>0.0</td>\n      <td>0.0</td>\n      <td>0.0</td>\n      <td>1.0</td>\n    </tr>\n    <tr>\n      <th>1</th>\n      <td>100003</td>\n      <td>0</td>\n      <td>Cash loans</td>\n      <td>F</td>\n      <td>N</td>\n      <td>N</td>\n      <td>0</td>\n      <td>270000.0</td>\n      <td>1293502.5</td>\n      <td>35698.5</td>\n      <td>...</td>\n      <td>0</td>\n      <td>0</td>\n      <td>0</td>\n      <td>0</td>\n      <td>0.0</td>\n      <td>0.0</td>\n      <td>0.0</td>\n      <td>0.0</td>\n      <td>0.0</td>\n      <td>0.0</td>\n    </tr>\n    <tr>\n      <th>2</th>\n      <td>100004</td>\n      <td>0</td>\n      <td>Revolving loans</td>\n      <td>M</td>\n      <td>Y</td>\n      <td>Y</td>\n      <td>0</td>\n      <td>67500.0</td>\n      <td>135000.0</td>\n      <td>6750.0</td>\n      <td>...</td>\n      <td>0</td>\n      <td>0</td>\n      <td>0</td>\n      <td>0</td>\n      <td>0.0</td>\n      <td>0.0</td>\n      <td>0.0</td>\n      <td>0.0</td>\n      <td>0.0</td>\n      <td>0.0</td>\n    </tr>\n    <tr>\n      <th>3</th>\n      <td>100006</td>\n      <td>0</td>\n      <td>Cash loans</td>\n      <td>F</td>\n      <td>N</td>\n      <td>Y</td>\n      <td>0</td>\n      <td>135000.0</td>\n      <td>312682.5</td>\n      <td>29686.5</td>\n      <td>...</td>\n      <td>0</td>\n      <td>0</td>\n      <td>0</td>\n      <td>0</td>\n      <td>NaN</td>\n      <td>NaN</td>\n      <td>NaN</td>\n      <td>NaN</td>\n      <td>NaN</td>\n      <td>NaN</td>\n    </tr>\n    <tr>\n      <th>4</th>\n      <td>100007</td>\n      <td>0</td>\n      <td>Cash loans</td>\n      <td>M</td>\n      <td>N</td>\n      <td>Y</td>\n      <td>0</td>\n      <td>121500.0</td>\n      <td>513000.0</td>\n      <td>21865.5</td>\n      <td>...</td>\n      <td>0</td>\n      <td>0</td>\n      <td>0</td>\n      <td>0</td>\n      <td>0.0</td>\n      <td>0.0</td>\n      <td>0.0</td>\n      <td>0.0</td>\n      <td>0.0</td>\n      <td>0.0</td>\n    </tr>\n    <tr>\n      <th>...</th>\n      <td>...</td>\n      <td>...</td>\n      <td>...</td>\n      <td>...</td>\n      <td>...</td>\n      <td>...</td>\n      <td>...</td>\n      <td>...</td>\n      <td>...</td>\n      <td>...</td>\n      <td>...</td>\n      <td>...</td>\n      <td>...</td>\n      <td>...</td>\n      <td>...</td>\n      <td>...</td>\n      <td>...</td>\n      <td>...</td>\n      <td>...</td>\n      <td>...</td>\n      <td>...</td>\n    </tr>\n    <tr>\n      <th>307506</th>\n      <td>456251</td>\n      <td>0</td>\n      <td>Cash loans</td>\n      <td>M</td>\n      <td>N</td>\n      <td>N</td>\n      <td>0</td>\n      <td>157500.0</td>\n      <td>254700.0</td>\n      <td>27558.0</td>\n      <td>...</td>\n      <td>0</td>\n      <td>0</td>\n      <td>0</td>\n      <td>0</td>\n      <td>NaN</td>\n      <td>NaN</td>\n      <td>NaN</td>\n      <td>NaN</td>\n      <td>NaN</td>\n      <td>NaN</td>\n    </tr>\n    <tr>\n      <th>307507</th>\n      <td>456252</td>\n      <td>0</td>\n      <td>Cash loans</td>\n      <td>F</td>\n      <td>N</td>\n      <td>Y</td>\n      <td>0</td>\n      <td>72000.0</td>\n      <td>269550.0</td>\n      <td>12001.5</td>\n      <td>...</td>\n      <td>0</td>\n      <td>0</td>\n      <td>0</td>\n      <td>0</td>\n      <td>NaN</td>\n      <td>NaN</td>\n      <td>NaN</td>\n      <td>NaN</td>\n      <td>NaN</td>\n      <td>NaN</td>\n    </tr>\n    <tr>\n      <th>307508</th>\n      <td>456253</td>\n      <td>0</td>\n      <td>Cash loans</td>\n      <td>F</td>\n      <td>N</td>\n      <td>Y</td>\n      <td>0</td>\n      <td>153000.0</td>\n      <td>677664.0</td>\n      <td>29979.0</td>\n      <td>...</td>\n      <td>0</td>\n      <td>0</td>\n      <td>0</td>\n      <td>0</td>\n      <td>1.0</td>\n      <td>0.0</td>\n      <td>0.0</td>\n      <td>1.0</td>\n      <td>0.0</td>\n      <td>1.0</td>\n    </tr>\n    <tr>\n      <th>307509</th>\n      <td>456254</td>\n      <td>1</td>\n      <td>Cash loans</td>\n      <td>F</td>\n      <td>N</td>\n      <td>Y</td>\n      <td>0</td>\n      <td>171000.0</td>\n      <td>370107.0</td>\n      <td>20205.0</td>\n      <td>...</td>\n      <td>0</td>\n      <td>0</td>\n      <td>0</td>\n      <td>0</td>\n      <td>0.0</td>\n      <td>0.0</td>\n      <td>0.0</td>\n      <td>0.0</td>\n      <td>0.0</td>\n      <td>0.0</td>\n    </tr>\n    <tr>\n      <th>307510</th>\n      <td>456255</td>\n      <td>0</td>\n      <td>Cash loans</td>\n      <td>F</td>\n      <td>N</td>\n      <td>N</td>\n      <td>0</td>\n      <td>157500.0</td>\n      <td>675000.0</td>\n      <td>49117.5</td>\n      <td>...</td>\n      <td>0</td>\n      <td>0</td>\n      <td>0</td>\n      <td>0</td>\n      <td>0.0</td>\n      <td>0.0</td>\n      <td>0.0</td>\n      <td>2.0</td>\n      <td>0.0</td>\n      <td>1.0</td>\n    </tr>\n  </tbody>\n</table>\n<p>307511 rows × 122 columns</p>\n</div>"
     },
     "execution_count": 5,
     "metadata": {},
     "output_type": "execute_result"
    }
   ],
   "source": [
    "application_train"
   ],
   "metadata": {
    "collapsed": false,
    "pycharm": {
     "name": "#%%\n"
    }
   }
  },
  {
   "cell_type": "code",
   "execution_count": 6,
   "outputs": [
    {
     "data": {
      "text/plain": "          SK_ID_CURR         TARGET   CNT_CHILDREN  AMT_INCOME_TOTAL  \\\ncount  307511.000000  307511.000000  307511.000000      3.075110e+05   \nmean   278180.518577       0.080729       0.417052      1.687979e+05   \nstd    102790.175348       0.272419       0.722121      2.371231e+05   \nmin    100002.000000       0.000000       0.000000      2.565000e+04   \n25%    189145.500000       0.000000       0.000000      1.125000e+05   \n50%    278202.000000       0.000000       0.000000      1.471500e+05   \n75%    367142.500000       0.000000       1.000000      2.025000e+05   \nmax    456255.000000       1.000000      19.000000      1.170000e+08   \n\n         AMT_CREDIT    AMT_ANNUITY  AMT_GOODS_PRICE  \\\ncount  3.075110e+05  307499.000000     3.072330e+05   \nmean   5.990260e+05   27108.573909     5.383962e+05   \nstd    4.024908e+05   14493.737315     3.694465e+05   \nmin    4.500000e+04    1615.500000     4.050000e+04   \n25%    2.700000e+05   16524.000000     2.385000e+05   \n50%    5.135310e+05   24903.000000     4.500000e+05   \n75%    8.086500e+05   34596.000000     6.795000e+05   \nmax    4.050000e+06  258025.500000     4.050000e+06   \n\n       REGION_POPULATION_RELATIVE     DAYS_BIRTH  DAYS_EMPLOYED  ...  \\\ncount               307511.000000  307511.000000  307511.000000  ...   \nmean                     0.020868  -16036.995067   63815.045904  ...   \nstd                      0.013831    4363.988632  141275.766519  ...   \nmin                      0.000290  -25229.000000  -17912.000000  ...   \n25%                      0.010006  -19682.000000   -2760.000000  ...   \n50%                      0.018850  -15750.000000   -1213.000000  ...   \n75%                      0.028663  -12413.000000    -289.000000  ...   \nmax                      0.072508   -7489.000000  365243.000000  ...   \n\n       FLAG_DOCUMENT_18  FLAG_DOCUMENT_19  FLAG_DOCUMENT_20  FLAG_DOCUMENT_21  \\\ncount     307511.000000     307511.000000     307511.000000     307511.000000   \nmean           0.008130          0.000595          0.000507          0.000335   \nstd            0.089798          0.024387          0.022518          0.018299   \nmin            0.000000          0.000000          0.000000          0.000000   \n25%            0.000000          0.000000          0.000000          0.000000   \n50%            0.000000          0.000000          0.000000          0.000000   \n75%            0.000000          0.000000          0.000000          0.000000   \nmax            1.000000          1.000000          1.000000          1.000000   \n\n       AMT_REQ_CREDIT_BUREAU_HOUR  AMT_REQ_CREDIT_BUREAU_DAY  \\\ncount               265992.000000              265992.000000   \nmean                     0.006402                   0.007000   \nstd                      0.083849                   0.110757   \nmin                      0.000000                   0.000000   \n25%                      0.000000                   0.000000   \n50%                      0.000000                   0.000000   \n75%                      0.000000                   0.000000   \nmax                      4.000000                   9.000000   \n\n       AMT_REQ_CREDIT_BUREAU_WEEK  AMT_REQ_CREDIT_BUREAU_MON  \\\ncount               265992.000000              265992.000000   \nmean                     0.034362                   0.267395   \nstd                      0.204685                   0.916002   \nmin                      0.000000                   0.000000   \n25%                      0.000000                   0.000000   \n50%                      0.000000                   0.000000   \n75%                      0.000000                   0.000000   \nmax                      8.000000                  27.000000   \n\n       AMT_REQ_CREDIT_BUREAU_QRT  AMT_REQ_CREDIT_BUREAU_YEAR  \ncount              265992.000000               265992.000000  \nmean                    0.265474                    1.899974  \nstd                     0.794056                    1.869295  \nmin                     0.000000                    0.000000  \n25%                     0.000000                    0.000000  \n50%                     0.000000                    1.000000  \n75%                     0.000000                    3.000000  \nmax                   261.000000                   25.000000  \n\n[8 rows x 106 columns]",
      "text/html": "<div>\n<style scoped>\n    .dataframe tbody tr th:only-of-type {\n        vertical-align: middle;\n    }\n\n    .dataframe tbody tr th {\n        vertical-align: top;\n    }\n\n    .dataframe thead th {\n        text-align: right;\n    }\n</style>\n<table border=\"1\" class=\"dataframe\">\n  <thead>\n    <tr style=\"text-align: right;\">\n      <th></th>\n      <th>SK_ID_CURR</th>\n      <th>TARGET</th>\n      <th>CNT_CHILDREN</th>\n      <th>AMT_INCOME_TOTAL</th>\n      <th>AMT_CREDIT</th>\n      <th>AMT_ANNUITY</th>\n      <th>AMT_GOODS_PRICE</th>\n      <th>REGION_POPULATION_RELATIVE</th>\n      <th>DAYS_BIRTH</th>\n      <th>DAYS_EMPLOYED</th>\n      <th>...</th>\n      <th>FLAG_DOCUMENT_18</th>\n      <th>FLAG_DOCUMENT_19</th>\n      <th>FLAG_DOCUMENT_20</th>\n      <th>FLAG_DOCUMENT_21</th>\n      <th>AMT_REQ_CREDIT_BUREAU_HOUR</th>\n      <th>AMT_REQ_CREDIT_BUREAU_DAY</th>\n      <th>AMT_REQ_CREDIT_BUREAU_WEEK</th>\n      <th>AMT_REQ_CREDIT_BUREAU_MON</th>\n      <th>AMT_REQ_CREDIT_BUREAU_QRT</th>\n      <th>AMT_REQ_CREDIT_BUREAU_YEAR</th>\n    </tr>\n  </thead>\n  <tbody>\n    <tr>\n      <th>count</th>\n      <td>307511.000000</td>\n      <td>307511.000000</td>\n      <td>307511.000000</td>\n      <td>3.075110e+05</td>\n      <td>3.075110e+05</td>\n      <td>307499.000000</td>\n      <td>3.072330e+05</td>\n      <td>307511.000000</td>\n      <td>307511.000000</td>\n      <td>307511.000000</td>\n      <td>...</td>\n      <td>307511.000000</td>\n      <td>307511.000000</td>\n      <td>307511.000000</td>\n      <td>307511.000000</td>\n      <td>265992.000000</td>\n      <td>265992.000000</td>\n      <td>265992.000000</td>\n      <td>265992.000000</td>\n      <td>265992.000000</td>\n      <td>265992.000000</td>\n    </tr>\n    <tr>\n      <th>mean</th>\n      <td>278180.518577</td>\n      <td>0.080729</td>\n      <td>0.417052</td>\n      <td>1.687979e+05</td>\n      <td>5.990260e+05</td>\n      <td>27108.573909</td>\n      <td>5.383962e+05</td>\n      <td>0.020868</td>\n      <td>-16036.995067</td>\n      <td>63815.045904</td>\n      <td>...</td>\n      <td>0.008130</td>\n      <td>0.000595</td>\n      <td>0.000507</td>\n      <td>0.000335</td>\n      <td>0.006402</td>\n      <td>0.007000</td>\n      <td>0.034362</td>\n      <td>0.267395</td>\n      <td>0.265474</td>\n      <td>1.899974</td>\n    </tr>\n    <tr>\n      <th>std</th>\n      <td>102790.175348</td>\n      <td>0.272419</td>\n      <td>0.722121</td>\n      <td>2.371231e+05</td>\n      <td>4.024908e+05</td>\n      <td>14493.737315</td>\n      <td>3.694465e+05</td>\n      <td>0.013831</td>\n      <td>4363.988632</td>\n      <td>141275.766519</td>\n      <td>...</td>\n      <td>0.089798</td>\n      <td>0.024387</td>\n      <td>0.022518</td>\n      <td>0.018299</td>\n      <td>0.083849</td>\n      <td>0.110757</td>\n      <td>0.204685</td>\n      <td>0.916002</td>\n      <td>0.794056</td>\n      <td>1.869295</td>\n    </tr>\n    <tr>\n      <th>min</th>\n      <td>100002.000000</td>\n      <td>0.000000</td>\n      <td>0.000000</td>\n      <td>2.565000e+04</td>\n      <td>4.500000e+04</td>\n      <td>1615.500000</td>\n      <td>4.050000e+04</td>\n      <td>0.000290</td>\n      <td>-25229.000000</td>\n      <td>-17912.000000</td>\n      <td>...</td>\n      <td>0.000000</td>\n      <td>0.000000</td>\n      <td>0.000000</td>\n      <td>0.000000</td>\n      <td>0.000000</td>\n      <td>0.000000</td>\n      <td>0.000000</td>\n      <td>0.000000</td>\n      <td>0.000000</td>\n      <td>0.000000</td>\n    </tr>\n    <tr>\n      <th>25%</th>\n      <td>189145.500000</td>\n      <td>0.000000</td>\n      <td>0.000000</td>\n      <td>1.125000e+05</td>\n      <td>2.700000e+05</td>\n      <td>16524.000000</td>\n      <td>2.385000e+05</td>\n      <td>0.010006</td>\n      <td>-19682.000000</td>\n      <td>-2760.000000</td>\n      <td>...</td>\n      <td>0.000000</td>\n      <td>0.000000</td>\n      <td>0.000000</td>\n      <td>0.000000</td>\n      <td>0.000000</td>\n      <td>0.000000</td>\n      <td>0.000000</td>\n      <td>0.000000</td>\n      <td>0.000000</td>\n      <td>0.000000</td>\n    </tr>\n    <tr>\n      <th>50%</th>\n      <td>278202.000000</td>\n      <td>0.000000</td>\n      <td>0.000000</td>\n      <td>1.471500e+05</td>\n      <td>5.135310e+05</td>\n      <td>24903.000000</td>\n      <td>4.500000e+05</td>\n      <td>0.018850</td>\n      <td>-15750.000000</td>\n      <td>-1213.000000</td>\n      <td>...</td>\n      <td>0.000000</td>\n      <td>0.000000</td>\n      <td>0.000000</td>\n      <td>0.000000</td>\n      <td>0.000000</td>\n      <td>0.000000</td>\n      <td>0.000000</td>\n      <td>0.000000</td>\n      <td>0.000000</td>\n      <td>1.000000</td>\n    </tr>\n    <tr>\n      <th>75%</th>\n      <td>367142.500000</td>\n      <td>0.000000</td>\n      <td>1.000000</td>\n      <td>2.025000e+05</td>\n      <td>8.086500e+05</td>\n      <td>34596.000000</td>\n      <td>6.795000e+05</td>\n      <td>0.028663</td>\n      <td>-12413.000000</td>\n      <td>-289.000000</td>\n      <td>...</td>\n      <td>0.000000</td>\n      <td>0.000000</td>\n      <td>0.000000</td>\n      <td>0.000000</td>\n      <td>0.000000</td>\n      <td>0.000000</td>\n      <td>0.000000</td>\n      <td>0.000000</td>\n      <td>0.000000</td>\n      <td>3.000000</td>\n    </tr>\n    <tr>\n      <th>max</th>\n      <td>456255.000000</td>\n      <td>1.000000</td>\n      <td>19.000000</td>\n      <td>1.170000e+08</td>\n      <td>4.050000e+06</td>\n      <td>258025.500000</td>\n      <td>4.050000e+06</td>\n      <td>0.072508</td>\n      <td>-7489.000000</td>\n      <td>365243.000000</td>\n      <td>...</td>\n      <td>1.000000</td>\n      <td>1.000000</td>\n      <td>1.000000</td>\n      <td>1.000000</td>\n      <td>4.000000</td>\n      <td>9.000000</td>\n      <td>8.000000</td>\n      <td>27.000000</td>\n      <td>261.000000</td>\n      <td>25.000000</td>\n    </tr>\n  </tbody>\n</table>\n<p>8 rows × 106 columns</p>\n</div>"
     },
     "execution_count": 6,
     "metadata": {},
     "output_type": "execute_result"
    }
   ],
   "source": [
    "application_train.describe()"
   ],
   "metadata": {
    "collapsed": false,
    "pycharm": {
     "name": "#%%\n"
    }
   }
  },
  {
   "cell_type": "code",
   "execution_count": 7,
   "outputs": [
    {
     "data": {
      "text/plain": "SK_ID_CURR                      int64\nTARGET                          int64\nNAME_CONTRACT_TYPE             object\nCODE_GENDER                    object\nFLAG_OWN_CAR                   object\n                               ...   \nAMT_REQ_CREDIT_BUREAU_DAY     float64\nAMT_REQ_CREDIT_BUREAU_WEEK    float64\nAMT_REQ_CREDIT_BUREAU_MON     float64\nAMT_REQ_CREDIT_BUREAU_QRT     float64\nAMT_REQ_CREDIT_BUREAU_YEAR    float64\nLength: 122, dtype: object"
     },
     "execution_count": 7,
     "metadata": {},
     "output_type": "execute_result"
    }
   ],
   "source": [
    "application_train.dtypes"
   ],
   "metadata": {
    "collapsed": false,
    "pycharm": {
     "name": "#%%\n"
    }
   }
  },
  {
   "cell_type": "code",
   "execution_count": 8,
   "outputs": [
    {
     "data": {
      "text/plain": "       SK_ID_CURR NAME_CONTRACT_TYPE CODE_GENDER FLAG_OWN_CAR FLAG_OWN_REALTY  \\\n0          100001         Cash loans           F            N               Y   \n1          100005         Cash loans           M            N               Y   \n2          100013         Cash loans           M            Y               Y   \n3          100028         Cash loans           F            N               Y   \n4          100038         Cash loans           M            Y               N   \n...           ...                ...         ...          ...             ...   \n48739      456221         Cash loans           F            N               Y   \n48740      456222         Cash loans           F            N               N   \n48741      456223         Cash loans           F            Y               Y   \n48742      456224         Cash loans           M            N               N   \n48743      456250         Cash loans           F            Y               N   \n\n       CNT_CHILDREN  AMT_INCOME_TOTAL  AMT_CREDIT  AMT_ANNUITY  \\\n0                 0          135000.0    568800.0      20560.5   \n1                 0           99000.0    222768.0      17370.0   \n2                 0          202500.0    663264.0      69777.0   \n3                 2          315000.0   1575000.0      49018.5   \n4                 1          180000.0    625500.0      32067.0   \n...             ...               ...         ...          ...   \n48739             0          121500.0    412560.0      17473.5   \n48740             2          157500.0    622413.0      31909.5   \n48741             1          202500.0    315000.0      33205.5   \n48742             0          225000.0    450000.0      25128.0   \n48743             0          135000.0    312768.0      24709.5   \n\n       AMT_GOODS_PRICE  ... FLAG_DOCUMENT_18 FLAG_DOCUMENT_19  \\\n0             450000.0  ...                0                0   \n1             180000.0  ...                0                0   \n2             630000.0  ...                0                0   \n3            1575000.0  ...                0                0   \n4             625500.0  ...                0                0   \n...                ...  ...              ...              ...   \n48739         270000.0  ...                0                0   \n48740         495000.0  ...                0                0   \n48741         315000.0  ...                0                0   \n48742         450000.0  ...                0                0   \n48743         270000.0  ...                0                0   \n\n      FLAG_DOCUMENT_20 FLAG_DOCUMENT_21 AMT_REQ_CREDIT_BUREAU_HOUR  \\\n0                    0                0                        0.0   \n1                    0                0                        0.0   \n2                    0                0                        0.0   \n3                    0                0                        0.0   \n4                    0                0                        NaN   \n...                ...              ...                        ...   \n48739                0                0                        0.0   \n48740                0                0                        NaN   \n48741                0                0                        0.0   \n48742                0                0                        0.0   \n48743                0                0                        0.0   \n\n       AMT_REQ_CREDIT_BUREAU_DAY  AMT_REQ_CREDIT_BUREAU_WEEK  \\\n0                            0.0                         0.0   \n1                            0.0                         0.0   \n2                            0.0                         0.0   \n3                            0.0                         0.0   \n4                            NaN                         NaN   \n...                          ...                         ...   \n48739                        0.0                         0.0   \n48740                        NaN                         NaN   \n48741                        0.0                         0.0   \n48742                        0.0                         0.0   \n48743                        0.0                         0.0   \n\n       AMT_REQ_CREDIT_BUREAU_MON  AMT_REQ_CREDIT_BUREAU_QRT  \\\n0                            0.0                        0.0   \n1                            0.0                        0.0   \n2                            0.0                        1.0   \n3                            0.0                        0.0   \n4                            NaN                        NaN   \n...                          ...                        ...   \n48739                        0.0                        0.0   \n48740                        NaN                        NaN   \n48741                        0.0                        3.0   \n48742                        0.0                        0.0   \n48743                        0.0                        1.0   \n\n       AMT_REQ_CREDIT_BUREAU_YEAR  \n0                             0.0  \n1                             3.0  \n2                             4.0  \n3                             3.0  \n4                             NaN  \n...                           ...  \n48739                         1.0  \n48740                         NaN  \n48741                         1.0  \n48742                         2.0  \n48743                         4.0  \n\n[48744 rows x 121 columns]",
      "text/html": "<div>\n<style scoped>\n    .dataframe tbody tr th:only-of-type {\n        vertical-align: middle;\n    }\n\n    .dataframe tbody tr th {\n        vertical-align: top;\n    }\n\n    .dataframe thead th {\n        text-align: right;\n    }\n</style>\n<table border=\"1\" class=\"dataframe\">\n  <thead>\n    <tr style=\"text-align: right;\">\n      <th></th>\n      <th>SK_ID_CURR</th>\n      <th>NAME_CONTRACT_TYPE</th>\n      <th>CODE_GENDER</th>\n      <th>FLAG_OWN_CAR</th>\n      <th>FLAG_OWN_REALTY</th>\n      <th>CNT_CHILDREN</th>\n      <th>AMT_INCOME_TOTAL</th>\n      <th>AMT_CREDIT</th>\n      <th>AMT_ANNUITY</th>\n      <th>AMT_GOODS_PRICE</th>\n      <th>...</th>\n      <th>FLAG_DOCUMENT_18</th>\n      <th>FLAG_DOCUMENT_19</th>\n      <th>FLAG_DOCUMENT_20</th>\n      <th>FLAG_DOCUMENT_21</th>\n      <th>AMT_REQ_CREDIT_BUREAU_HOUR</th>\n      <th>AMT_REQ_CREDIT_BUREAU_DAY</th>\n      <th>AMT_REQ_CREDIT_BUREAU_WEEK</th>\n      <th>AMT_REQ_CREDIT_BUREAU_MON</th>\n      <th>AMT_REQ_CREDIT_BUREAU_QRT</th>\n      <th>AMT_REQ_CREDIT_BUREAU_YEAR</th>\n    </tr>\n  </thead>\n  <tbody>\n    <tr>\n      <th>0</th>\n      <td>100001</td>\n      <td>Cash loans</td>\n      <td>F</td>\n      <td>N</td>\n      <td>Y</td>\n      <td>0</td>\n      <td>135000.0</td>\n      <td>568800.0</td>\n      <td>20560.5</td>\n      <td>450000.0</td>\n      <td>...</td>\n      <td>0</td>\n      <td>0</td>\n      <td>0</td>\n      <td>0</td>\n      <td>0.0</td>\n      <td>0.0</td>\n      <td>0.0</td>\n      <td>0.0</td>\n      <td>0.0</td>\n      <td>0.0</td>\n    </tr>\n    <tr>\n      <th>1</th>\n      <td>100005</td>\n      <td>Cash loans</td>\n      <td>M</td>\n      <td>N</td>\n      <td>Y</td>\n      <td>0</td>\n      <td>99000.0</td>\n      <td>222768.0</td>\n      <td>17370.0</td>\n      <td>180000.0</td>\n      <td>...</td>\n      <td>0</td>\n      <td>0</td>\n      <td>0</td>\n      <td>0</td>\n      <td>0.0</td>\n      <td>0.0</td>\n      <td>0.0</td>\n      <td>0.0</td>\n      <td>0.0</td>\n      <td>3.0</td>\n    </tr>\n    <tr>\n      <th>2</th>\n      <td>100013</td>\n      <td>Cash loans</td>\n      <td>M</td>\n      <td>Y</td>\n      <td>Y</td>\n      <td>0</td>\n      <td>202500.0</td>\n      <td>663264.0</td>\n      <td>69777.0</td>\n      <td>630000.0</td>\n      <td>...</td>\n      <td>0</td>\n      <td>0</td>\n      <td>0</td>\n      <td>0</td>\n      <td>0.0</td>\n      <td>0.0</td>\n      <td>0.0</td>\n      <td>0.0</td>\n      <td>1.0</td>\n      <td>4.0</td>\n    </tr>\n    <tr>\n      <th>3</th>\n      <td>100028</td>\n      <td>Cash loans</td>\n      <td>F</td>\n      <td>N</td>\n      <td>Y</td>\n      <td>2</td>\n      <td>315000.0</td>\n      <td>1575000.0</td>\n      <td>49018.5</td>\n      <td>1575000.0</td>\n      <td>...</td>\n      <td>0</td>\n      <td>0</td>\n      <td>0</td>\n      <td>0</td>\n      <td>0.0</td>\n      <td>0.0</td>\n      <td>0.0</td>\n      <td>0.0</td>\n      <td>0.0</td>\n      <td>3.0</td>\n    </tr>\n    <tr>\n      <th>4</th>\n      <td>100038</td>\n      <td>Cash loans</td>\n      <td>M</td>\n      <td>Y</td>\n      <td>N</td>\n      <td>1</td>\n      <td>180000.0</td>\n      <td>625500.0</td>\n      <td>32067.0</td>\n      <td>625500.0</td>\n      <td>...</td>\n      <td>0</td>\n      <td>0</td>\n      <td>0</td>\n      <td>0</td>\n      <td>NaN</td>\n      <td>NaN</td>\n      <td>NaN</td>\n      <td>NaN</td>\n      <td>NaN</td>\n      <td>NaN</td>\n    </tr>\n    <tr>\n      <th>...</th>\n      <td>...</td>\n      <td>...</td>\n      <td>...</td>\n      <td>...</td>\n      <td>...</td>\n      <td>...</td>\n      <td>...</td>\n      <td>...</td>\n      <td>...</td>\n      <td>...</td>\n      <td>...</td>\n      <td>...</td>\n      <td>...</td>\n      <td>...</td>\n      <td>...</td>\n      <td>...</td>\n      <td>...</td>\n      <td>...</td>\n      <td>...</td>\n      <td>...</td>\n      <td>...</td>\n    </tr>\n    <tr>\n      <th>48739</th>\n      <td>456221</td>\n      <td>Cash loans</td>\n      <td>F</td>\n      <td>N</td>\n      <td>Y</td>\n      <td>0</td>\n      <td>121500.0</td>\n      <td>412560.0</td>\n      <td>17473.5</td>\n      <td>270000.0</td>\n      <td>...</td>\n      <td>0</td>\n      <td>0</td>\n      <td>0</td>\n      <td>0</td>\n      <td>0.0</td>\n      <td>0.0</td>\n      <td>0.0</td>\n      <td>0.0</td>\n      <td>0.0</td>\n      <td>1.0</td>\n    </tr>\n    <tr>\n      <th>48740</th>\n      <td>456222</td>\n      <td>Cash loans</td>\n      <td>F</td>\n      <td>N</td>\n      <td>N</td>\n      <td>2</td>\n      <td>157500.0</td>\n      <td>622413.0</td>\n      <td>31909.5</td>\n      <td>495000.0</td>\n      <td>...</td>\n      <td>0</td>\n      <td>0</td>\n      <td>0</td>\n      <td>0</td>\n      <td>NaN</td>\n      <td>NaN</td>\n      <td>NaN</td>\n      <td>NaN</td>\n      <td>NaN</td>\n      <td>NaN</td>\n    </tr>\n    <tr>\n      <th>48741</th>\n      <td>456223</td>\n      <td>Cash loans</td>\n      <td>F</td>\n      <td>Y</td>\n      <td>Y</td>\n      <td>1</td>\n      <td>202500.0</td>\n      <td>315000.0</td>\n      <td>33205.5</td>\n      <td>315000.0</td>\n      <td>...</td>\n      <td>0</td>\n      <td>0</td>\n      <td>0</td>\n      <td>0</td>\n      <td>0.0</td>\n      <td>0.0</td>\n      <td>0.0</td>\n      <td>0.0</td>\n      <td>3.0</td>\n      <td>1.0</td>\n    </tr>\n    <tr>\n      <th>48742</th>\n      <td>456224</td>\n      <td>Cash loans</td>\n      <td>M</td>\n      <td>N</td>\n      <td>N</td>\n      <td>0</td>\n      <td>225000.0</td>\n      <td>450000.0</td>\n      <td>25128.0</td>\n      <td>450000.0</td>\n      <td>...</td>\n      <td>0</td>\n      <td>0</td>\n      <td>0</td>\n      <td>0</td>\n      <td>0.0</td>\n      <td>0.0</td>\n      <td>0.0</td>\n      <td>0.0</td>\n      <td>0.0</td>\n      <td>2.0</td>\n    </tr>\n    <tr>\n      <th>48743</th>\n      <td>456250</td>\n      <td>Cash loans</td>\n      <td>F</td>\n      <td>Y</td>\n      <td>N</td>\n      <td>0</td>\n      <td>135000.0</td>\n      <td>312768.0</td>\n      <td>24709.5</td>\n      <td>270000.0</td>\n      <td>...</td>\n      <td>0</td>\n      <td>0</td>\n      <td>0</td>\n      <td>0</td>\n      <td>0.0</td>\n      <td>0.0</td>\n      <td>0.0</td>\n      <td>0.0</td>\n      <td>1.0</td>\n      <td>4.0</td>\n    </tr>\n  </tbody>\n</table>\n<p>48744 rows × 121 columns</p>\n</div>"
     },
     "execution_count": 8,
     "metadata": {},
     "output_type": "execute_result"
    }
   ],
   "source": [
    "application_test"
   ],
   "metadata": {
    "collapsed": false,
    "pycharm": {
     "name": "#%%\n"
    }
   }
  },
  {
   "cell_type": "code",
   "execution_count": 9,
   "outputs": [
    {
     "data": {
      "text/plain": "0    282686\n1     24825\nName: TARGET, dtype: int64"
     },
     "execution_count": 9,
     "metadata": {},
     "output_type": "execute_result"
    }
   ],
   "source": [
    "application_train['TARGET'].value_counts()"
   ],
   "metadata": {
    "collapsed": false,
    "pycharm": {
     "name": "#%%\n"
    }
   }
  },
  {
   "cell_type": "code",
   "execution_count": 10,
   "outputs": [
    {
     "data": {
      "text/plain": "{'TARGET'}"
     },
     "execution_count": 10,
     "metadata": {},
     "output_type": "execute_result"
    }
   ],
   "source": [
    "set(application_train.columns) - set(application_test.columns)"
   ],
   "metadata": {
    "collapsed": false,
    "pycharm": {
     "name": "#%%\n"
    }
   }
  },
  {
   "cell_type": "code",
   "execution_count": 11,
   "outputs": [
    {
     "data": {
      "text/plain": "0         1\n1         0\n2         0\n3         0\n4         0\n         ..\n307506    0\n307507    0\n307508    0\n307509    1\n307510    0\nName: TARGET, Length: 307511, dtype: int64"
     },
     "execution_count": 11,
     "metadata": {},
     "output_type": "execute_result"
    }
   ],
   "source": [
    "application_train['TARGET']"
   ],
   "metadata": {
    "collapsed": false,
    "pycharm": {
     "name": "#%%\n"
    }
   }
  },
  {
   "cell_type": "code",
   "execution_count": 12,
   "outputs": [
    {
     "data": {
      "text/plain": "<AxesSubplot:xlabel='TARGET', ylabel='Count'>"
     },
     "execution_count": 12,
     "metadata": {},
     "output_type": "execute_result"
    },
    {
     "data": {
      "text/plain": "<Figure size 432x288 with 1 Axes>",
      "image/png": "[encoded data removed]"
     },
     "metadata": {},
     "output_type": "display_data"
    }
   ],
   "source": [
    "sns.histplot(data=application_train, x=\"TARGET\")"
   ],
   "metadata": {
    "collapsed": false,
    "pycharm": {
     "name": "#%%\n"
    }
   }
  },
  {
   "cell_type": "code",
   "execution_count": 13,
   "outputs": [
    {
     "data": {
      "text/plain": "['Solarize_Light2',\n '_classic_test_patch',\n 'bmh',\n 'classic',\n 'dark_background',\n 'fast',\n 'fivethirtyeight',\n 'ggplot',\n 'grayscale',\n 'seaborn',\n 'seaborn-bright',\n 'seaborn-colorblind',\n 'seaborn-dark',\n 'seaborn-dark-palette',\n 'seaborn-darkgrid',\n 'seaborn-deep',\n 'seaborn-muted',\n 'seaborn-notebook',\n 'seaborn-paper',\n 'seaborn-pastel',\n 'seaborn-poster',\n 'seaborn-talk',\n 'seaborn-ticks',\n 'seaborn-white',\n 'seaborn-whitegrid',\n 'tableau-colorblind10']"
     },
     "execution_count": 13,
     "metadata": {},
     "output_type": "execute_result"
    }
   ],
   "source": [
    "plt.style.available"
   ],
   "metadata": {
    "collapsed": false,
    "pycharm": {
     "name": "#%%\n"
    }
   }
  },
  {
   "cell_type": "code",
   "execution_count": 14,
   "outputs": [
    {
     "data": {
      "text/plain": "<Figure size 432x288 with 1 Axes>",
      "image/png": "[encoded data removed]"
     },
     "metadata": {},
     "output_type": "display_data"
    }
   ],
   "source": [
    "sns.histplot(data=application_train, x=\"TARGET\")\n",
    "plt.title('')\n",
    "plt.show()"
   ],
   "metadata": {
    "collapsed": false,
    "pycharm": {
     "name": "#%%\n"
    }
   }
  },
  {
   "cell_type": "code",
   "execution_count": 15,
   "outputs": [
    {
     "data": {
      "text/plain": "<Figure size 432x288 with 1 Axes>",
      "image/png": "[encoded data removed]"
     },
     "metadata": {},
     "output_type": "display_data"
    }
   ],
   "source": [
    "g = sns.histplot(data=application_train, x=\"AMT_INCOME_TOTAL\")\n",
    "g.set_yscale(\"log\")\n",
    "g.set_xscale(\"log\")\n",
    "plt.title('')\n",
    "plt.show()"
   ],
   "metadata": {
    "collapsed": false,
    "pycharm": {
     "name": "#%%\n"
    }
   }
  },
  {
   "cell_type": "code",
   "execution_count": 16,
   "outputs": [
    {
     "data": {
      "text/plain": "81000.0"
     },
     "execution_count": 16,
     "metadata": {},
     "output_type": "execute_result"
    }
   ],
   "source": [
    "application_train['AMT_INCOME_TOTAL'].quantile(.1)"
   ],
   "metadata": {
    "collapsed": false,
    "pycharm": {
     "name": "#%%\n"
    }
   }
  },
  {
   "cell_type": "code",
   "execution_count": 17,
   "outputs": [
    {
     "data": {
      "text/plain": "99000.0"
     },
     "execution_count": 17,
     "metadata": {},
     "output_type": "execute_result"
    }
   ],
   "source": [
    "application_train['AMT_INCOME_TOTAL'].quantile(.2)"
   ],
   "metadata": {
    "collapsed": false,
    "pycharm": {
     "name": "#%%\n"
    }
   }
  },
  {
   "cell_type": "code",
   "execution_count": 18,
   "outputs": [
    {
     "data": {
      "text/plain": "0.1     81000.0\n0.2     99000.0\n0.3    112500.0\nName: AMT_INCOME_TOTAL, dtype: float64"
     },
     "execution_count": 18,
     "metadata": {},
     "output_type": "execute_result"
    }
   ],
   "source": [
    "application_train['AMT_INCOME_TOTAL'].quantile([.1, .2, .3])\n"
   ],
   "metadata": {
    "collapsed": false,
    "pycharm": {
     "name": "#%%\n"
    }
   }
  },
  {
   "cell_type": "code",
   "execution_count": 19,
   "outputs": [
    {
     "data": {
      "text/plain": "0.0        25650.0\n0.1        81000.0\n0.2        99000.0\n0.3       112500.0\n0.4       135000.0\n0.5       147150.0\n0.6       162000.0\n0.7       180000.0\n0.8       225000.0\n0.9       270000.0\n1.0    117000000.0\nName: AMT_INCOME_TOTAL, dtype: float64"
     },
     "execution_count": 19,
     "metadata": {},
     "output_type": "execute_result"
    }
   ],
   "source": [
    "application_train['AMT_INCOME_TOTAL'].quantile(np.arange(0, 1.1, .1))"
   ],
   "metadata": {
    "collapsed": false,
    "pycharm": {
     "name": "#%%\n"
    }
   }
  },
  {
   "cell_type": "code",
   "execution_count": 20,
   "outputs": [
    {
     "data": {
      "text/plain": "963"
     },
     "execution_count": 20,
     "metadata": {},
     "output_type": "execute_result"
    }
   ],
   "source": [
    "application_train['AMT_INCOME_TOTAL'].apply(lambda x: 20000 <= x < 40000).sum()"
   ],
   "metadata": {
    "collapsed": false,
    "pycharm": {
     "name": "#%%\n"
    }
   }
  },
  {
   "cell_type": "code",
   "execution_count": 21,
   "outputs": [],
   "source": [
    "lower_bound_income = np.arange(0, 300, 20)\n",
    "upper_bound_income = [u + 20 for u in lower_bound_income]\n",
    "upper_bound_income[-1] = np.inf"
   ],
   "metadata": {
    "collapsed": false,
    "pycharm": {
     "name": "#%%\n"
    }
   }
  },
  {
   "cell_type": "code",
   "execution_count": 22,
   "outputs": [],
   "source": [
    "range_name = []\n",
    "effectifs = []\n",
    "\n",
    "for low, up in zip(lower_bound_income, upper_bound_income):\n",
    "    range_name.append(str(low) + 'k' + '-' + str(up) + 'k')\n",
    "    effectifs.append(application_train['AMT_INCOME_TOTAL'].apply(lambda x: 1000*low <= x < 1000*up).sum())"
   ],
   "metadata": {
    "collapsed": false,
    "pycharm": {
     "name": "#%%\n"
    }
   }
  },
  {
   "cell_type": "code",
   "execution_count": 23,
   "outputs": [
    {
     "data": {
      "text/plain": "<Figure size 432x288 with 1 Axes>",
      "image/png": "[encoded data removed]"
     },
     "metadata": {},
     "output_type": "display_data"
    }
   ],
   "source": [
    "sns.barplot(x=range_name, y=effectifs)\n",
    "plt.xticks(rotation=45)\n",
    "plt.show()"
   ],
   "metadata": {
    "collapsed": false,
    "pycharm": {
     "name": "#%%\n"
    }
   }
  },
  {
   "cell_type": "code",
   "execution_count": 24,
   "outputs": [
    {
     "data": {
      "text/plain": "{'Cash loans', 'Revolving loans'}"
     },
     "execution_count": 24,
     "metadata": {},
     "output_type": "execute_result"
    }
   ],
   "source": [
    "set(application_train['NAME_CONTRACT_TYPE'])"
   ],
   "metadata": {
    "collapsed": false,
    "pycharm": {
     "name": "#%%\n"
    }
   }
  },
  {
   "cell_type": "code",
   "execution_count": 25,
   "outputs": [
    {
     "data": {
      "text/plain": "{'F', 'M', 'XNA'}"
     },
     "execution_count": 25,
     "metadata": {},
     "output_type": "execute_result"
    }
   ],
   "source": [
    "set(application_train['CODE_GENDER'])"
   ],
   "metadata": {
    "collapsed": false,
    "pycharm": {
     "name": "#%%\n"
    }
   }
  },
  {
   "cell_type": "code",
   "execution_count": 26,
   "outputs": [],
   "source": [
    "width_income_group = 20000\n",
    "width_income_group_k = int(width_income_group // 1000)\n",
    "max_income_group = 20\n",
    "application_train['income_group'] = application_train['AMT_INCOME_TOTAL'].astype(int) // width_income_group\n",
    "application_train['income_group'] = application_train['income_group'].apply(lambda x: min(x, max_income_group))"
   ],
   "metadata": {
    "collapsed": false,
    "pycharm": {
     "name": "#%%\n"
    }
   }
  },
  {
   "cell_type": "code",
   "execution_count": 27,
   "outputs": [],
   "source": [
    "fails = pd.DataFrame(application_train[application_train['TARGET'] == 1]['income_group'].value_counts().sort_index().rename('nb_loans'))\n",
    "fails['status'] = 'fail'\n",
    "success = pd.DataFrame(application_train[application_train['TARGET'] == 0]['income_group'].value_counts().sort_index().rename('nb_loans'))\n",
    "success['status'] = 'success'\n",
    "to_plot = pd.concat([fails, success])"
   ],
   "metadata": {
    "collapsed": false,
    "pycharm": {
     "name": "#%%\n"
    }
   }
  },
  {
   "cell_type": "code",
   "execution_count": 28,
   "outputs": [],
   "source": [
    "labels = [str(width_income_group_k * x) + 'k-' + str(width_income_group_k * (x+1)) + 'k' for x in to_plot.index]\n",
    "max_income = labels[-1]\n",
    "labels = [((labels[-1].split('-')[0] + '+') if l == max_income else l)for l in labels]\n",
    "to_plot.index = labels\n",
    "to_plot = to_plot.reset_index().rename(columns={'index': 'income_group'})"
   ],
   "metadata": {
    "collapsed": false,
    "pycharm": {
     "name": "#%%\n"
    }
   }
  },
  {
   "cell_type": "code",
   "execution_count": 29,
   "outputs": [
    {
     "data": {
      "text/plain": "   income_group  nb_loans   status\n0       20k-40k        80     fail\n1       40k-60k       558     fail\n2       60k-80k      1531     fail\n3      80k-100k      3056     fail\n4     100k-120k      3461     fail\n5     120k-140k      3991     fail\n6     140k-160k      2860     fail\n7     160k-180k       635     fail\n8     180k-200k      2379     fail\n9     200k-220k      1601     fail\n10    220k-240k      1712     fail\n11    240k-260k       498     fail\n12    260k-280k       822     fail\n13    280k-300k       288     fail\n14    300k-320k       403     fail\n15    320k-340k       134     fail\n16    340k-360k        23     fail\n17    360k-380k       245     fail\n18    380k-400k        80     fail\n19        400k+       468     fail\n20      20k-40k       883  success\n21      40k-60k      7031  success\n22      60k-80k     17280  success\n23     80k-100k     33279  success\n24    100k-120k     36178  success\n25    120k-140k     43047  success\n26    140k-160k     29892  success\n27    160k-180k      7103  success\n28    180k-200k     26352  success\n29    200k-220k     18066  success\n30    220k-240k     20940  success\n31    240k-260k      6392  success\n32    260k-280k     11128  success\n33    280k-300k      3729  success\n34    300k-320k      6195  success\n35    320k-340k      1978  success\n36    340k-360k       389  success\n37    360k-380k      4113  success\n38    380k-400k      1116  success\n39        400k+      7595  success",
      "text/html": "<div>\n<style scoped>\n    .dataframe tbody tr th:only-of-type {\n        vertical-align: middle;\n    }\n\n    .dataframe tbody tr th {\n        vertical-align: top;\n    }\n\n    .dataframe thead th {\n        text-align: right;\n    }\n</style>\n<table border=\"1\" class=\"dataframe\">\n  <thead>\n    <tr style=\"text-align: right;\">\n      <th></th>\n      <th>income_group</th>\n      <th>nb_loans</th>\n      <th>status</th>\n    </tr>\n  </thead>\n  <tbody>\n    <tr>\n      <th>0</th>\n      <td>20k-40k</td>\n      <td>80</td>\n      <td>fail</td>\n    </tr>\n    <tr>\n      <th>1</th>\n      <td>40k-60k</td>\n      <td>558</td>\n      <td>fail</td>\n    </tr>\n    <tr>\n      <th>2</th>\n      <td>60k-80k</td>\n      <td>1531</td>\n      <td>fail</td>\n    </tr>\n    <tr>\n      <th>3</th>\n      <td>80k-100k</td>\n      <td>3056</td>\n      <td>fail</td>\n    </tr>\n    <tr>\n      <th>4</th>\n      <td>100k-120k</td>\n      <td>3461</td>\n      <td>fail</td>\n    </tr>\n    <tr>\n      <th>5</th>\n      <td>120k-140k</td>\n      <td>3991</td>\n      <td>fail</td>\n    </tr>\n    <tr>\n      <th>6</th>\n      <td>140k-160k</td>\n      <td>2860</td>\n      <td>fail</td>\n    </tr>\n    <tr>\n      <th>7</th>\n      <td>160k-180k</td>\n      <td>635</td>\n      <td>fail</td>\n    </tr>\n    <tr>\n      <th>8</th>\n      <td>180k-200k</td>\n      <td>2379</td>\n      <td>fail</td>\n    </tr>\n    <tr>\n      <th>9</th>\n      <td>200k-220k</td>\n      <td>1601</td>\n      <td>fail</td>\n    </tr>\n    <tr>\n      <th>10</th>\n      <td>220k-240k</td>\n      <td>1712</td>\n      <td>fail</td>\n    </tr>\n    <tr>\n      <th>11</th>\n      <td>240k-260k</td>\n      <td>498</td>\n      <td>fail</td>\n    </tr>\n    <tr>\n      <th>12</th>\n      <td>260k-280k</td>\n      <td>822</td>\n      <td>fail</td>\n    </tr>\n    <tr>\n      <th>13</th>\n      <td>280k-300k</td>\n      <td>288</td>\n      <td>fail</td>\n    </tr>\n    <tr>\n      <th>14</th>\n      <td>300k-320k</td>\n      <td>403</td>\n      <td>fail</td>\n    </tr>\n    <tr>\n      <th>15</th>\n      <td>320k-340k</td>\n      <td>134</td>\n      <td>fail</td>\n    </tr>\n    <tr>\n      <th>16</th>\n      <td>340k-360k</td>\n      <td>23</td>\n      <td>fail</td>\n    </tr>\n    <tr>\n      <th>17</th>\n      <td>360k-380k</td>\n      <td>245</td>\n      <td>fail</td>\n    </tr>\n    <tr>\n      <th>18</th>\n      <td>380k-400k</td>\n      <td>80</td>\n      <td>fail</td>\n    </tr>\n    <tr>\n      <th>19</th>\n      <td>400k+</td>\n      <td>468</td>\n      <td>fail</td>\n    </tr>\n    <tr>\n      <th>20</th>\n      <td>20k-40k</td>\n      <td>883</td>\n      <td>success</td>\n    </tr>\n    <tr>\n      <th>21</th>\n      <td>40k-60k</td>\n      <td>7031</td>\n      <td>success</td>\n    </tr>\n    <tr>\n      <th>22</th>\n      <td>60k-80k</td>\n      <td>17280</td>\n      <td>success</td>\n    </tr>\n    <tr>\n      <th>23</th>\n      <td>80k-100k</td>\n      <td>33279</td>\n      <td>success</td>\n    </tr>\n    <tr>\n      <th>24</th>\n      <td>100k-120k</td>\n      <td>36178</td>\n      <td>success</td>\n    </tr>\n    <tr>\n      <th>25</th>\n      <td>120k-140k</td>\n      <td>43047</td>\n      <td>success</td>\n    </tr>\n    <tr>\n      <th>26</th>\n      <td>140k-160k</td>\n      <td>29892</td>\n      <td>success</td>\n    </tr>\n    <tr>\n      <th>27</th>\n      <td>160k-180k</td>\n      <td>7103</td>\n      <td>success</td>\n    </tr>\n    <tr>\n      <th>28</th>\n      <td>180k-200k</td>\n      <td>26352</td>\n      <td>success</td>\n    </tr>\n    <tr>\n      <th>29</th>\n      <td>200k-220k</td>\n      <td>18066</td>\n      <td>success</td>\n    </tr>\n    <tr>\n      <th>30</th>\n      <td>220k-240k</td>\n      <td>20940</td>\n      <td>success</td>\n    </tr>\n    <tr>\n      <th>31</th>\n      <td>240k-260k</td>\n      <td>6392</td>\n      <td>success</td>\n    </tr>\n    <tr>\n      <th>32</th>\n      <td>260k-280k</td>\n      <td>11128</td>\n      <td>success</td>\n    </tr>\n    <tr>\n      <th>33</th>\n      <td>280k-300k</td>\n      <td>3729</td>\n      <td>success</td>\n    </tr>\n    <tr>\n      <th>34</th>\n      <td>300k-320k</td>\n      <td>6195</td>\n      <td>success</td>\n    </tr>\n    <tr>\n      <th>35</th>\n      <td>320k-340k</td>\n      <td>1978</td>\n      <td>success</td>\n    </tr>\n    <tr>\n      <th>36</th>\n      <td>340k-360k</td>\n      <td>389</td>\n      <td>success</td>\n    </tr>\n    <tr>\n      <th>37</th>\n      <td>360k-380k</td>\n      <td>4113</td>\n      <td>success</td>\n    </tr>\n    <tr>\n      <th>38</th>\n      <td>380k-400k</td>\n      <td>1116</td>\n      <td>success</td>\n    </tr>\n    <tr>\n      <th>39</th>\n      <td>400k+</td>\n      <td>7595</td>\n      <td>success</td>\n    </tr>\n  </tbody>\n</table>\n</div>"
     },
     "execution_count": 29,
     "metadata": {},
     "output_type": "execute_result"
    }
   ],
   "source": [
    "to_plot"
   ],
   "metadata": {
    "collapsed": false,
    "pycharm": {
     "name": "#%%\n"
    }
   }
  },
  {
   "cell_type": "code",
   "execution_count": 30,
   "outputs": [],
   "source": [
    "fig = go.Figure()\n",
    "for status, group in to_plot.groupby(\"status\"):\n",
    "    fig.add_trace(go.Bar(x=group[\"income_group\"], y=group[\"nb_loans\"], name=status,\n",
    "      hovertemplate=\"status=%s<br>income_group=%%{x}<br>nb_loans=%%{y}<extra></extra>\"% status))\n",
    "fig.update_layout(legend_title_text = \"Status\")\n",
    "fig.update_xaxes(title_text=\"income_group\")\n",
    "fig.update_yaxes(title_text=\"nb_loans\")\n",
    "fig.update_layout(barmode='stack')\n",
    "fig.show()"
   ],
   "metadata": {
    "collapsed": false,
    "pycharm": {
     "name": "#%%\n"
    }
   }
  },
  {
   "cell_type": "code",
   "execution_count": 31,
   "outputs": [],
   "source": [
    "max_children = 3\n",
    "application_train['children_group'] = application_train['CNT_CHILDREN']\\\n",
    "    .apply(lambda x: str(x) if x < max_children else str(max_children) + '+')"
   ],
   "metadata": {
    "collapsed": false,
    "pycharm": {
     "name": "#%%\n"
    }
   }
  },
  {
   "cell_type": "code",
   "execution_count": 32,
   "outputs": [
    {
     "data": {
      "text/plain": "0     215371\n1      61119\n2      26749\n3+      4272\nName: children_group, dtype: int64"
     },
     "execution_count": 32,
     "metadata": {},
     "output_type": "execute_result"
    }
   ],
   "source": [
    "application_train['children_group'].value_counts().sort_index()"
   ],
   "metadata": {
    "collapsed": false,
    "pycharm": {
     "name": "#%%\n"
    }
   }
  },
  {
   "cell_type": "code",
   "execution_count": 33,
   "outputs": [],
   "source": [
    "children_filter = '3+'\n",
    "def get_data_filtered_by_child_group(group=None):\n",
    "    if not group:\n",
    "        return application_train\n",
    "    return application_train[application_train['children_group'] == group]\n"
   ],
   "metadata": {
    "collapsed": false,
    "pycharm": {
     "name": "#%%\n"
    }
   }
  },
  {
   "cell_type": "code",
   "execution_count": 34,
   "outputs": [],
   "source": [
    "df = get_data_filtered_by_child_group(children_filter)"
   ],
   "metadata": {
    "collapsed": false,
    "pycharm": {
     "name": "#%%\n"
    }
   }
  },
  {
   "cell_type": "code",
   "execution_count": 35,
   "outputs": [
    {
     "data": {
      "text/plain": "   income_group  nb_loans   status\n0       20k-40k        80     fail\n1       40k-60k       558     fail\n2       60k-80k      1531     fail\n3      80k-100k      3056     fail\n4     100k-120k      3461     fail\n5     120k-140k      3991     fail\n6     140k-160k      2860     fail\n7     160k-180k       635     fail\n8     180k-200k      2379     fail\n9     200k-220k      1601     fail\n10    220k-240k      1712     fail\n11    240k-260k       498     fail\n12    260k-280k       822     fail\n13    280k-300k       288     fail\n14    300k-320k       403     fail\n15    320k-340k       134     fail\n16    340k-360k        23     fail\n17    360k-380k       245     fail\n18    380k-400k        80     fail\n19        400k+       468     fail\n20      20k-40k       883  success\n21      40k-60k      7031  success\n22      60k-80k     17280  success\n23     80k-100k     33279  success\n24    100k-120k     36178  success\n25    120k-140k     43047  success\n26    140k-160k     29892  success\n27    160k-180k      7103  success\n28    180k-200k     26352  success\n29    200k-220k     18066  success\n30    220k-240k     20940  success\n31    240k-260k      6392  success\n32    260k-280k     11128  success\n33    280k-300k      3729  success\n34    300k-320k      6195  success\n35    320k-340k      1978  success\n36    340k-360k       389  success\n37    360k-380k      4113  success\n38    380k-400k      1116  success\n39        400k+      7595  success",
      "text/html": "<div>\n<style scoped>\n    .dataframe tbody tr th:only-of-type {\n        vertical-align: middle;\n    }\n\n    .dataframe tbody tr th {\n        vertical-align: top;\n    }\n\n    .dataframe thead th {\n        text-align: right;\n    }\n</style>\n<table border=\"1\" class=\"dataframe\">\n  <thead>\n    <tr style=\"text-align: right;\">\n      <th></th>\n      <th>income_group</th>\n      <th>nb_loans</th>\n      <th>status</th>\n    </tr>\n  </thead>\n  <tbody>\n    <tr>\n      <th>0</th>\n      <td>20k-40k</td>\n      <td>80</td>\n      <td>fail</td>\n    </tr>\n    <tr>\n      <th>1</th>\n      <td>40k-60k</td>\n      <td>558</td>\n      <td>fail</td>\n    </tr>\n    <tr>\n      <th>2</th>\n      <td>60k-80k</td>\n      <td>1531</td>\n      <td>fail</td>\n    </tr>\n    <tr>\n      <th>3</th>\n      <td>80k-100k</td>\n      <td>3056</td>\n      <td>fail</td>\n    </tr>\n    <tr>\n      <th>4</th>\n      <td>100k-120k</td>\n      <td>3461</td>\n      <td>fail</td>\n    </tr>\n    <tr>\n      <th>5</th>\n      <td>120k-140k</td>\n      <td>3991</td>\n      <td>fail</td>\n    </tr>\n    <tr>\n      <th>6</th>\n      <td>140k-160k</td>\n      <td>2860</td>\n      <td>fail</td>\n    </tr>\n    <tr>\n      <th>7</th>\n      <td>160k-180k</td>\n      <td>635</td>\n      <td>fail</td>\n    </tr>\n    <tr>\n      <th>8</th>\n      <td>180k-200k</td>\n      <td>2379</td>\n      <td>fail</td>\n    </tr>\n    <tr>\n      <th>9</th>\n      <td>200k-220k</td>\n      <td>1601</td>\n      <td>fail</td>\n    </tr>\n    <tr>\n      <th>10</th>\n      <td>220k-240k</td>\n      <td>1712</td>\n      <td>fail</td>\n    </tr>\n    <tr>\n      <th>11</th>\n      <td>240k-260k</td>\n      <td>498</td>\n      <td>fail</td>\n    </tr>\n    <tr>\n      <th>12</th>\n      <td>260k-280k</td>\n      <td>822</td>\n      <td>fail</td>\n    </tr>\n    <tr>\n      <th>13</th>\n      <td>280k-300k</td>\n      <td>288</td>\n      <td>fail</td>\n    </tr>\n    <tr>\n      <th>14</th>\n      <td>300k-320k</td>\n      <td>403</td>\n      <td>fail</td>\n    </tr>\n    <tr>\n      <th>15</th>\n      <td>320k-340k</td>\n      <td>134</td>\n      <td>fail</td>\n    </tr>\n    <tr>\n      <th>16</th>\n      <td>340k-360k</td>\n      <td>23</td>\n      <td>fail</td>\n    </tr>\n    <tr>\n      <th>17</th>\n      <td>360k-380k</td>\n      <td>245</td>\n      <td>fail</td>\n    </tr>\n    <tr>\n      <th>18</th>\n      <td>380k-400k</td>\n      <td>80</td>\n      <td>fail</td>\n    </tr>\n    <tr>\n      <th>19</th>\n      <td>400k+</td>\n      <td>468</td>\n      <td>fail</td>\n    </tr>\n    <tr>\n      <th>20</th>\n      <td>20k-40k</td>\n      <td>883</td>\n      <td>success</td>\n    </tr>\n    <tr>\n      <th>21</th>\n      <td>40k-60k</td>\n      <td>7031</td>\n      <td>success</td>\n    </tr>\n    <tr>\n      <th>22</th>\n      <td>60k-80k</td>\n      <td>17280</td>\n      <td>success</td>\n    </tr>\n    <tr>\n      <th>23</th>\n      <td>80k-100k</td>\n      <td>33279</td>\n      <td>success</td>\n    </tr>\n    <tr>\n      <th>24</th>\n      <td>100k-120k</td>\n      <td>36178</td>\n      <td>success</td>\n    </tr>\n    <tr>\n      <th>25</th>\n      <td>120k-140k</td>\n      <td>43047</td>\n      <td>success</td>\n    </tr>\n    <tr>\n      <th>26</th>\n      <td>140k-160k</td>\n      <td>29892</td>\n      <td>success</td>\n    </tr>\n    <tr>\n      <th>27</th>\n      <td>160k-180k</td>\n      <td>7103</td>\n      <td>success</td>\n    </tr>\n    <tr>\n      <th>28</th>\n      <td>180k-200k</td>\n      <td>26352</td>\n      <td>success</td>\n    </tr>\n    <tr>\n      <th>29</th>\n      <td>200k-220k</td>\n      <td>18066</td>\n      <td>success</td>\n    </tr>\n    <tr>\n      <th>30</th>\n      <td>220k-240k</td>\n      <td>20940</td>\n      <td>success</td>\n    </tr>\n    <tr>\n      <th>31</th>\n      <td>240k-260k</td>\n      <td>6392</td>\n      <td>success</td>\n    </tr>\n    <tr>\n      <th>32</th>\n      <td>260k-280k</td>\n      <td>11128</td>\n      <td>success</td>\n    </tr>\n    <tr>\n      <th>33</th>\n      <td>280k-300k</td>\n      <td>3729</td>\n      <td>success</td>\n    </tr>\n    <tr>\n      <th>34</th>\n      <td>300k-320k</td>\n      <td>6195</td>\n      <td>success</td>\n    </tr>\n    <tr>\n      <th>35</th>\n      <td>320k-340k</td>\n      <td>1978</td>\n      <td>success</td>\n    </tr>\n    <tr>\n      <th>36</th>\n      <td>340k-360k</td>\n      <td>389</td>\n      <td>success</td>\n    </tr>\n    <tr>\n      <th>37</th>\n      <td>360k-380k</td>\n      <td>4113</td>\n      <td>success</td>\n    </tr>\n    <tr>\n      <th>38</th>\n      <td>380k-400k</td>\n      <td>1116</td>\n      <td>success</td>\n    </tr>\n    <tr>\n      <th>39</th>\n      <td>400k+</td>\n      <td>7595</td>\n      <td>success</td>\n    </tr>\n  </tbody>\n</table>\n</div>"
     },
     "execution_count": 35,
     "metadata": {},
     "output_type": "execute_result"
    }
   ],
   "source": [
    "to_plot"
   ],
   "metadata": {
    "collapsed": false,
    "pycharm": {
     "name": "#%%\n"
    }
   }
  },
  {
   "cell_type": "markdown",
   "source": [
    "## Ok we're done browsing let's use kaggle kernel"
   ],
   "metadata": {
    "collapsed": false
   }
  },
  {
   "cell_type": "code",
   "execution_count": 36,
   "outputs": [],
   "source": [
    "import matplotlib.pyplot as plt\n",
    "import numpy as np\n",
    "import pandas as pd\n",
    "import seaborn as sns\n",
    "import re\n",
    "import warnings\n",
    "import pickle\n",
    "import time\n",
    "\n",
    "from imblearn.over_sampling import SMOTE\n",
    "from sklearn.linear_model import LogisticRegression\n",
    "from sklearn.metrics import accuracy_score, recall_score, confusion_matrix, fbeta_score, roc_auc_score\n",
    "from sklearn.model_selection import train_test_split\n",
    "from sklearn.tree import DecisionTreeClassifier\n",
    "from sklearn.ensemble import RandomForestClassifier\n",
    "from lightgbm import LGBMClassifier\n",
    "from sklearn.decomposition import PCA\n",
    "from sklearn.model_selection import GridSearchCV, StratifiedKFold\n",
    "\n",
    "from kaggle_kernel import preprocess_data, timer\n",
    "\n",
    "warnings.simplefilter(action='ignore', category=FutureWarning)\n",
    "pd.set_option('mode.chained_assignment', None)"
   ],
   "metadata": {
    "collapsed": false,
    "pycharm": {
     "name": "#%%\n"
    }
   }
  },
  {
   "cell_type": "code",
   "execution_count": 37,
   "outputs": [],
   "source": [
    "temp_directory = 'fast_forward/'\n",
    "\n",
    "def fast_forward_retrieve(filename):\n",
    "    print('RETRIEVING', filename)\n",
    "    return pickle.load(open(temp_directory + filename, 'rb'))\n",
    "\n",
    "def file_exists(filename):\n",
    "    exists = os.path.exists(temp_directory + filename)\n",
    "    print(filename, 'found' if exists else \"not found\")\n",
    "    return exists\n",
    "\n",
    "def fast_forward_save(obj, filename):\n",
    "    print('SAVING', filename)\n",
    "    pickle.dump(obj, open(temp_directory + filename, 'wb'))"
   ],
   "metadata": {
    "collapsed": false,
    "pycharm": {
     "name": "#%%\n"
    }
   }
  },
  {
   "cell_type": "code",
   "execution_count": 38,
   "outputs": [
    {
     "name": "stdout",
     "output_type": "stream",
     "text": [
      "df_from_kernel not found\n",
      "Train samples: 307511, test samples: 48744\n",
      "Bureau df shape: (305811, 116)\n",
      "Process bureau and bureau_balance - done in 13s\n",
      "\n",
      "Previous applications df shape: (338857, 249)\n",
      "Process previous_applications - done in 14s\n",
      "\n",
      "Pos-cash balance df shape: (337252, 18)\n",
      "Process POS-CASH balance - done in 7s\n",
      "\n",
      "Installments payments df shape: (339587, 26)\n",
      "Process installments payments - done in 20s\n",
      "\n",
      "Credit card balance df shape: (103558, 169)\n",
      "Process credit card balance - done in 9s\n",
      "\n",
      "fetching data - done in 71s\n",
      "\n",
      "SAVING df_from_kernel\n"
     ]
    }
   ],
   "source": [
    "filename = 'df_from_kernel'\n",
    "\n",
    "if file_exists(filename):\n",
    "    df = fast_forward_retrieve(filename)\n",
    "else:\n",
    "    with timer('fetching data'):\n",
    "        df = preprocess_data()\n",
    "    fast_forward_save(df, filename)"
   ],
   "metadata": {
    "collapsed": false,
    "pycharm": {
     "name": "#%%\n"
    }
   }
  },
  {
   "cell_type": "code",
   "execution_count": 39,
   "outputs": [],
   "source": [
    "# df = df.set_index('SK_ID_CURR')[columns]"
   ],
   "metadata": {
    "collapsed": false,
    "pycharm": {
     "name": "#%%\n"
    }
   }
  },
  {
   "cell_type": "code",
   "execution_count": 40,
   "outputs": [],
   "source": [
    "df['CNT_FAM_MEMBERS'] = df['CNT_FAM_MEMBERS'].astype(int)"
   ],
   "metadata": {
    "collapsed": false,
    "pycharm": {
     "name": "#%%\n"
    }
   }
  },
  {
   "cell_type": "code",
   "source": [
    "str_len = max([len(c) for c in df.columns])\n",
    "for c in df.columns:\n",
    "    null_percentage_this_col = 100 * df[c].isnull().sum() // len(df[c])\n",
    "    if null_percentage_this_col:\n",
    "        print(c.rjust(str_len), null_percentage_this_col, '% null')\n",
    "\n",
    "df['percentage_columns_null'] = (100 * df.isnull().sum(axis=1) / df.shape[1]).astype(int)\n",
    "df['TARGET'] = df['TARGET'].replace(np.NaN, 'nan')\n",
    "\n",
    "df_w_target = df[df['TARGET'] != 'nan']\n",
    "df_w_target.loc[:, 'TARGET'] = df_w_target.loc[:, 'TARGET'].astype(int)"
   ],
   "metadata": {
    "collapsed": false,
    "pycharm": {
     "name": "#%%\n"
    }
   },
   "execution_count": 41,
   "outputs": [
    {
     "name": "stdout",
     "output_type": "stream",
     "text": [
      "                                                               TARGET 13 % null\n"
     ]
    }
   ]
  },
  {
   "cell_type": "raw",
   "source": [
    "sns.histplot(data=df, x=\"percentage_columns_null\", hue=\"TARGET\", multiple=\"stack\", bins=38)\n",
    "plt.title('Number of individuals per null_columns')\n",
    "plt.show()\n",
    "\n",
    "sns.histplot(data=df, x=\"percentage_columns_null\", hue=\"TARGET\", multiple=\"stack\", bins=38, log_scale=(False, True))\n",
    "plt.title('Number of individuals per null_columns (log scale)')\n",
    "plt.show()\n"
   ],
   "metadata": {
    "collapsed": false,
    "pycharm": {
     "name": "#%% raw\n"
    }
   }
  },
  {
   "cell_type": "raw",
   "source": [
    "sns.histplot((100 * df.isnull().sum(axis=0) / df.shape[0]))\n",
    "plt.xlabel('percentage null values')\n",
    "plt.ylabel('columns count')\n",
    "plt.title('columns filling')\n",
    "plt.show()\n"
   ],
   "metadata": {
    "collapsed": false,
    "pycharm": {
     "name": "#%% raw\n"
    }
   }
  },
  {
   "cell_type": "code",
   "execution_count": 42,
   "outputs": [
    {
     "name": "stdout",
     "output_type": "stream",
     "text": [
      "df w target shape\n",
      "(307507, 825) (307507,)\n"
     ]
    }
   ],
   "source": [
    "X = df_w_target.loc[:, df_w_target.isnull().sum(axis=0) == 0].drop(columns=['TARGET', 'percentage_columns_null'])\n",
    "y = df_w_target.loc[:, 'TARGET'].astype(int)\n",
    "print('df w target shape')\n",
    "print(X.shape, y.shape)"
   ],
   "metadata": {
    "collapsed": false,
    "pycharm": {
     "name": "#%%\n"
    }
   }
  },
  {
   "cell_type": "code",
   "execution_count": 43,
   "outputs": [
    {
     "name": "stdout",
     "output_type": "stream",
     "text": [
      "X_sm not found\n",
      "SAVING X_sm\n",
      "SAVING y_sm\n",
      "expanding dataset with SMOTE - done in 768s\n",
      "\n",
      "shape after smote\n",
      "(565364, 825) (565364,)\n"
     ]
    }
   ],
   "source": [
    "if file_exists('X_sm') and file_exists('y_sm'):\n",
    "    X_sm, y_sm = fast_forward_retrieve('X_sm'), fast_forward_retrieve('y_sm')\n",
    "    X_sm = X_sm.drop(columns=['index'], errors='ignore').sort_values(by='SK_ID_CURR').set_index('SK_ID_CURR', drop=True)\n",
    "    fast_forward_save(X_sm, 'X_sm')\n",
    "else:\n",
    "    with timer('expanding dataset with SMOTE'):\n",
    "        sm = SMOTE(random_state=0)\n",
    "        X_sm, y_sm = sm.fit_resample(X, y)\n",
    "        fast_forward_save(X_sm, 'X_sm')\n",
    "        fast_forward_save(y_sm, 'y_sm')\n",
    "print('shape after smote')\n",
    "print(X_sm.shape, y_sm.shape)"
   ],
   "metadata": {
    "collapsed": false,
    "pycharm": {
     "name": "#%%\n"
    }
   }
  },
  {
   "cell_type": "code",
   "execution_count": 44,
   "outputs": [],
   "source": [
    "nb_smote_customers = X_sm.shape[0] - X.shape[0]\n",
    "X_sm.iloc[X.shape[0]:, :]['SK_ID_CURR'] = list(range(9000000, 9000000 + nb_smote_customers))"
   ],
   "metadata": {
    "collapsed": false,
    "pycharm": {
     "name": "#%%\n"
    }
   }
  },
  {
   "cell_type": "code",
   "execution_count": 45,
   "outputs": [
    {
     "data": {
      "text/plain": "(565364, 565364)"
     },
     "execution_count": 45,
     "metadata": {},
     "output_type": "execute_result"
    }
   ],
   "source": [
    "len(set(X_sm['SK_ID_CURR'])), len(X_sm)"
   ],
   "metadata": {
    "collapsed": false,
    "pycharm": {
     "name": "#%%\n"
    }
   }
  },
  {
   "cell_type": "code",
   "execution_count": 46,
   "outputs": [],
   "source": [
    "X_sm = X_sm.drop(columns=['index'], errors='ignore').set_index('SK_ID_CURR', drop=True)"
   ],
   "metadata": {
    "collapsed": false,
    "pycharm": {
     "name": "#%%\n"
    }
   }
  },
  {
   "cell_type": "code",
   "execution_count": 47,
   "outputs": [
    {
     "data": {
      "text/plain": "            CODE_GENDER  FLAG_OWN_CAR  FLAG_OWN_REALTY  CNT_CHILDREN  \\\nSK_ID_CURR                                                             \n100002                0             0                0             0   \n100003                1             0                1             0   \n100004                0             1                0             0   \n100006                1             0                0             0   \n100007                0             0                0             0   \n...                 ...           ...              ...           ...   \n9257852               0             0                1             0   \n9257853               1             0                0             1   \n9257854               0             0                0             0   \n9257855               0             0                0             0   \n9257856               0             1                0             0   \n\n            AMT_INCOME_TOTAL    AMT_CREDIT   AMT_ANNUITY  AMT_GOODS_PRICE  \\\nSK_ID_CURR                                                                  \n100002         202500.000000  4.065975e+05  24700.500000     3.510000e+05   \n100003         270000.000000  1.293502e+06  35698.500000     1.129500e+06   \n100004          67500.000000  1.350000e+05   6750.000000     1.350000e+05   \n100006         135000.000000  3.126825e+05  29686.500000     2.970000e+05   \n100007         121500.000000  5.130000e+05  21865.500000     5.130000e+05   \n...                      ...           ...           ...              ...   \n9257852         90000.000000  5.550208e+05  26938.500288     4.500000e+05   \n9257853        269833.115466  1.572602e+06  43625.771242     1.404233e+06   \n9257854        162380.257393  5.255615e+05  29415.734310     4.339173e+05   \n9257855         88179.343466  5.253932e+05  22992.040446     4.696034e+05   \n9257856        204976.393716  1.255784e+06  43674.609953     1.048483e+06   \n\n            REGION_POPULATION_RELATIVE  DAYS_BIRTH  ...  \\\nSK_ID_CURR                                          ...   \n100002                        0.018801       -9461  ...   \n100003                        0.003541      -16765  ...   \n100004                        0.010032      -19046  ...   \n100006                        0.008019      -19005  ...   \n100007                        0.028663      -19932  ...   \n...                                ...         ...  ...   \n9257852                       0.015218      -12140  ...   \n9257853                       0.035332      -13398  ...   \n9257854                       0.035187      -15741  ...   \n9257855                       0.014326      -19704  ...   \n9257856                       0.013901      -13912  ...   \n\n            CC_NAME_CONTRACT_STATUS_Signed_SUM  \\\nSK_ID_CURR                                       \n100002                                     0.0   \n100003                                     0.0   \n100004                                     0.0   \n100006                                     0.0   \n100007                                     0.0   \n...                                        ...   \n9257852                                    0.0   \n9257853                                    0.0   \n9257854                                    0.0   \n9257855                                    0.0   \n9257856                                    0.0   \n\n            CC_NAME_CONTRACT_STATUS_Signed_VAR  \\\nSK_ID_CURR                                       \n100002                                     0.0   \n100003                                     0.0   \n100004                                     0.0   \n100006                                     0.0   \n100007                                     0.0   \n...                                        ...   \n9257852                                    0.0   \n9257853                                    0.0   \n9257854                                    0.0   \n9257855                                    0.0   \n9257856                                    0.0   \n\n            CC_NAME_CONTRACT_STATUS_Signed_MISSING  \\\nSK_ID_CURR                                           \n100002                                           1   \n100003                                           1   \n100004                                           1   \n100006                                           0   \n100007                                           1   \n...                                            ...   \n9257852                                          1   \n9257853                                          1   \n9257854                                          1   \n9257855                                          1   \n9257856                                          1   \n\n            CC_NAME_CONTRACT_STATUS_nan_MIN  CC_NAME_CONTRACT_STATUS_nan_MAX  \\\nSK_ID_CURR                                                                     \n100002                                  0.0                              0.0   \n100003                                  0.0                              0.0   \n100004                                  0.0                              0.0   \n100006                                  0.0                              0.0   \n100007                                  0.0                              0.0   \n...                                     ...                              ...   \n9257852                                 0.0                              0.0   \n9257853                                 0.0                              0.0   \n9257854                                 0.0                              0.0   \n9257855                                 0.0                              0.0   \n9257856                                 0.0                              0.0   \n\n            CC_NAME_CONTRACT_STATUS_nan_MEAN  CC_NAME_CONTRACT_STATUS_nan_SUM  \\\nSK_ID_CURR                                                                      \n100002                                   0.0                              0.0   \n100003                                   0.0                              0.0   \n100004                                   0.0                              0.0   \n100006                                   0.0                              0.0   \n100007                                   0.0                              0.0   \n...                                      ...                              ...   \n9257852                                  0.0                              0.0   \n9257853                                  0.0                              0.0   \n9257854                                  0.0                              0.0   \n9257855                                  0.0                              0.0   \n9257856                                  0.0                              0.0   \n\n            CC_NAME_CONTRACT_STATUS_nan_VAR  \\\nSK_ID_CURR                                    \n100002                                  0.0   \n100003                                  0.0   \n100004                                  0.0   \n100006                                  0.0   \n100007                                  0.0   \n...                                     ...   \n9257852                                 0.0   \n9257853                                 0.0   \n9257854                                 0.0   \n9257855                                 0.0   \n9257856                                 0.0   \n\n            CC_NAME_CONTRACT_STATUS_nan_MISSING  CC_COUNT  \nSK_ID_CURR                                                 \n100002                                        1       0.0  \n100003                                        1       0.0  \n100004                                        1       0.0  \n100006                                        0       6.0  \n100007                                        1       0.0  \n...                                         ...       ...  \n9257852                                       1       0.0  \n9257853                                       1       0.0  \n9257854                                       1       0.0  \n9257855                                       1       0.0  \n9257856                                       1       0.0  \n\n[565364 rows x 823 columns]",
      "text/html": "<div>\n<style scoped>\n    .dataframe tbody tr th:only-of-type {\n        vertical-align: middle;\n    }\n\n    .dataframe tbody tr th {\n        vertical-align: top;\n    }\n\n    .dataframe thead th {\n        text-align: right;\n    }\n</style>\n<table border=\"1\" class=\"dataframe\">\n  <thead>\n    <tr style=\"text-align: right;\">\n      <th></th>\n      <th>CODE_GENDER</th>\n      <th>FLAG_OWN_CAR</th>\n      <th>FLAG_OWN_REALTY</th>\n      <th>CNT_CHILDREN</th>\n      <th>AMT_INCOME_TOTAL</th>\n      <th>AMT_CREDIT</th>\n      <th>AMT_ANNUITY</th>\n      <th>AMT_GOODS_PRICE</th>\n      <th>REGION_POPULATION_RELATIVE</th>\n      <th>DAYS_BIRTH</th>\n      <th>...</th>\n      <th>CC_NAME_CONTRACT_STATUS_Signed_SUM</th>\n      <th>CC_NAME_CONTRACT_STATUS_Signed_VAR</th>\n      <th>CC_NAME_CONTRACT_STATUS_Signed_MISSING</th>\n      <th>CC_NAME_CONTRACT_STATUS_nan_MIN</th>\n      <th>CC_NAME_CONTRACT_STATUS_nan_MAX</th>\n      <th>CC_NAME_CONTRACT_STATUS_nan_MEAN</th>\n      <th>CC_NAME_CONTRACT_STATUS_nan_SUM</th>\n      <th>CC_NAME_CONTRACT_STATUS_nan_VAR</th>\n      <th>CC_NAME_CONTRACT_STATUS_nan_MISSING</th>\n      <th>CC_COUNT</th>\n    </tr>\n    <tr>\n      <th>SK_ID_CURR</th>\n      <th></th>\n      <th></th>\n      <th></th>\n      <th></th>\n      <th></th>\n      <th></th>\n      <th></th>\n      <th></th>\n      <th></th>\n      <th></th>\n      <th></th>\n      <th></th>\n      <th></th>\n      <th></th>\n      <th></th>\n      <th></th>\n      <th></th>\n      <th></th>\n      <th></th>\n      <th></th>\n      <th></th>\n    </tr>\n  </thead>\n  <tbody>\n    <tr>\n      <th>100002</th>\n      <td>0</td>\n      <td>0</td>\n      <td>0</td>\n      <td>0</td>\n      <td>202500.000000</td>\n      <td>4.065975e+05</td>\n      <td>24700.500000</td>\n      <td>3.510000e+05</td>\n      <td>0.018801</td>\n      <td>-9461</td>\n      <td>...</td>\n      <td>0.0</td>\n      <td>0.0</td>\n      <td>1</td>\n      <td>0.0</td>\n      <td>0.0</td>\n      <td>0.0</td>\n      <td>0.0</td>\n      <td>0.0</td>\n      <td>1</td>\n      <td>0.0</td>\n    </tr>\n    <tr>\n      <th>100003</th>\n      <td>1</td>\n      <td>0</td>\n      <td>1</td>\n      <td>0</td>\n      <td>270000.000000</td>\n      <td>1.293502e+06</td>\n      <td>35698.500000</td>\n      <td>1.129500e+06</td>\n      <td>0.003541</td>\n      <td>-16765</td>\n      <td>...</td>\n      <td>0.0</td>\n      <td>0.0</td>\n      <td>1</td>\n      <td>0.0</td>\n      <td>0.0</td>\n      <td>0.0</td>\n      <td>0.0</td>\n      <td>0.0</td>\n      <td>1</td>\n      <td>0.0</td>\n    </tr>\n    <tr>\n      <th>100004</th>\n      <td>0</td>\n      <td>1</td>\n      <td>0</td>\n      <td>0</td>\n      <td>67500.000000</td>\n      <td>1.350000e+05</td>\n      <td>6750.000000</td>\n      <td>1.350000e+05</td>\n      <td>0.010032</td>\n      <td>-19046</td>\n      <td>...</td>\n      <td>0.0</td>\n      <td>0.0</td>\n      <td>1</td>\n      <td>0.0</td>\n      <td>0.0</td>\n      <td>0.0</td>\n      <td>0.0</td>\n      <td>0.0</td>\n      <td>1</td>\n      <td>0.0</td>\n    </tr>\n    <tr>\n      <th>100006</th>\n      <td>1</td>\n      <td>0</td>\n      <td>0</td>\n      <td>0</td>\n      <td>135000.000000</td>\n      <td>3.126825e+05</td>\n      <td>29686.500000</td>\n      <td>2.970000e+05</td>\n      <td>0.008019</td>\n      <td>-19005</td>\n      <td>...</td>\n      <td>0.0</td>\n      <td>0.0</td>\n      <td>0</td>\n      <td>0.0</td>\n      <td>0.0</td>\n      <td>0.0</td>\n      <td>0.0</td>\n      <td>0.0</td>\n      <td>0</td>\n      <td>6.0</td>\n    </tr>\n    <tr>\n      <th>100007</th>\n      <td>0</td>\n      <td>0</td>\n      <td>0</td>\n      <td>0</td>\n      <td>121500.000000</td>\n      <td>5.130000e+05</td>\n      <td>21865.500000</td>\n      <td>5.130000e+05</td>\n      <td>0.028663</td>\n      <td>-19932</td>\n      <td>...</td>\n      <td>0.0</td>\n      <td>0.0</td>\n      <td>1</td>\n      <td>0.0</td>\n      <td>0.0</td>\n      <td>0.0</td>\n      <td>0.0</td>\n      <td>0.0</td>\n      <td>1</td>\n      <td>0.0</td>\n    </tr>\n    <tr>\n      <th>...</th>\n      <td>...</td>\n      <td>...</td>\n      <td>...</td>\n      <td>...</td>\n      <td>...</td>\n      <td>...</td>\n      <td>...</td>\n      <td>...</td>\n      <td>...</td>\n      <td>...</td>\n      <td>...</td>\n      <td>...</td>\n      <td>...</td>\n      <td>...</td>\n      <td>...</td>\n      <td>...</td>\n      <td>...</td>\n      <td>...</td>\n      <td>...</td>\n      <td>...</td>\n      <td>...</td>\n    </tr>\n    <tr>\n      <th>9257852</th>\n      <td>0</td>\n      <td>0</td>\n      <td>1</td>\n      <td>0</td>\n      <td>90000.000000</td>\n      <td>5.550208e+05</td>\n      <td>26938.500288</td>\n      <td>4.500000e+05</td>\n      <td>0.015218</td>\n      <td>-12140</td>\n      <td>...</td>\n      <td>0.0</td>\n      <td>0.0</td>\n      <td>1</td>\n      <td>0.0</td>\n      <td>0.0</td>\n      <td>0.0</td>\n      <td>0.0</td>\n      <td>0.0</td>\n      <td>1</td>\n      <td>0.0</td>\n    </tr>\n    <tr>\n      <th>9257853</th>\n      <td>1</td>\n      <td>0</td>\n      <td>0</td>\n      <td>1</td>\n      <td>269833.115466</td>\n      <td>1.572602e+06</td>\n      <td>43625.771242</td>\n      <td>1.404233e+06</td>\n      <td>0.035332</td>\n      <td>-13398</td>\n      <td>...</td>\n      <td>0.0</td>\n      <td>0.0</td>\n      <td>1</td>\n      <td>0.0</td>\n      <td>0.0</td>\n      <td>0.0</td>\n      <td>0.0</td>\n      <td>0.0</td>\n      <td>1</td>\n      <td>0.0</td>\n    </tr>\n    <tr>\n      <th>9257854</th>\n      <td>0</td>\n      <td>0</td>\n      <td>0</td>\n      <td>0</td>\n      <td>162380.257393</td>\n      <td>5.255615e+05</td>\n      <td>29415.734310</td>\n      <td>4.339173e+05</td>\n      <td>0.035187</td>\n      <td>-15741</td>\n      <td>...</td>\n      <td>0.0</td>\n      <td>0.0</td>\n      <td>1</td>\n      <td>0.0</td>\n      <td>0.0</td>\n      <td>0.0</td>\n      <td>0.0</td>\n      <td>0.0</td>\n      <td>1</td>\n      <td>0.0</td>\n    </tr>\n    <tr>\n      <th>9257855</th>\n      <td>0</td>\n      <td>0</td>\n      <td>0</td>\n      <td>0</td>\n      <td>88179.343466</td>\n      <td>5.253932e+05</td>\n      <td>22992.040446</td>\n      <td>4.696034e+05</td>\n      <td>0.014326</td>\n      <td>-19704</td>\n      <td>...</td>\n      <td>0.0</td>\n      <td>0.0</td>\n      <td>1</td>\n      <td>0.0</td>\n      <td>0.0</td>\n      <td>0.0</td>\n      <td>0.0</td>\n      <td>0.0</td>\n      <td>1</td>\n      <td>0.0</td>\n    </tr>\n    <tr>\n      <th>9257856</th>\n      <td>0</td>\n      <td>1</td>\n      <td>0</td>\n      <td>0</td>\n      <td>204976.393716</td>\n      <td>1.255784e+06</td>\n      <td>43674.609953</td>\n      <td>1.048483e+06</td>\n      <td>0.013901</td>\n      <td>-13912</td>\n      <td>...</td>\n      <td>0.0</td>\n      <td>0.0</td>\n      <td>1</td>\n      <td>0.0</td>\n      <td>0.0</td>\n      <td>0.0</td>\n      <td>0.0</td>\n      <td>0.0</td>\n      <td>1</td>\n      <td>0.0</td>\n    </tr>\n  </tbody>\n</table>\n<p>565364 rows × 823 columns</p>\n</div>"
     },
     "execution_count": 47,
     "metadata": {},
     "output_type": "execute_result"
    }
   ],
   "source": [
    "X_sm"
   ],
   "metadata": {
    "collapsed": false,
    "pycharm": {
     "name": "#%%\n"
    }
   }
  },
  {
   "cell_type": "raw",
   "source": [
    "n_components = 4\n",
    "acp = PCA(n_components=n_components)\n",
    "acp.fit(X)\n",
    "\n",
    "X_acp = pd.DataFrame(acp.transform(X))\n",
    "X_sm_acp = pd.DataFrame(acp.transform(X_sm))\n",
    "X_acp.loc[:, 'TARGET'] = y.astype(int)\n",
    "X_sm_acp.loc[:, 'TARGET'] = y_sm.astype(int)\n",
    "\n",
    "for i in range(n_components - 1):\n",
    "    for j in range(i + 1, n_components):\n",
    "        f, (ax1, ax2) = plt.subplots(2, 1)\n",
    "        f.suptitle('Visualisation des individus sur axes de l\\'ACP' + str(i) + ' & ' + str(j))\n",
    "\n",
    "        sns.scatterplot(data=X_acp, x=i, y=j, hue='TARGET', ax=ax1)\n",
    "        ax1.set_title('avant SMOTE')\n",
    "\n",
    "        sns.scatterplot(data=X_sm_acp, x=i, y=j, hue='TARGET', ax=ax2)\n",
    "        ax2.set_title('après SMOTE')\n",
    "        plt.show()\n"
   ],
   "metadata": {
    "collapsed": false,
    "pycharm": {
     "name": "#%% raw\n"
    }
   }
  },
  {
   "cell_type": "code",
   "execution_count": 48,
   "outputs": [
    {
     "data": {
      "text/plain": "<Figure size 432x288 with 2 Axes>",
      "image/png": "[encoded data removed]"
     },
     "metadata": {},
     "output_type": "display_data"
    }
   ],
   "source": [
    "# noinspection PyTypeChecker\n",
    "f, (ax1, ax2) = plt.subplots(2, 1, sharex=True)\n",
    "f.suptitle('Nb customers in each category')\n",
    "\n",
    "nb_customers = y.value_counts()\n",
    "sns.barplot(x=nb_customers.index, y=nb_customers.values, ax=ax1)\n",
    "ax1.set_title('before SMOTE')\n",
    "ax1.set_ylabel('Number of customers')\n",
    "\n",
    "nb_customers_sm = y_sm.value_counts()\n",
    "sns.barplot(x=nb_customers_sm.index, y=nb_customers_sm.values, ax=ax2)\n",
    "ax2.set_title('after SMOTE')\n",
    "ax2.set_ylabel('Number of customers')\n",
    "\n",
    "plt.show()"
   ],
   "metadata": {
    "collapsed": false,
    "pycharm": {
     "name": "#%%\n"
    }
   }
  },
  {
   "cell_type": "code",
   "execution_count": 49,
   "outputs": [],
   "source": [
    "accuracy_results = dict()\n",
    "recall_results = dict()\n",
    "f1_score_results = dict()\n",
    "f2_score_results = dict()\n",
    "roc_auc_results = dict()\n",
    "\n",
    "\n",
    "def save_model(model, nb_columns):\n",
    "    fast_forward_save(model, model.__str__().split('(')[0] + '_' + str(nb_columns))\n",
    "\n",
    "\n",
    "def retrieve_model(name, nb_columns):\n",
    "    return fast_forward_retrieve(name + '_' + str(nb_columns))\n",
    "\n",
    "\n",
    "def model_exists(model, nb_columns):\n",
    "    return file_exists(model.__str__().split('(')[0] + '_' + str(nb_columns))\n",
    "\n",
    "\n",
    "def train_and_predict(use_smote, model):\n",
    "    id_model = model.__str__().split('(')[0] + ' with SMOTE' if use_smote else ' without SMOTE'\n",
    "\n",
    "    with timer(id_model):\n",
    "        my_X, my_y = (X_sm, y_sm) if use_smote else (X, y)\n",
    "        my_X = my_X.rename(columns=lambda x: re.sub('[^A-Za-z0-9_]+', '', x)).drop(columns=['SK_ID_CURR'],\n",
    "                                                                                   errors='ignore')\n",
    "        X_train, X_test, y_train, y_test = train_test_split(my_X, my_y, test_size=0.2, random_state=0)\n",
    "\n",
    "        if model_exists(model, X_train.shape[1]):\n",
    "            model = retrieve_model(model.__str__().split('(')[0], X_train.shape[1])\n",
    "        else:\n",
    "            print('TRAINING', id_model)\n",
    "            model.fit(X_train, y_train)\n",
    "            save_model(model, X_train.shape[1])\n",
    "        predictions = model.predict(X_test)\n",
    "        accuracy_results[id_model] = accuracy_score(y_test, predictions)\n",
    "        recall_results[id_model] = recall_score(y_test, predictions)\n",
    "        f1_score_results[id_model] = fbeta_score(y_test, predictions, beta=2)\n",
    "        f2_score_results[id_model] = fbeta_score(y_test, predictions, beta=1)\n",
    "        roc_auc_results[id_model] = roc_auc_score(y_test, predictions)\n",
    "\n",
    "        print(f'Accuracy = {accuracy_results[id_model]:.3f}'\n",
    "              f'\\nRecall = {recall_results[id_model]:.3f}'\n",
    "              f'\\nF1 = {f1_score_results[id_model]:.3f}'\n",
    "              f'\\nF2 = {accuracy_results[id_model]:.3f}'\n",
    "              f'\\nROC AUC = {roc_auc_results[id_model]:.3f}')\n",
    "\n",
    "        cm = confusion_matrix(y_test, predictions)\n",
    "        plt.figure(figsize=(8, 6))\n",
    "        plt.title('Confusion Matrix ' + id_model)\n",
    "        sns.heatmap(cm, annot=True, cmap='Blues')\n",
    "        plt.show()\n",
    "\n",
    "    try:\n",
    "        print(id_model, my_X.columns[np.argsort(model.feature_importances_)[::-1][:20]])\n",
    "    except AttributeError:\n",
    "        pass\n",
    "\n",
    "    return model"
   ],
   "metadata": {
    "collapsed": false,
    "pycharm": {
     "name": "#%%\n"
    }
   }
  },
  {
   "cell_type": "code",
   "execution_count": 50,
   "outputs": [
    {
     "name": "stdout",
     "output_type": "stream",
     "text": [
      "LogisticRegression_823 not found\n",
      "TRAINING LogisticRegression with SMOTE\n"
     ]
    },
    {
     "name": "stderr",
     "output_type": "stream",
     "text": [
      "/Users/julie/PycharmProjects/home-credit/venv/lib/python3.10/site-packages/sklearn/linear_model/_logistic.py:814: ConvergenceWarning:\n",
      "\n",
      "lbfgs failed to converge (status=1):\n",
      "STOP: TOTAL NO. of ITERATIONS REACHED LIMIT.\n",
      "\n",
      "Increase the number of iterations (max_iter) or scale the data as shown in:\n",
      "    https://scikit-learn.org/stable/modules/preprocessing.html\n",
      "Please also refer to the documentation for alternative solver options:\n",
      "    https://scikit-learn.org/stable/modules/linear_model.html#logistic-regression\n",
      "\n"
     ]
    },
    {
     "name": "stdout",
     "output_type": "stream",
     "text": [
      "SAVING LogisticRegression_823\n",
      "Accuracy = 0.525\n",
      "Recall = 0.198\n",
      "F1 = 0.228\n",
      "F2 = 0.525\n",
      "ROC AUC = 0.527\n"
     ]
    },
    {
     "data": {
      "text/plain": "<Figure size 576x432 with 2 Axes>",
      "image/png": "[encoded data removed]"
     },
     "metadata": {},
     "output_type": "display_data"
    },
    {
     "name": "stdout",
     "output_type": "stream",
     "text": [
      "LogisticRegression with SMOTE - done in 151s\n",
      "\n"
     ]
    }
   ],
   "source": [
    "lr = LogisticRegression(random_state=0)\n",
    "lr = train_and_predict(use_smote=True, model=lr)"
   ],
   "metadata": {
    "collapsed": false,
    "pycharm": {
     "name": "#%%\n"
    }
   }
  },
  {
   "cell_type": "code",
   "execution_count": 51,
   "outputs": [
    {
     "name": "stdout",
     "output_type": "stream",
     "text": [
      "DecisionTreeClassifier_823 not found\n",
      "TRAINING DecisionTreeClassifier with SMOTE\n",
      "SAVING DecisionTreeClassifier_823\n",
      "Accuracy = 0.899\n",
      "Recall = 0.910\n",
      "F1 = 0.906\n",
      "F2 = 0.899\n",
      "ROC AUC = 0.899\n"
     ]
    },
    {
     "data": {
      "text/plain": "<Figure size 576x432 with 2 Axes>",
      "image/png": "[encoded data removed]"
     },
     "metadata": {},
     "output_type": "display_data"
    },
    {
     "name": "stdout",
     "output_type": "stream",
     "text": [
      "DecisionTreeClassifier with SMOTE - done in 183s\n",
      "\n",
      "DecisionTreeClassifier with SMOTE Index(['TOTALAREA_MODE', 'EMERGENCYSTATE_MODE_No', 'FLAG_OWN_CAR',\n",
      "       'OWN_CAR_AGE', 'CODE_GENDER', 'EXT_SOURCE_3', 'EXT_SOURCE_2',\n",
      "       'NAME_FAMILY_STATUS_Singlenotmarried', 'NAME_FAMILY_STATUS_Separated',\n",
      "       'NAME_FAMILY_STATUS_Civilmarriage', 'EMERGENCYSTATE_MODE_Yes',\n",
      "       'NAME_FAMILY_STATUS_Married',\n",
      "       'NAME_EDUCATION_TYPE_Secondarysecondaryspecial', 'FLAG_EMP_PHONE',\n",
      "       'NAME_EDUCATION_TYPE_Incompletehigher',\n",
      "       'NAME_EDUCATION_TYPE_Highereducation',\n",
      "       'PREV_NAME_SELLER_INDUSTRY_Connectivity_MEAN',\n",
      "       'NAME_FAMILY_STATUS_Widow', 'NAME_INCOME_TYPE_Pensioner',\n",
      "       'PREV_NAME_PRODUCT_TYPE_walkin_MEAN'],\n",
      "      dtype='object')\n"
     ]
    }
   ],
   "source": [
    "dt = DecisionTreeClassifier(random_state=0)\n",
    "dt = train_and_predict(use_smote=True, model=dt)"
   ],
   "metadata": {
    "collapsed": false,
    "pycharm": {
     "name": "#%%\n"
    }
   }
  },
  {
   "cell_type": "code",
   "execution_count": 52,
   "outputs": [
    {
     "data": {
      "text/plain": "<Figure size 576x432 with 2 Axes>",
      "image/png": "[encoded data removed]"
     },
     "metadata": {},
     "output_type": "display_data"
    }
   ],
   "source": [
    "cm_gender = confusion_matrix(df_w_target['TARGET'].astype(int), df_w_target['CODE_GENDER'])\n",
    "plt.figure(figsize=(8, 6))\n",
    "plt.title('Confusion Matrix GENDER')\n",
    "sns.heatmap(cm_gender, annot=True, fmt=\"d\", cmap='Blues')\n",
    "plt.show()"
   ],
   "metadata": {
    "collapsed": false,
    "pycharm": {
     "name": "#%%\n"
    }
   }
  },
  {
   "cell_type": "code",
   "execution_count": 53,
   "outputs": [
    {
     "data": {
      "text/plain": "<Figure size 432x288 with 1 Axes>",
      "image/png": "[encoded data removed]"
     },
     "metadata": {},
     "output_type": "display_data"
    }
   ],
   "source": [
    "sns.histplot(data=df_w_target, x=\"CODE_GENDER\", hue=\"TARGET\",\n",
    "             multiple=\"fill\", bins=2, binwidth=.4)\n",
    "plt.show()"
   ],
   "metadata": {
    "collapsed": false,
    "pycharm": {
     "name": "#%%\n"
    }
   }
  },
  {
   "cell_type": "code",
   "execution_count": 54,
   "outputs": [
    {
     "data": {
      "text/plain": "<Figure size 576x432 with 2 Axes>",
      "image/png": "[encoded data removed]"
     },
     "metadata": {},
     "output_type": "display_data"
    }
   ],
   "source": [
    "cm_own_car = confusion_matrix(df_w_target['TARGET'].astype(int), df_w_target['FLAG_OWN_CAR'].astype(int))\n",
    "plt.figure(figsize=(8, 6))\n",
    "plt.title('Confusion Matrix FLAG OWN CAR')\n",
    "sns.heatmap(cm_own_car, annot=True, fmt=\"d\", cmap='Blues')\n",
    "plt.show()"
   ],
   "metadata": {
    "collapsed": false,
    "pycharm": {
     "name": "#%%\n"
    }
   }
  },
  {
   "cell_type": "code",
   "execution_count": 55,
   "outputs": [
    {
     "data": {
      "text/plain": "<Figure size 432x288 with 2 Axes>",
      "image/png": "[encoded data removed]"
     },
     "metadata": {},
     "output_type": "display_data"
    }
   ],
   "source": [
    "df_w_target.loc[:, 'FLAG_OWN_CAR'] = df_w_target.loc[:, 'FLAG_OWN_CAR'].astype(int).astype(str)\n",
    "\n",
    "f, (ax1, ax2) = plt.subplots(1, 2)\n",
    "f.suptitle('Distribution of individuals split by car owning')\n",
    "sns.histplot(data=df_w_target, x=\"FLAG_OWN_CAR\", hue=\"TARGET\",\n",
    "             discrete=True, ax=ax1, multiple='stack', shrink=0.9)\n",
    "ax1.set_title('Number of individuals')\n",
    "ax2.set_title('Proportion of individuals')\n",
    "ax1.set_ylabel('')\n",
    "sns.histplot(data=df_w_target, x=\"FLAG_OWN_CAR\", hue=\"TARGET\",\n",
    "             discrete=True, multiple='layer', shrink=0.9, ax=ax2)\n",
    "ax2.set_title('Proportion of individuals')\n",
    "ax2.set_ylabel('')\n",
    "plt.show()"
   ],
   "metadata": {
    "collapsed": false,
    "pycharm": {
     "name": "#%%\n"
    }
   }
  },
  {
   "cell_type": "code",
   "execution_count": 56,
   "outputs": [
    {
     "data": {
      "text/plain": "<Figure size 409.875x360 with 1 Axes>",
      "image/png": "[encoded data removed]"
     },
     "metadata": {},
     "output_type": "display_data"
    }
   ],
   "source": [
    "age = (-X_sm['DAYS_BIRTH'] / 365.25).rename('AGE')\n",
    "sns.displot(x=age, kind=\"kde\", hue=y_sm, fill=True, multiple='stack')\n",
    "plt.show()"
   ],
   "metadata": {
    "collapsed": false,
    "pycharm": {
     "name": "#%%\n"
    }
   }
  },
  {
   "cell_type": "code",
   "execution_count": 57,
   "outputs": [],
   "source": [
    "X_sm['CNT_FAM_MEMBERS'] = X_sm['CNT_FAM_MEMBERS'].astype(int)\n",
    "X_sm['DAYS_BIRTH'] = X_sm['DAYS_BIRTH'].astype(float)"
   ],
   "metadata": {
    "collapsed": false,
    "pycharm": {
     "name": "#%%\n"
    }
   }
  },
  {
   "cell_type": "code",
   "execution_count": 58,
   "outputs": [
    {
     "data": {
      "text/plain": "<Figure size 864x648 with 0 Axes>"
     },
     "metadata": {},
     "output_type": "display_data"
    },
    {
     "data": {
      "text/plain": "<Figure size 409.875x360 with 1 Axes>",
      "image/png": "[encoded data removed]"
     },
     "metadata": {},
     "output_type": "display_data"
    },
    {
     "data": {
      "text/plain": "<Figure size 864x648 with 0 Axes>"
     },
     "metadata": {},
     "output_type": "display_data"
    },
    {
     "data": {
      "text/plain": "<Figure size 409.875x360 with 1 Axes>",
      "image/png": "[encoded data removed]"
     },
     "metadata": {},
     "output_type": "display_data"
    }
   ],
   "source": [
    "nb_most_important_columns = 20\n",
    "index_most_important_columns = np.argsort(dt.feature_importances_)[::-1][:nb_most_important_columns]\n",
    "most_important_columns = X_sm.columns[index_most_important_columns]\n",
    "feature_importance = dt.feature_importances_[index_most_important_columns]\n",
    "\n",
    "for col, importance in zip(most_important_columns[:2], feature_importance[:2]):\n",
    "\n",
    "    f = plt.figure(figsize=(12, 9))\n",
    "    if X_sm[col].dtype == float:\n",
    "        sns.displot(x=X_sm[col], kind='kde', hue=y_sm, multiple=\"layer\")\n",
    "    else:\n",
    "        sns.displot(x=X_sm[col], kind='hist', shrink=0.8, hue=y_sm, fill=True, multiple=\"dodge\", stat='probability',\n",
    "                    discrete=True)\n",
    "    plt.title(f'importance = {importance:.4f}', y=1.0, pad=-14)\n",
    "    plt.show()"
   ],
   "metadata": {
    "collapsed": false,
    "pycharm": {
     "name": "#%%\n"
    }
   }
  },
  {
   "cell_type": "code",
   "execution_count": 59,
   "outputs": [
    {
     "name": "stdout",
     "output_type": "stream",
     "text": [
      "RandomForestClassifier_823 not found\n",
      "TRAINING RandomForestClassifier with SMOTE\n",
      "SAVING RandomForestClassifier_823\n",
      "Accuracy = 0.955\n",
      "Recall = 0.912\n",
      "F1 = 0.928\n",
      "F2 = 0.955\n",
      "ROC AUC = 0.956\n"
     ]
    },
    {
     "data": {
      "text/plain": "<Figure size 576x432 with 2 Axes>",
      "image/png": "[encoded data removed]"
     },
     "metadata": {},
     "output_type": "display_data"
    },
    {
     "name": "stdout",
     "output_type": "stream",
     "text": [
      "RandomForestClassifier with SMOTE - done in 467s\n",
      "\n",
      "RandomForestClassifier with SMOTE Index(['YEARS_BEGINEXPLUATATION_MEDI', 'YEARS_BEGINEXPLUATATION_AVG',\n",
      "       'NAME_EDUCATION_TYPE_Highereducation', 'CODE_GENDER',\n",
      "       'YEARS_BEGINEXPLUATATION_MODE', 'EXT_SOURCE_2',\n",
      "       'EMERGENCYSTATE_MODE_No', 'FLAG_OWN_CAR', 'HOUSETYPE_MODE_blockofflats',\n",
      "       'EXT_SOURCE_3', 'DAYS_EMPLOYED_PERC', 'DAYS_EMPLOYED', 'FLOORSMAX_AVG',\n",
      "       'LIVINGAREA_MEDI', 'FLAG_PHONE', 'NAME_INCOME_TYPE_Commercialassociate',\n",
      "       'FLOORSMAX_MEDI', 'FLAG_EMP_PHONE', 'NAME_INCOME_TYPE_Pensioner',\n",
      "       'REFUSED_APP_CREDIT_PERC_MAX'],\n",
      "      dtype='object')\n"
     ]
    }
   ],
   "source": [
    "rf = RandomForestClassifier(random_state=0)\n",
    "rf = train_and_predict(use_smote=True, model=rf)"
   ],
   "metadata": {
    "collapsed": false,
    "pycharm": {
     "name": "#%%\n"
    }
   }
  },
  {
   "cell_type": "code",
   "execution_count": 60,
   "outputs": [
    {
     "data": {
      "text/plain": "<Figure size 407.625x360 with 1 Axes>",
      "image/png": "[encoded data removed]"
     },
     "metadata": {},
     "output_type": "display_data"
    }
   ],
   "source": [
    "sns.displot(x=X['EXT_SOURCE_3'], kind='kde', hue=y, multiple=\"layer\")\n",
    "plt.show()"
   ],
   "metadata": {
    "collapsed": false,
    "pycharm": {
     "name": "#%%\n"
    }
   }
  },
  {
   "cell_type": "code",
   "execution_count": 61,
   "outputs": [
    {
     "name": "stdout",
     "output_type": "stream",
     "text": [
      "LGBMClassifier_823 not found\n",
      "TRAINING LGBMClassifier with SMOTE\n",
      "SAVING LGBMClassifier_823\n",
      "Accuracy = 0.955\n",
      "Recall = 0.913\n",
      "F1 = 0.929\n",
      "F2 = 0.955\n",
      "ROC AUC = 0.955\n"
     ]
    },
    {
     "data": {
      "text/plain": "<Figure size 576x432 with 2 Axes>",
      "image/png": "[encoded data removed]"
     },
     "metadata": {},
     "output_type": "display_data"
    },
    {
     "name": "stdout",
     "output_type": "stream",
     "text": [
      "LGBMClassifier with SMOTE - done in 36s\n",
      "\n",
      "LGBMClassifier with SMOTE Index(['EXT_SOURCE_2', 'EXT_SOURCE_3', 'EXT_SOURCE_1',\n",
      "       'APPROVED_HOUR_APPR_PROCESS_START_MAX', 'OBS_30_CNT_SOCIAL_CIRCLE',\n",
      "       'DEF_30_CNT_SOCIAL_CIRCLE', 'APPROVED_CNT_PAYMENT_MEAN',\n",
      "       'NAME_FAMILY_STATUS_Married', 'OWN_CAR_AGE', 'PAYMENT_RATE',\n",
      "       'POS_MONTHS_BALANCE_MAX', 'DAYS_BIRTH',\n",
      "       'INSTAL_NUM_INSTALMENT_VERSION_NUNIQUE', 'INSTAL_AMT_PAYMENT_SUM',\n",
      "       'FLAG_OWN_CAR', 'POS_SK_DPD_DEF_MAX', 'CODE_GENDER',\n",
      "       'BURO_CREDIT_CURRENCY_currency1_MEAN',\n",
      "       'NAME_FAMILY_STATUS_Singlenotmarried',\n",
      "       'NAME_FAMILY_STATUS_Civilmarriage'],\n",
      "      dtype='object')\n"
     ]
    }
   ],
   "source": [
    "lgbm = LGBMClassifier()\n",
    "lgbm = train_and_predict(use_smote=True, model=lgbm)"
   ],
   "metadata": {
    "collapsed": false,
    "pycharm": {
     "name": "#%%\n"
    }
   }
  },
  {
   "cell_type": "code",
   "execution_count": 62,
   "outputs": [],
   "source": [
    "def load_model_and_predict(model_name, prediction_input):\n",
    "    t0 = time.time()\n",
    "    model = retrieve_model(model_name, prediction_input.shape[1])\n",
    "    prediction = model.predict(prediction_input)\n",
    "    print(\"{} - done in {:.2f}s\".format('loading model and predicting with ' + model_name, time.time() - t0))\n",
    "    return prediction\n",
    "\n",
    "\n",
    "to_predict = X_sm.iloc[0:1, :]"
   ],
   "metadata": {
    "collapsed": false,
    "pycharm": {
     "name": "#%%\n"
    }
   }
  },
  {
   "cell_type": "code",
   "execution_count": 63,
   "outputs": [
    {
     "data": {
      "text/plain": "RandomForestClassifier(random_state=0)"
     },
     "execution_count": 63,
     "metadata": {},
     "output_type": "execute_result"
    }
   ],
   "source": [
    "rf"
   ],
   "metadata": {
    "collapsed": false,
    "pycharm": {
     "name": "#%%\n"
    }
   }
  },
  {
   "cell_type": "code",
   "execution_count": 64,
   "outputs": [
    {
     "data": {
      "text/plain": "{'LogisticRegression with SMOTE': 0.5265082781319739,\n 'DecisionTreeClassifier with SMOTE': 0.8994460382664301,\n 'RandomForestClassifier with SMOTE': 0.9556242692108871,\n 'LGBMClassifier with SMOTE': 0.9553624630935768}"
     },
     "execution_count": 64,
     "metadata": {},
     "output_type": "execute_result"
    }
   ],
   "source": [
    "roc_auc_results"
   ],
   "metadata": {
    "collapsed": false,
    "pycharm": {
     "name": "#%%\n"
    }
   }
  },
  {
   "cell_type": "code",
   "execution_count": 65,
   "outputs": [
    {
     "data": {
      "text/plain": "{'LogisticRegression with SMOTE': 0.2281774181779857,\n 'DecisionTreeClassifier with SMOTE': 0.9063689845946724,\n 'RandomForestClassifier with SMOTE': 0.928491604103387,\n 'LGBMClassifier with SMOTE': 0.9289128372209592}"
     },
     "execution_count": 65,
     "metadata": {},
     "output_type": "execute_result"
    }
   ],
   "source": [
    "f1_score_results"
   ],
   "metadata": {
    "collapsed": false,
    "pycharm": {
     "name": "#%%\n"
    }
   }
  },
  {
   "cell_type": "raw",
   "source": [
    "\n",
    "lgbm.feature_importances_\n"
   ],
   "metadata": {
    "collapsed": false,
    "pycharm": {
     "name": "#%% raw\n"
    }
   }
  },
  {
   "cell_type": "raw",
   "source": [
    "lgbm.feature_name_\n"
   ],
   "metadata": {
    "collapsed": false,
    "pycharm": {
     "name": "#%% raw\n"
    }
   }
  },
  {
   "cell_type": "code",
   "execution_count": 66,
   "outputs": [
    {
     "data": {
      "text/plain": "Index(['CODE_GENDER', 'FLAG_OWN_CAR', 'FLAG_OWN_REALTY', 'CNT_CHILDREN',\n       'AMT_INCOME_TOTAL', 'AMT_CREDIT', 'AMT_ANNUITY', 'AMT_GOODS_PRICE',\n       'REGION_POPULATION_RELATIVE', 'DAYS_BIRTH',\n       ...\n       'CC_NAME_CONTRACT_STATUS_Signed_SUM',\n       'CC_NAME_CONTRACT_STATUS_Signed_VAR',\n       'CC_NAME_CONTRACT_STATUS_Signed_MISSING',\n       'CC_NAME_CONTRACT_STATUS_nan_MIN', 'CC_NAME_CONTRACT_STATUS_nan_MAX',\n       'CC_NAME_CONTRACT_STATUS_nan_MEAN', 'CC_NAME_CONTRACT_STATUS_nan_SUM',\n       'CC_NAME_CONTRACT_STATUS_nan_VAR',\n       'CC_NAME_CONTRACT_STATUS_nan_MISSING', 'CC_COUNT'],\n      dtype='object', length=823)"
     },
     "execution_count": 66,
     "metadata": {},
     "output_type": "execute_result"
    }
   ],
   "source": [
    "X_sm.columns"
   ],
   "metadata": {
    "collapsed": false,
    "pycharm": {
     "name": "#%%\n"
    }
   }
  },
  {
   "cell_type": "code",
   "execution_count": 67,
   "outputs": [
    {
     "data": {
      "text/plain": "Index(['EXT_SOURCE_2', 'EXT_SOURCE_3', 'EXT_SOURCE_1',\n       'APPROVED_HOUR_APPR_PROCESS_START_MAX', 'OBS_30_CNT_SOCIAL_CIRCLE',\n       'DEF_30_CNT_SOCIAL_CIRCLE', 'APPROVED_CNT_PAYMENT_MEAN',\n       'NAME_FAMILY_STATUS_Married', 'OWN_CAR_AGE', 'PAYMENT_RATE',\n       'POS_MONTHS_BALANCE_MAX', 'DAYS_BIRTH',\n       'INSTAL_NUM_INSTALMENT_VERSION_NUNIQUE', 'INSTAL_AMT_PAYMENT_SUM',\n       'FLAG_OWN_CAR', 'POS_SK_DPD_DEF_MAX', 'CODE_GENDER',\n       'BURO_CREDIT_CURRENCY_currency 1_MEAN',\n       'NAME_FAMILY_STATUS_Single / not married',\n       'NAME_FAMILY_STATUS_Civil marriage'],\n      dtype='object')"
     },
     "execution_count": 67,
     "metadata": {},
     "output_type": "execute_result"
    }
   ],
   "source": [
    "X_sm.columns[np.argsort(lgbm.feature_importances_)[::-1][:20]]\n"
   ],
   "metadata": {
    "collapsed": false,
    "pycharm": {
     "name": "#%%\n"
    }
   }
  },
  {
   "cell_type": "code",
   "execution_count": 68,
   "outputs": [],
   "source": [
    "idx = np.argsort(lgbm.feature_importances_)[::-1][:350]"
   ],
   "metadata": {
    "collapsed": false,
    "pycharm": {
     "name": "#%%\n"
    }
   }
  },
  {
   "cell_type": "code",
   "execution_count": 69,
   "outputs": [
    {
     "data": {
      "text/plain": "array([139, 127,  77,  69,  63,  48,  47,  42,  42,  41,  41,  41,  37,\n        36,  35,  34,  34,  32,  32,  31,  31,  31,  29,  29,  28,  28,\n        27,  23,  23,  22,  22,  21,  21,  21,  20,  20,  20,  19,  18,\n        18,  18,  18,  17,  17,  17,  17,  16,  16,  16,  16,  16,  16,\n        16,  15,  15,  15,  15,  15,  15,  15,  14,  14,  14,  14,  14,\n        13,  13,  13,  13,  13,  12,  12,  12,  12,  12,  12,  12,  12,\n        11,  11,  11,  10,  10,  10,  10,  10,   9,   9,   9,   9,   9,\n         9,   9,   9,   9,   8,   8,   8,   8,   8,   8,   8,   8,   8,\n         8,   8,   8,   8,   8,   8,   8,   7,   7,   7,   7,   7,   7,\n         7,   7,   7,   7,   7,   7,   7,   6,   6,   6,   6,   6,   6,\n         6,   6,   6,   6,   6,   6,   6,   6,   6,   6,   5,   5,   5,\n         5,   5,   5,   5,   5,   5,   5,   5,   5,   5,   5,   5,   4,\n         4,   4,   4,   4,   4,   4,   4,   4,   4,   4,   4,   4,   4,\n         4,   4,   4,   4,   4,   3,   3,   3,   3,   3,   3,   3,   3,\n         3,   3,   3,   3,   3,   3,   3,   3,   3,   3,   3,   3,   3,\n         3,   3,   3,   3,   3,   3,   3,   3,   3,   3,   3,   2,   2,\n         2,   2,   2,   2,   2,   2,   2,   2,   2,   2,   2,   2,   2,\n         2,   2,   2,   2,   2,   2,   2,   2,   2,   2,   2,   2,   2,\n         2,   2,   2,   2,   2,   2,   2,   2,   2,   2,   2,   2,   2,\n         2,   2,   2,   2,   2,   2,   2,   2,   2,   2,   2,   2,   2,\n         2,   1,   1,   1,   1,   1,   1,   1,   1,   1,   1,   1,   1,\n         1,   1,   1,   1,   1,   1,   1,   1,   1,   1,   1,   1,   1,\n         1,   1,   1,   1,   1,   1,   1,   1,   1,   1,   1,   1,   1,\n         1,   1,   1,   1,   1,   1,   1,   1,   1,   1,   1,   1,   1,\n         1,   1,   1,   1,   1,   1,   1,   1,   1,   1,   1,   1,   1,\n         1,   1,   1,   1,   1,   1,   1,   1,   1,   1,   1,   1,   1,\n         1,   1,   1,   1,   1,   1,   1,   1,   1,   1,   1,   1],\n      dtype=int32)"
     },
     "execution_count": 69,
     "metadata": {},
     "output_type": "execute_result"
    }
   ],
   "source": [
    "lgbm.feature_importances_[idx]"
   ],
   "metadata": {
    "collapsed": false,
    "pycharm": {
     "name": "#%%\n"
    }
   }
  },
  {
   "cell_type": "code",
   "execution_count": 70,
   "outputs": [
    {
     "data": {
      "text/plain": "            EXT_SOURCE_2  EXT_SOURCE_3  EXT_SOURCE_1  \\\nSK_ID_CURR                                             \n100002          0.262949      0.139376      0.083037   \n100003          0.622246      0.000000      0.311267   \n100004          0.555912      0.729567      0.000000   \n100006          0.650442      0.000000      0.000000   \n100007          0.322738      0.000000      0.000000   \n...                  ...           ...           ...   \n9257852         0.131636      0.000000      0.000000   \n9257853         0.315041      0.432436      0.000000   \n9257854         0.443053      0.358719      0.390463   \n9257855         0.470751      0.296588      0.110709   \n9257856         0.631100      0.505713      0.268744   \n\n            APPROVED_HOUR_APPR_PROCESS_START_MAX  OBS_30_CNT_SOCIAL_CIRCLE  \\\nSK_ID_CURR                                                                   \n100002                                  9.000000                  2.000000   \n100003                                 17.000000                  1.000000   \n100004                                  5.000000                  0.000000   \n100006                                 15.000000                  2.000000   \n100007                                 15.000000                  0.000000   \n...                                          ...                       ...   \n9257852                                 9.823129                  0.176871   \n9257853                                16.944372                  5.925829   \n9257854                                16.531688                  0.489437   \n9257855                                 4.273569                  3.671264   \n9257856                                11.798761                  0.899381   \n\n            DEF_30_CNT_SOCIAL_CIRCLE  APPROVED_CNT_PAYMENT_MEAN  \\\nSK_ID_CURR                                                        \n100002                      2.000000                  24.000000   \n100003                      0.000000                  10.000000   \n100004                      0.000000                   4.000000   \n100006                      0.000000                  18.000000   \n100007                      0.000000                  20.666667   \n...                              ...                        ...   \n9257852                     0.176871                   6.707483   \n9257853                     0.000000                  11.938191   \n9257854                     0.000000                  17.873248   \n9257855                     0.328736                   1.972417   \n9257856                     0.000000                  19.650929   \n\n            NAME_FAMILY_STATUS_Married  OWN_CAR_AGE  PAYMENT_RATE  ...  \\\nSK_ID_CURR                                                         ...   \n100002                               0     0.000000      0.060749  ...   \n100003                               1     0.000000      0.027598  ...   \n100004                               0    26.000000      0.050000  ...   \n100006                               0     0.000000      0.094941  ...   \n100007                               0     0.000000      0.042623  ...   \n...                                ...          ...           ...  ...   \n9257852                              0     0.000000      0.048544  ...   \n9257853                              0     0.000000      0.027938  ...   \n9257854                              0     7.147878      0.056306  ...   \n9257855                              0    16.781597      0.043744  ...   \n9257856                              0    10.550310      0.034382  ...   \n\n            ACTIVE_AMT_CREDIT_SUM_MEAN  FLAG_DOCUMENT_3  \\\nSK_ID_CURR                                                \n100002                    2.409943e+05                1   \n100003                    8.100000e+05                1   \n100004                    0.000000e+00                0   \n100006                    0.000000e+00                1   \n100007                    0.000000e+00                0   \n...                                ...              ...   \n9257852                   0.000000e+00                1   \n9257853                   6.621684e+05                1   \n9257854                   1.797333e+05                1   \n9257855                   0.000000e+00                0   \n9257856                   4.639639e+06                0   \n\n            PREV_CHANNEL_TYPE_Credit and cash offices_MEAN  \\\nSK_ID_CURR                                                   \n100002                                            0.000000   \n100003                                            0.333333   \n100004                                            0.000000   \n100006                                            0.777778   \n100007                                            0.166667   \n...                                                    ...   \n9257852                                           0.000000   \n9257853                                           0.588874   \n9257854                                           0.000000   \n9257855                                           0.000000   \n9257856                                           0.877709   \n\n            CLOSED_DAYS_CREDIT_MEAN  PREV_AMT_ANNUITY_MAX  \\\nSK_ID_CURR                                                  \n100002                  -974.500000           9251.775000   \n100003                 -1665.666667          98356.995000   \n100004                  -867.000000           5357.250000   \n100006                     0.000000          39954.510000   \n100007                 -1149.000000          22678.785000   \n...                             ...                   ...   \n9257852                    0.000000           6310.929458   \n9257853                -1374.010483           7041.927961   \n9257854                -2625.517477           2944.744963   \n9257855                 -894.512763           1569.994337   \n9257856                -1309.487828          41654.019906   \n\n            REFUSED_APP_CREDIT_PERC_VAR  APPROVED_AMT_CREDIT_MIN  \\\nSK_ID_CURR                                                         \n100002                         0.000000            179055.000000   \n100003                         0.000000             68053.500000   \n100004                         0.000000             20106.000000   \n100006                         0.000000             24219.000000   \n100007                         0.000000             14616.000000   \n...                                 ...                      ...   \n9257852                        0.000000             33658.530412   \n9257853                        0.000000             46451.893891   \n9257854                        0.000000             40480.871304   \n9257855                        0.000000              7699.821467   \n9257856                        0.011129            193132.362065   \n\n            ACTIVE_AMT_CREDIT_SUM_DEBT_MEAN  REFUSED_AMT_APPLICATION_MAX  \\\nSK_ID_CURR                                                                 \n100002                        122890.500000                     0.000000   \n100003                             0.000000                     0.000000   \n100004                             0.000000                     0.000000   \n100006                             0.000000                688500.000000   \n100007                             0.000000                     0.000000   \n...                                     ...                          ...   \n9257852                            0.000000                     0.000000   \n9257853                       568154.895829                     0.000000   \n9257854                        54262.199827                 10861.161738   \n9257855                            0.000000                     0.000000   \n9257856                       230971.784587                185729.528699   \n\n            CC_CNT_DRAWINGS_POS_CURRENT_MIN  \nSK_ID_CURR                                   \n100002                                  0.0  \n100003                                  0.0  \n100004                                  0.0  \n100006                                  0.0  \n100007                                  0.0  \n...                                     ...  \n9257852                                 0.0  \n9257853                                 0.0  \n9257854                                 0.0  \n9257855                                 0.0  \n9257856                                 0.0  \n\n[565364 rows x 350 columns]",
      "text/html": "<div>\n<style scoped>\n    .dataframe tbody tr th:only-of-type {\n        vertical-align: middle;\n    }\n\n    .dataframe tbody tr th {\n        vertical-align: top;\n    }\n\n    .dataframe thead th {\n        text-align: right;\n    }\n</style>\n<table border=\"1\" class=\"dataframe\">\n  <thead>\n    <tr style=\"text-align: right;\">\n      <th></th>\n      <th>EXT_SOURCE_2</th>\n      <th>EXT_SOURCE_3</th>\n      <th>EXT_SOURCE_1</th>\n      <th>APPROVED_HOUR_APPR_PROCESS_START_MAX</th>\n      <th>OBS_30_CNT_SOCIAL_CIRCLE</th>\n      <th>DEF_30_CNT_SOCIAL_CIRCLE</th>\n      <th>APPROVED_CNT_PAYMENT_MEAN</th>\n      <th>NAME_FAMILY_STATUS_Married</th>\n      <th>OWN_CAR_AGE</th>\n      <th>PAYMENT_RATE</th>\n      <th>...</th>\n      <th>ACTIVE_AMT_CREDIT_SUM_MEAN</th>\n      <th>FLAG_DOCUMENT_3</th>\n      <th>PREV_CHANNEL_TYPE_Credit and cash offices_MEAN</th>\n      <th>CLOSED_DAYS_CREDIT_MEAN</th>\n      <th>PREV_AMT_ANNUITY_MAX</th>\n      <th>REFUSED_APP_CREDIT_PERC_VAR</th>\n      <th>APPROVED_AMT_CREDIT_MIN</th>\n      <th>ACTIVE_AMT_CREDIT_SUM_DEBT_MEAN</th>\n      <th>REFUSED_AMT_APPLICATION_MAX</th>\n      <th>CC_CNT_DRAWINGS_POS_CURRENT_MIN</th>\n    </tr>\n    <tr>\n      <th>SK_ID_CURR</th>\n      <th></th>\n      <th></th>\n      <th></th>\n      <th></th>\n      <th></th>\n      <th></th>\n      <th></th>\n      <th></th>\n      <th></th>\n      <th></th>\n      <th></th>\n      <th></th>\n      <th></th>\n      <th></th>\n      <th></th>\n      <th></th>\n      <th></th>\n      <th></th>\n      <th></th>\n      <th></th>\n      <th></th>\n    </tr>\n  </thead>\n  <tbody>\n    <tr>\n      <th>100002</th>\n      <td>0.262949</td>\n      <td>0.139376</td>\n      <td>0.083037</td>\n      <td>9.000000</td>\n      <td>2.000000</td>\n      <td>2.000000</td>\n      <td>24.000000</td>\n      <td>0</td>\n      <td>0.000000</td>\n      <td>0.060749</td>\n      <td>...</td>\n      <td>2.409943e+05</td>\n      <td>1</td>\n      <td>0.000000</td>\n      <td>-974.500000</td>\n      <td>9251.775000</td>\n      <td>0.000000</td>\n      <td>179055.000000</td>\n      <td>122890.500000</td>\n      <td>0.000000</td>\n      <td>0.0</td>\n    </tr>\n    <tr>\n      <th>100003</th>\n      <td>0.622246</td>\n      <td>0.000000</td>\n      <td>0.311267</td>\n      <td>17.000000</td>\n      <td>1.000000</td>\n      <td>0.000000</td>\n      <td>10.000000</td>\n      <td>1</td>\n      <td>0.000000</td>\n      <td>0.027598</td>\n      <td>...</td>\n      <td>8.100000e+05</td>\n      <td>1</td>\n      <td>0.333333</td>\n      <td>-1665.666667</td>\n      <td>98356.995000</td>\n      <td>0.000000</td>\n      <td>68053.500000</td>\n      <td>0.000000</td>\n      <td>0.000000</td>\n      <td>0.0</td>\n    </tr>\n    <tr>\n      <th>100004</th>\n      <td>0.555912</td>\n      <td>0.729567</td>\n      <td>0.000000</td>\n      <td>5.000000</td>\n      <td>0.000000</td>\n      <td>0.000000</td>\n      <td>4.000000</td>\n      <td>0</td>\n      <td>26.000000</td>\n      <td>0.050000</td>\n      <td>...</td>\n      <td>0.000000e+00</td>\n      <td>0</td>\n      <td>0.000000</td>\n      <td>-867.000000</td>\n      <td>5357.250000</td>\n      <td>0.000000</td>\n      <td>20106.000000</td>\n      <td>0.000000</td>\n      <td>0.000000</td>\n      <td>0.0</td>\n    </tr>\n    <tr>\n      <th>100006</th>\n      <td>0.650442</td>\n      <td>0.000000</td>\n      <td>0.000000</td>\n      <td>15.000000</td>\n      <td>2.000000</td>\n      <td>0.000000</td>\n      <td>18.000000</td>\n      <td>0</td>\n      <td>0.000000</td>\n      <td>0.094941</td>\n      <td>...</td>\n      <td>0.000000e+00</td>\n      <td>1</td>\n      <td>0.777778</td>\n      <td>0.000000</td>\n      <td>39954.510000</td>\n      <td>0.000000</td>\n      <td>24219.000000</td>\n      <td>0.000000</td>\n      <td>688500.000000</td>\n      <td>0.0</td>\n    </tr>\n    <tr>\n      <th>100007</th>\n      <td>0.322738</td>\n      <td>0.000000</td>\n      <td>0.000000</td>\n      <td>15.000000</td>\n      <td>0.000000</td>\n      <td>0.000000</td>\n      <td>20.666667</td>\n      <td>0</td>\n      <td>0.000000</td>\n      <td>0.042623</td>\n      <td>...</td>\n      <td>0.000000e+00</td>\n      <td>0</td>\n      <td>0.166667</td>\n      <td>-1149.000000</td>\n      <td>22678.785000</td>\n      <td>0.000000</td>\n      <td>14616.000000</td>\n      <td>0.000000</td>\n      <td>0.000000</td>\n      <td>0.0</td>\n    </tr>\n    <tr>\n      <th>...</th>\n      <td>...</td>\n      <td>...</td>\n      <td>...</td>\n      <td>...</td>\n      <td>...</td>\n      <td>...</td>\n      <td>...</td>\n      <td>...</td>\n      <td>...</td>\n      <td>...</td>\n      <td>...</td>\n      <td>...</td>\n      <td>...</td>\n      <td>...</td>\n      <td>...</td>\n      <td>...</td>\n      <td>...</td>\n      <td>...</td>\n      <td>...</td>\n      <td>...</td>\n      <td>...</td>\n    </tr>\n    <tr>\n      <th>9257852</th>\n      <td>0.131636</td>\n      <td>0.000000</td>\n      <td>0.000000</td>\n      <td>9.823129</td>\n      <td>0.176871</td>\n      <td>0.176871</td>\n      <td>6.707483</td>\n      <td>0</td>\n      <td>0.000000</td>\n      <td>0.048544</td>\n      <td>...</td>\n      <td>0.000000e+00</td>\n      <td>1</td>\n      <td>0.000000</td>\n      <td>0.000000</td>\n      <td>6310.929458</td>\n      <td>0.000000</td>\n      <td>33658.530412</td>\n      <td>0.000000</td>\n      <td>0.000000</td>\n      <td>0.0</td>\n    </tr>\n    <tr>\n      <th>9257853</th>\n      <td>0.315041</td>\n      <td>0.432436</td>\n      <td>0.000000</td>\n      <td>16.944372</td>\n      <td>5.925829</td>\n      <td>0.000000</td>\n      <td>11.938191</td>\n      <td>0</td>\n      <td>0.000000</td>\n      <td>0.027938</td>\n      <td>...</td>\n      <td>6.621684e+05</td>\n      <td>1</td>\n      <td>0.588874</td>\n      <td>-1374.010483</td>\n      <td>7041.927961</td>\n      <td>0.000000</td>\n      <td>46451.893891</td>\n      <td>568154.895829</td>\n      <td>0.000000</td>\n      <td>0.0</td>\n    </tr>\n    <tr>\n      <th>9257854</th>\n      <td>0.443053</td>\n      <td>0.358719</td>\n      <td>0.390463</td>\n      <td>16.531688</td>\n      <td>0.489437</td>\n      <td>0.000000</td>\n      <td>17.873248</td>\n      <td>0</td>\n      <td>7.147878</td>\n      <td>0.056306</td>\n      <td>...</td>\n      <td>1.797333e+05</td>\n      <td>1</td>\n      <td>0.000000</td>\n      <td>-2625.517477</td>\n      <td>2944.744963</td>\n      <td>0.000000</td>\n      <td>40480.871304</td>\n      <td>54262.199827</td>\n      <td>10861.161738</td>\n      <td>0.0</td>\n    </tr>\n    <tr>\n      <th>9257855</th>\n      <td>0.470751</td>\n      <td>0.296588</td>\n      <td>0.110709</td>\n      <td>4.273569</td>\n      <td>3.671264</td>\n      <td>0.328736</td>\n      <td>1.972417</td>\n      <td>0</td>\n      <td>16.781597</td>\n      <td>0.043744</td>\n      <td>...</td>\n      <td>0.000000e+00</td>\n      <td>0</td>\n      <td>0.000000</td>\n      <td>-894.512763</td>\n      <td>1569.994337</td>\n      <td>0.000000</td>\n      <td>7699.821467</td>\n      <td>0.000000</td>\n      <td>0.000000</td>\n      <td>0.0</td>\n    </tr>\n    <tr>\n      <th>9257856</th>\n      <td>0.631100</td>\n      <td>0.505713</td>\n      <td>0.268744</td>\n      <td>11.798761</td>\n      <td>0.899381</td>\n      <td>0.000000</td>\n      <td>19.650929</td>\n      <td>0</td>\n      <td>10.550310</td>\n      <td>0.034382</td>\n      <td>...</td>\n      <td>4.639639e+06</td>\n      <td>0</td>\n      <td>0.877709</td>\n      <td>-1309.487828</td>\n      <td>41654.019906</td>\n      <td>0.011129</td>\n      <td>193132.362065</td>\n      <td>230971.784587</td>\n      <td>185729.528699</td>\n      <td>0.0</td>\n    </tr>\n  </tbody>\n</table>\n<p>565364 rows × 350 columns</p>\n</div>"
     },
     "execution_count": 70,
     "metadata": {},
     "output_type": "execute_result"
    }
   ],
   "source": [
    "X_sm[X_sm.columns[idx]]\n"
   ],
   "metadata": {
    "collapsed": false,
    "pycharm": {
     "name": "#%%\n"
    }
   }
  },
  {
   "cell_type": "code",
   "execution_count": 72,
   "outputs": [
    {
     "name": "stdout",
     "output_type": "stream",
     "text": [
      "TRAINING LGBMClassifier_5 - done in 1s\n",
      "\n",
      "Accuracy = 0.942\n",
      "Recall = 0.890\n",
      "F1 = 0.909\n",
      "F2 = 0.942\n",
      "ROC AUC = 0.942\n",
      "\n",
      "TRAINING LGBMClassifier_6 - done in 1s\n",
      "\n",
      "Accuracy = 0.942\n",
      "Recall = 0.891\n",
      "F1 = 0.910\n",
      "F2 = 0.942\n",
      "ROC AUC = 0.942\n",
      "\n",
      "TRAINING LGBMClassifier_7 - done in 1s\n",
      "\n",
      "Accuracy = 0.943\n",
      "Recall = 0.892\n",
      "F1 = 0.911\n",
      "F2 = 0.943\n",
      "ROC AUC = 0.943\n",
      "\n",
      "TRAINING LGBMClassifier_8 - done in 1s\n",
      "\n",
      "Accuracy = 0.943\n",
      "Recall = 0.893\n",
      "F1 = 0.911\n",
      "F2 = 0.943\n",
      "ROC AUC = 0.943\n",
      "\n",
      "TRAINING LGBMClassifier_9 - done in 2s\n",
      "\n",
      "Accuracy = 0.945\n",
      "Recall = 0.896\n",
      "F1 = 0.914\n",
      "F2 = 0.945\n",
      "ROC AUC = 0.945\n",
      "\n",
      "TRAINING LGBMClassifier_11 - done in 2s\n",
      "\n",
      "Accuracy = 0.948\n",
      "Recall = 0.903\n",
      "F1 = 0.920\n",
      "F2 = 0.948\n",
      "ROC AUC = 0.949\n",
      "\n",
      "TRAINING LGBMClassifier_13 - done in 2s\n",
      "\n",
      "Accuracy = 0.950\n",
      "Recall = 0.906\n",
      "F1 = 0.922\n",
      "F2 = 0.950\n",
      "ROC AUC = 0.950\n",
      "\n",
      "TRAINING LGBMClassifier_15 - done in 1s\n",
      "\n",
      "Accuracy = 0.951\n",
      "Recall = 0.907\n",
      "F1 = 0.923\n",
      "F2 = 0.951\n",
      "ROC AUC = 0.951\n",
      "\n",
      "TRAINING LGBMClassifier_17 - done in 2s\n",
      "\n",
      "Accuracy = 0.951\n",
      "Recall = 0.908\n",
      "F1 = 0.924\n",
      "F2 = 0.951\n",
      "ROC AUC = 0.951\n",
      "\n",
      "TRAINING LGBMClassifier_20 - done in 1s\n",
      "\n",
      "Accuracy = 0.951\n",
      "Recall = 0.910\n",
      "F1 = 0.925\n",
      "F2 = 0.951\n",
      "ROC AUC = 0.952\n",
      "\n",
      "TRAINING LGBMClassifier_23 - done in 2s\n",
      "\n",
      "Accuracy = 0.952\n",
      "Recall = 0.910\n",
      "F1 = 0.925\n",
      "F2 = 0.952\n",
      "ROC AUC = 0.952\n",
      "\n",
      "TRAINING LGBMClassifier_27 - done in 2s\n",
      "\n",
      "Accuracy = 0.953\n",
      "Recall = 0.910\n",
      "F1 = 0.926\n",
      "F2 = 0.953\n",
      "ROC AUC = 0.953\n",
      "\n",
      "TRAINING LGBMClassifier_32 - done in 2s\n",
      "\n",
      "Accuracy = 0.953\n",
      "Recall = 0.911\n",
      "F1 = 0.926\n",
      "F2 = 0.953\n",
      "ROC AUC = 0.953\n",
      "\n",
      "TRAINING LGBMClassifier_37 - done in 2s\n",
      "\n",
      "Accuracy = 0.953\n",
      "Recall = 0.911\n",
      "F1 = 0.926\n",
      "F2 = 0.953\n",
      "ROC AUC = 0.953\n",
      "\n",
      "TRAINING LGBMClassifier_43 - done in 2s\n",
      "\n",
      "Accuracy = 0.952\n",
      "Recall = 0.912\n",
      "F1 = 0.927\n",
      "F2 = 0.952\n",
      "ROC AUC = 0.953\n",
      "\n",
      "TRAINING LGBMClassifier_50 - done in 2s\n",
      "\n",
      "Accuracy = 0.953\n",
      "Recall = 0.912\n",
      "F1 = 0.927\n",
      "F2 = 0.953\n",
      "ROC AUC = 0.953\n",
      "\n",
      "TRAINING LGBMClassifier_58 - done in 2s\n",
      "\n",
      "Accuracy = 0.954\n",
      "Recall = 0.912\n",
      "F1 = 0.928\n",
      "F2 = 0.954\n",
      "ROC AUC = 0.954\n",
      "\n",
      "TRAINING LGBMClassifier_68 - done in 3s\n",
      "\n",
      "Accuracy = 0.954\n",
      "Recall = 0.912\n",
      "F1 = 0.928\n",
      "F2 = 0.954\n",
      "ROC AUC = 0.955\n",
      "\n",
      "TRAINING LGBMClassifier_79 - done in 3s\n",
      "\n",
      "Accuracy = 0.955\n",
      "Recall = 0.913\n",
      "F1 = 0.928\n",
      "F2 = 0.955\n",
      "ROC AUC = 0.955\n",
      "\n",
      "TRAINING LGBMClassifier_92 - done in 4s\n",
      "\n",
      "Accuracy = 0.955\n",
      "Recall = 0.913\n",
      "F1 = 0.929\n",
      "F2 = 0.955\n",
      "ROC AUC = 0.955\n",
      "\n",
      "TRAINING LGBMClassifier_108 - done in 4s\n",
      "\n",
      "Accuracy = 0.955\n",
      "Recall = 0.913\n",
      "F1 = 0.929\n",
      "F2 = 0.955\n",
      "ROC AUC = 0.955\n",
      "\n",
      "TRAINING LGBMClassifier_126 - done in 5s\n",
      "\n",
      "Accuracy = 0.955\n",
      "Recall = 0.913\n",
      "F1 = 0.929\n",
      "F2 = 0.955\n",
      "ROC AUC = 0.955\n",
      "\n",
      "TRAINING LGBMClassifier_146 - done in 6s\n",
      "\n",
      "Accuracy = 0.955\n",
      "Recall = 0.913\n",
      "F1 = 0.929\n",
      "F2 = 0.955\n",
      "ROC AUC = 0.955\n",
      "\n",
      "TRAINING LGBMClassifier_171 - done in 7s\n",
      "\n",
      "Accuracy = 0.955\n",
      "Recall = 0.914\n",
      "F1 = 0.929\n",
      "F2 = 0.955\n",
      "ROC AUC = 0.955\n",
      "\n",
      "TRAINING LGBMClassifier_199 - done in 8s\n",
      "\n",
      "Accuracy = 0.955\n",
      "Recall = 0.913\n",
      "F1 = 0.929\n",
      "F2 = 0.955\n",
      "ROC AUC = 0.955\n",
      "\n",
      "TRAINING LGBMClassifier_232 - done in 9s\n",
      "\n",
      "Accuracy = 0.955\n",
      "Recall = 0.913\n",
      "F1 = 0.929\n",
      "F2 = 0.955\n",
      "ROC AUC = 0.955\n",
      "\n",
      "TRAINING LGBMClassifier_271 - done in 10s\n",
      "\n",
      "Accuracy = 0.955\n",
      "Recall = 0.913\n",
      "F1 = 0.929\n",
      "F2 = 0.955\n",
      "ROC AUC = 0.955\n",
      "\n",
      "TRAINING LGBMClassifier_315 - done in 12s\n",
      "\n",
      "Accuracy = 0.955\n",
      "Recall = 0.913\n",
      "F1 = 0.929\n",
      "F2 = 0.955\n",
      "ROC AUC = 0.955\n",
      "\n",
      "TRAINING LGBMClassifier_368 - done in 15s\n",
      "\n",
      "Accuracy = 0.955\n",
      "Recall = 0.913\n",
      "F1 = 0.929\n",
      "F2 = 0.955\n",
      "ROC AUC = 0.955\n",
      "\n",
      "TRAINING LGBMClassifier_429 - done in 16s\n",
      "\n",
      "Accuracy = 0.955\n",
      "Recall = 0.913\n",
      "F1 = 0.929\n",
      "F2 = 0.955\n",
      "ROC AUC = 0.955\n",
      "\n"
     ]
    }
   ],
   "source": [
    "import math\n",
    "\n",
    "lgbm_models = dict()\n",
    "\n",
    "mini = math.log(5)\n",
    "maxi = math.log(500)\n",
    "nb_attempts = 30\n",
    "\n",
    "plot_f1_x = []\n",
    "plot_f1_y = []\n",
    "plot_roc_y = []\n",
    "\n",
    "for nb_cols in [int(round(math.exp(u), 0)) for u in np.arange(mini, maxi, step=(maxi-mini)/nb_attempts)]:\n",
    "#for nb_cols in [10, 20, 25, 30, 35, 40, 45, 50, 65, 80, 100, 150, 225, 300, 350]:\n",
    "    this_model = LGBMClassifier(random_state=0)\n",
    "\n",
    "    id_model = this_model.__str__().split('(')[0] + '_' + str(nb_cols)\n",
    "    idx_columns_selected = np.argsort(lgbm.feature_importances_)[::-1][:nb_cols]\n",
    "    my_X, my_y = (X_sm[X_sm.columns[idx_columns_selected]], y_sm)\n",
    "    my_X = my_X.rename(columns=lambda x: re.sub('[^A-Za-z0-9_]+', '', x)).drop(columns=['SK_ID_CURR'], errors='ignore')\n",
    "    X_train, X_test, y_train, y_test = train_test_split(my_X, my_y, test_size=0.2, random_state=0)\n",
    "\n",
    "    with timer('TRAINING ' + id_model):\n",
    "        this_model.fit(X_train, y_train)\n",
    "    lgbm_models[nb_cols] = this_model\n",
    "\n",
    "    predictions = this_model.predict(X_test)\n",
    "    accuracy_results[id_model] = accuracy_score(y_test, predictions)\n",
    "    recall_results[id_model] = recall_score(y_test, predictions)\n",
    "    f1_score_results[id_model] = fbeta_score(y_test, predictions, beta=2)\n",
    "    f2_score_results[id_model] = fbeta_score(y_test, predictions, beta=1)\n",
    "    roc_auc_results[id_model] = roc_auc_score(y_test, predictions)\n",
    "\n",
    "    plot_f1_y.append(f1_score_results[id_model])\n",
    "    plot_roc_y.append(roc_auc_results[id_model])\n",
    "    plot_f1_x.append(nb_cols)\n",
    "\n",
    "    print(f'Accuracy = {accuracy_results[id_model]:.3f}'\n",
    "          f'\\nRecall = {recall_results[id_model]:.3f}'\n",
    "          f'\\nF1 = {f1_score_results[id_model]:.3f}'\n",
    "          f'\\nF2 = {accuracy_results[id_model]:.3f}'\n",
    "          f'\\nROC AUC = {roc_auc_results[id_model]:.3f}\\n')"
   ],
   "metadata": {
    "collapsed": false,
    "pycharm": {
     "name": "#%%\n"
    }
   }
  },
  {
   "cell_type": "code",
   "execution_count": 73,
   "outputs": [
    {
     "data": {
      "text/plain": "<matplotlib.legend.Legend at 0x133748100>"
     },
     "execution_count": 73,
     "metadata": {},
     "output_type": "execute_result"
    },
    {
     "data": {
      "text/plain": "<Figure size 864x432 with 1 Axes>",
      "image/png": "[encoded data removed]"
     },
     "metadata": {},
     "output_type": "display_data"
    }
   ],
   "source": [
    "plt.figure(figsize=(12,6))\n",
    "previous_f1 = f1_score_results['LGBMClassifier with SMOTE']\n",
    "sns.barplot(x=plot_f1_x, y=plot_f1_y)\n",
    "plt.axhline(y=previous_f1, color=\"blue\", lw=1, label=\"100%\")\n",
    "plt.axhline(y=previous_f1*.99, color=\"red\", ls=\"--\", lw=1, label='99%')\n",
    "plt.axhline(y=previous_f1*.995, color=\"green\", ls=\"--\", lw=1, label = \"99,5%\")\n",
    "plt.ylim([0.92, 0.94])\n",
    "plt.xlabel('Nb features in model')\n",
    "plt.ylabel('F1 score')\n",
    "plt.legend(loc='upper left')"
   ],
   "metadata": {
    "collapsed": false,
    "pycharm": {
     "name": "#%%\n"
    }
   }
  },
  {
   "cell_type": "code",
   "execution_count": 74,
   "outputs": [
    {
     "data": {
      "text/plain": "<matplotlib.legend.Legend at 0x135112dd0>"
     },
     "execution_count": 74,
     "metadata": {},
     "output_type": "execute_result"
    },
    {
     "data": {
      "text/plain": "<Figure size 864x432 with 1 Axes>",
      "image/png": "[encoded data removed]"
     },
     "metadata": {},
     "output_type": "display_data"
    }
   ],
   "source": [
    "plt.figure(figsize=(12,6))\n",
    "previous_rocauc = roc_auc_results['LGBMClassifier with SMOTE']\n",
    "sns.barplot(x=plot_f1_x, y=plot_roc_y)\n",
    "plt.ylim([0.88, .972])\n",
    "plt.axhline(y=previous_rocauc, color=\"blue\", lw=1, label='100%')\n",
    "plt.axhline(y=previous_rocauc*.995, color=\"green\", ls=\"--\", lw=1, label='99.5%')\n",
    "plt.axhline(y=previous_rocauc*.99, color=\"red\", ls=\"--\", lw=1, label='99%')\n",
    "plt.xlabel('Nb features in model')\n",
    "plt.ylabel('ROC AUC score')\n",
    "plt.legend(loc='upper left')"
   ],
   "metadata": {
    "collapsed": false,
    "pycharm": {
     "name": "#%%\n"
    }
   }
  },
  {
   "cell_type": "code",
   "execution_count": 75,
   "outputs": [],
   "source": [
    "nb_cols_selected = 20\n",
    "idx_columns_selected = np.argsort(lgbm.feature_importances_)[::-1][:nb_cols_selected]\n",
    "X_sm_20 = X_sm[X_sm.columns[idx_columns_selected]]"
   ],
   "metadata": {
    "collapsed": false,
    "pycharm": {
     "name": "#%%\n"
    }
   }
  },
  {
   "cell_type": "code",
   "execution_count": 76,
   "outputs": [
    {
     "data": {
      "text/plain": "            EXT_SOURCE_2  EXT_SOURCE_3  EXT_SOURCE_1  \\\nSK_ID_CURR                                             \n100002          0.262949      0.139376      0.083037   \n100003          0.622246      0.000000      0.311267   \n100004          0.555912      0.729567      0.000000   \n100006          0.650442      0.000000      0.000000   \n100007          0.322738      0.000000      0.000000   \n...                  ...           ...           ...   \n9257852         0.131636      0.000000      0.000000   \n9257853         0.315041      0.432436      0.000000   \n9257854         0.443053      0.358719      0.390463   \n9257855         0.470751      0.296588      0.110709   \n9257856         0.631100      0.505713      0.268744   \n\n            APPROVED_HOUR_APPR_PROCESS_START_MAX  OBS_30_CNT_SOCIAL_CIRCLE  \\\nSK_ID_CURR                                                                   \n100002                                  9.000000                  2.000000   \n100003                                 17.000000                  1.000000   \n100004                                  5.000000                  0.000000   \n100006                                 15.000000                  2.000000   \n100007                                 15.000000                  0.000000   \n...                                          ...                       ...   \n9257852                                 9.823129                  0.176871   \n9257853                                16.944372                  5.925829   \n9257854                                16.531688                  0.489437   \n9257855                                 4.273569                  3.671264   \n9257856                                11.798761                  0.899381   \n\n            DEF_30_CNT_SOCIAL_CIRCLE  APPROVED_CNT_PAYMENT_MEAN  \\\nSK_ID_CURR                                                        \n100002                      2.000000                  24.000000   \n100003                      0.000000                  10.000000   \n100004                      0.000000                   4.000000   \n100006                      0.000000                  18.000000   \n100007                      0.000000                  20.666667   \n...                              ...                        ...   \n9257852                     0.176871                   6.707483   \n9257853                     0.000000                  11.938191   \n9257854                     0.000000                  17.873248   \n9257855                     0.328736                   1.972417   \n9257856                     0.000000                  19.650929   \n\n            NAME_FAMILY_STATUS_Married  OWN_CAR_AGE  PAYMENT_RATE  \\\nSK_ID_CURR                                                          \n100002                               0     0.000000      0.060749   \n100003                               1     0.000000      0.027598   \n100004                               0    26.000000      0.050000   \n100006                               0     0.000000      0.094941   \n100007                               0     0.000000      0.042623   \n...                                ...          ...           ...   \n9257852                              0     0.000000      0.048544   \n9257853                              0     0.000000      0.027938   \n9257854                              0     7.147878      0.056306   \n9257855                              0    16.781597      0.043744   \n9257856                              0    10.550310      0.034382   \n\n            POS_MONTHS_BALANCE_MAX  DAYS_BIRTH  \\\nSK_ID_CURR                                       \n100002                   -1.000000     -9461.0   \n100003                  -18.000000    -16765.0   \n100004                  -24.000000    -19046.0   \n100006                   -1.000000    -19005.0   \n100007                   -1.000000    -19932.0   \n...                            ...         ...   \n9257852                 -62.795910    -12140.0   \n9257853                  -4.278141    -13398.0   \n9257854                 -41.366238    -15741.0   \n9257855                  -9.533347    -19704.0   \n9257856                  -8.053407    -13912.0   \n\n            INSTAL_NUM_INSTALMENT_VERSION_NUNIQUE  INSTAL_AMT_PAYMENT_SUM  \\\nSK_ID_CURR                                                                  \n100002                                   2.000000            2.196257e+05   \n100003                                   2.000000            1.618865e+06   \n100004                                   2.000000            2.128847e+04   \n100006                                   2.000000            1.007153e+06   \n100007                                   2.000000            8.061280e+05   \n...                                           ...                     ...   \n9257852                                  1.176871            4.050048e+04   \n9257853                                  2.981457            1.470180e+05   \n9257854                                  2.000000            4.322499e+04   \n9257855                                  0.328736            9.416194e+03   \n9257856                                  1.550310            1.515808e+06   \n\n            FLAG_OWN_CAR  POS_SK_DPD_DEF_MAX  CODE_GENDER  \\\nSK_ID_CURR                                                  \n100002                 0            0.000000            0   \n100003                 0            0.000000            1   \n100004                 1            0.000000            0   \n100006                 0            0.000000            1   \n100007                 0            0.000000            0   \n...                  ...                 ...          ...   \n9257852                0            0.000000            0   \n9257853                0            0.092714            1   \n9257854                0            0.000000            0   \n9257855                0            0.000000            0   \n9257856                1            0.000000            0   \n\n            BURO_CREDIT_CURRENCY_currency 1_MEAN  \\\nSK_ID_CURR                                         \n100002                                       1.0   \n100003                                       1.0   \n100004                                       1.0   \n100006                                       0.0   \n100007                                       1.0   \n...                                          ...   \n9257852                                      0.0   \n9257853                                      1.0   \n9257854                                      1.0   \n9257855                                      1.0   \n9257856                                      1.0   \n\n            NAME_FAMILY_STATUS_Single / not married  \\\nSK_ID_CURR                                            \n100002                                            1   \n100003                                            0   \n100004                                            1   \n100006                                            0   \n100007                                            1   \n...                                             ...   \n9257852                                           0   \n9257853                                           0   \n9257854                                           0   \n9257855                                           0   \n9257856                                           0   \n\n            NAME_FAMILY_STATUS_Civil marriage  \nSK_ID_CURR                                     \n100002                                      0  \n100003                                      0  \n100004                                      0  \n100006                                      1  \n100007                                      0  \n...                                       ...  \n9257852                                     0  \n9257853                                     0  \n9257854                                     0  \n9257855                                     0  \n9257856                                     0  \n\n[565364 rows x 20 columns]",
      "text/html": "<div>\n<style scoped>\n    .dataframe tbody tr th:only-of-type {\n        vertical-align: middle;\n    }\n\n    .dataframe tbody tr th {\n        vertical-align: top;\n    }\n\n    .dataframe thead th {\n        text-align: right;\n    }\n</style>\n<table border=\"1\" class=\"dataframe\">\n  <thead>\n    <tr style=\"text-align: right;\">\n      <th></th>\n      <th>EXT_SOURCE_2</th>\n      <th>EXT_SOURCE_3</th>\n      <th>EXT_SOURCE_1</th>\n      <th>APPROVED_HOUR_APPR_PROCESS_START_MAX</th>\n      <th>OBS_30_CNT_SOCIAL_CIRCLE</th>\n      <th>DEF_30_CNT_SOCIAL_CIRCLE</th>\n      <th>APPROVED_CNT_PAYMENT_MEAN</th>\n      <th>NAME_FAMILY_STATUS_Married</th>\n      <th>OWN_CAR_AGE</th>\n      <th>PAYMENT_RATE</th>\n      <th>POS_MONTHS_BALANCE_MAX</th>\n      <th>DAYS_BIRTH</th>\n      <th>INSTAL_NUM_INSTALMENT_VERSION_NUNIQUE</th>\n      <th>INSTAL_AMT_PAYMENT_SUM</th>\n      <th>FLAG_OWN_CAR</th>\n      <th>POS_SK_DPD_DEF_MAX</th>\n      <th>CODE_GENDER</th>\n      <th>BURO_CREDIT_CURRENCY_currency 1_MEAN</th>\n      <th>NAME_FAMILY_STATUS_Single / not married</th>\n      <th>NAME_FAMILY_STATUS_Civil marriage</th>\n    </tr>\n    <tr>\n      <th>SK_ID_CURR</th>\n      <th></th>\n      <th></th>\n      <th></th>\n      <th></th>\n      <th></th>\n      <th></th>\n      <th></th>\n      <th></th>\n      <th></th>\n      <th></th>\n      <th></th>\n      <th></th>\n      <th></th>\n      <th></th>\n      <th></th>\n      <th></th>\n      <th></th>\n      <th></th>\n      <th></th>\n      <th></th>\n    </tr>\n  </thead>\n  <tbody>\n    <tr>\n      <th>100002</th>\n      <td>0.262949</td>\n      <td>0.139376</td>\n      <td>0.083037</td>\n      <td>9.000000</td>\n      <td>2.000000</td>\n      <td>2.000000</td>\n      <td>24.000000</td>\n      <td>0</td>\n      <td>0.000000</td>\n      <td>0.060749</td>\n      <td>-1.000000</td>\n      <td>-9461.0</td>\n      <td>2.000000</td>\n      <td>2.196257e+05</td>\n      <td>0</td>\n      <td>0.000000</td>\n      <td>0</td>\n      <td>1.0</td>\n      <td>1</td>\n      <td>0</td>\n    </tr>\n    <tr>\n      <th>100003</th>\n      <td>0.622246</td>\n      <td>0.000000</td>\n      <td>0.311267</td>\n      <td>17.000000</td>\n      <td>1.000000</td>\n      <td>0.000000</td>\n      <td>10.000000</td>\n      <td>1</td>\n      <td>0.000000</td>\n      <td>0.027598</td>\n      <td>-18.000000</td>\n      <td>-16765.0</td>\n      <td>2.000000</td>\n      <td>1.618865e+06</td>\n      <td>0</td>\n      <td>0.000000</td>\n      <td>1</td>\n      <td>1.0</td>\n      <td>0</td>\n      <td>0</td>\n    </tr>\n    <tr>\n      <th>100004</th>\n      <td>0.555912</td>\n      <td>0.729567</td>\n      <td>0.000000</td>\n      <td>5.000000</td>\n      <td>0.000000</td>\n      <td>0.000000</td>\n      <td>4.000000</td>\n      <td>0</td>\n      <td>26.000000</td>\n      <td>0.050000</td>\n      <td>-24.000000</td>\n      <td>-19046.0</td>\n      <td>2.000000</td>\n      <td>2.128847e+04</td>\n      <td>1</td>\n      <td>0.000000</td>\n      <td>0</td>\n      <td>1.0</td>\n      <td>1</td>\n      <td>0</td>\n    </tr>\n    <tr>\n      <th>100006</th>\n      <td>0.650442</td>\n      <td>0.000000</td>\n      <td>0.000000</td>\n      <td>15.000000</td>\n      <td>2.000000</td>\n      <td>0.000000</td>\n      <td>18.000000</td>\n      <td>0</td>\n      <td>0.000000</td>\n      <td>0.094941</td>\n      <td>-1.000000</td>\n      <td>-19005.0</td>\n      <td>2.000000</td>\n      <td>1.007153e+06</td>\n      <td>0</td>\n      <td>0.000000</td>\n      <td>1</td>\n      <td>0.0</td>\n      <td>0</td>\n      <td>1</td>\n    </tr>\n    <tr>\n      <th>100007</th>\n      <td>0.322738</td>\n      <td>0.000000</td>\n      <td>0.000000</td>\n      <td>15.000000</td>\n      <td>0.000000</td>\n      <td>0.000000</td>\n      <td>20.666667</td>\n      <td>0</td>\n      <td>0.000000</td>\n      <td>0.042623</td>\n      <td>-1.000000</td>\n      <td>-19932.0</td>\n      <td>2.000000</td>\n      <td>8.061280e+05</td>\n      <td>0</td>\n      <td>0.000000</td>\n      <td>0</td>\n      <td>1.0</td>\n      <td>1</td>\n      <td>0</td>\n    </tr>\n    <tr>\n      <th>...</th>\n      <td>...</td>\n      <td>...</td>\n      <td>...</td>\n      <td>...</td>\n      <td>...</td>\n      <td>...</td>\n      <td>...</td>\n      <td>...</td>\n      <td>...</td>\n      <td>...</td>\n      <td>...</td>\n      <td>...</td>\n      <td>...</td>\n      <td>...</td>\n      <td>...</td>\n      <td>...</td>\n      <td>...</td>\n      <td>...</td>\n      <td>...</td>\n      <td>...</td>\n    </tr>\n    <tr>\n      <th>9257852</th>\n      <td>0.131636</td>\n      <td>0.000000</td>\n      <td>0.000000</td>\n      <td>9.823129</td>\n      <td>0.176871</td>\n      <td>0.176871</td>\n      <td>6.707483</td>\n      <td>0</td>\n      <td>0.000000</td>\n      <td>0.048544</td>\n      <td>-62.795910</td>\n      <td>-12140.0</td>\n      <td>1.176871</td>\n      <td>4.050048e+04</td>\n      <td>0</td>\n      <td>0.000000</td>\n      <td>0</td>\n      <td>0.0</td>\n      <td>0</td>\n      <td>0</td>\n    </tr>\n    <tr>\n      <th>9257853</th>\n      <td>0.315041</td>\n      <td>0.432436</td>\n      <td>0.000000</td>\n      <td>16.944372</td>\n      <td>5.925829</td>\n      <td>0.000000</td>\n      <td>11.938191</td>\n      <td>0</td>\n      <td>0.000000</td>\n      <td>0.027938</td>\n      <td>-4.278141</td>\n      <td>-13398.0</td>\n      <td>2.981457</td>\n      <td>1.470180e+05</td>\n      <td>0</td>\n      <td>0.092714</td>\n      <td>1</td>\n      <td>1.0</td>\n      <td>0</td>\n      <td>0</td>\n    </tr>\n    <tr>\n      <th>9257854</th>\n      <td>0.443053</td>\n      <td>0.358719</td>\n      <td>0.390463</td>\n      <td>16.531688</td>\n      <td>0.489437</td>\n      <td>0.000000</td>\n      <td>17.873248</td>\n      <td>0</td>\n      <td>7.147878</td>\n      <td>0.056306</td>\n      <td>-41.366238</td>\n      <td>-15741.0</td>\n      <td>2.000000</td>\n      <td>4.322499e+04</td>\n      <td>0</td>\n      <td>0.000000</td>\n      <td>0</td>\n      <td>1.0</td>\n      <td>0</td>\n      <td>0</td>\n    </tr>\n    <tr>\n      <th>9257855</th>\n      <td>0.470751</td>\n      <td>0.296588</td>\n      <td>0.110709</td>\n      <td>4.273569</td>\n      <td>3.671264</td>\n      <td>0.328736</td>\n      <td>1.972417</td>\n      <td>0</td>\n      <td>16.781597</td>\n      <td>0.043744</td>\n      <td>-9.533347</td>\n      <td>-19704.0</td>\n      <td>0.328736</td>\n      <td>9.416194e+03</td>\n      <td>0</td>\n      <td>0.000000</td>\n      <td>0</td>\n      <td>1.0</td>\n      <td>0</td>\n      <td>0</td>\n    </tr>\n    <tr>\n      <th>9257856</th>\n      <td>0.631100</td>\n      <td>0.505713</td>\n      <td>0.268744</td>\n      <td>11.798761</td>\n      <td>0.899381</td>\n      <td>0.000000</td>\n      <td>19.650929</td>\n      <td>0</td>\n      <td>10.550310</td>\n      <td>0.034382</td>\n      <td>-8.053407</td>\n      <td>-13912.0</td>\n      <td>1.550310</td>\n      <td>1.515808e+06</td>\n      <td>1</td>\n      <td>0.000000</td>\n      <td>0</td>\n      <td>1.0</td>\n      <td>0</td>\n      <td>0</td>\n    </tr>\n  </tbody>\n</table>\n<p>565364 rows × 20 columns</p>\n</div>"
     },
     "execution_count": 76,
     "metadata": {},
     "output_type": "execute_result"
    }
   ],
   "source": [
    "X_sm_20"
   ],
   "metadata": {
    "collapsed": false,
    "pycharm": {
     "name": "#%%\n"
    }
   }
  },
  {
   "cell_type": "code",
   "execution_count": 77,
   "outputs": [
    {
     "name": "stdout",
     "output_type": "stream",
     "text": [
      "Fitting 10 folds for each of 300 candidates, totalling 3000 fits\n",
      "LGBM hyperparameters optimization - done in 22750s\n",
      "\n"
     ]
    }
   ],
   "source": [
    "lgbm20 = LGBMClassifier()\n",
    "cross_validation = StratifiedKFold(n_splits=10,shuffle=True,random_state=100)\n",
    "lgbm_parameters = {\n",
    "    'max_depth': [4, 6, 8, 9, 10],\n",
    "    'n_estimators': [100, 150, 200, 500, 700, 1000],\n",
    "    'num_leaves': [10, 20, 50, 75, 100],\n",
    "    'learning_rate': [0.005, 0.01]\n",
    "}\n",
    "\n",
    "with timer('LGBM hyperparameters optimization'):\n",
    "    lgbm_grid = GridSearchCV(lgbm20, lgbm_parameters, verbose =1, scoring='roc_auc', cv=cross_validation)\n",
    "    lgbm_grid.fit(X_sm_20, y_sm)"
   ],
   "metadata": {
    "collapsed": false,
    "pycharm": {
     "name": "#%%\n"
    }
   }
  },
  {
   "cell_type": "code",
   "execution_count": 78,
   "outputs": [
    {
     "data": {
      "text/plain": "0.9779359872213373"
     },
     "execution_count": 78,
     "metadata": {},
     "output_type": "execute_result"
    }
   ],
   "source": [
    "lgbm_grid.best_score_"
   ],
   "metadata": {
    "collapsed": false,
    "pycharm": {
     "name": "#%%\n"
    }
   }
  },
  {
   "cell_type": "code",
   "execution_count": 79,
   "outputs": [
    {
     "data": {
      "text/plain": "{'learning_rate': 0.01,\n 'max_depth': 10,\n 'n_estimators': 1000,\n 'num_leaves': 100}"
     },
     "execution_count": 79,
     "metadata": {},
     "output_type": "execute_result"
    }
   ],
   "source": [
    "lgbm_grid.best_params_"
   ],
   "metadata": {
    "collapsed": false,
    "pycharm": {
     "name": "#%%\n"
    }
   }
  },
  {
   "cell_type": "code",
   "execution_count": 80,
   "outputs": [
    {
     "name": "stdout",
     "output_type": "stream",
     "text": [
      "SAVING LGBMClassifier_optimized_20cols\n"
     ]
    }
   ],
   "source": [
    "save_model(lgbm_grid.best_estimator_, 'optimized_20cols')"
   ],
   "metadata": {
    "collapsed": false,
    "pycharm": {
     "name": "#%%\n"
    }
   }
  },
  {
   "cell_type": "code",
   "execution_count": 81,
   "outputs": [],
   "source": [
    "classifier = lgbm_grid.best_estimator_"
   ],
   "metadata": {
    "collapsed": false,
    "pycharm": {
     "name": "#%%\n"
    }
   }
  },
  {
   "cell_type": "code",
   "execution_count": 82,
   "outputs": [
    {
     "data": {
      "text/plain": "['EXT_SOURCE_2',\n 'EXT_SOURCE_3',\n 'EXT_SOURCE_1',\n 'APPROVED_HOUR_APPR_PROCESS_START_MAX',\n 'OBS_30_CNT_SOCIAL_CIRCLE',\n 'DEF_30_CNT_SOCIAL_CIRCLE',\n 'APPROVED_CNT_PAYMENT_MEAN',\n 'NAME_FAMILY_STATUS_Married',\n 'OWN_CAR_AGE',\n 'PAYMENT_RATE',\n 'POS_MONTHS_BALANCE_MAX',\n 'DAYS_BIRTH',\n 'INSTAL_NUM_INSTALMENT_VERSION_NUNIQUE',\n 'INSTAL_AMT_PAYMENT_SUM',\n 'FLAG_OWN_CAR',\n 'POS_SK_DPD_DEF_MAX',\n 'CODE_GENDER',\n 'BURO_CREDIT_CURRENCY_currency_1_MEAN',\n 'NAME_FAMILY_STATUS_Single_/_not_married',\n 'NAME_FAMILY_STATUS_Civil_marriage']"
     },
     "execution_count": 82,
     "metadata": {},
     "output_type": "execute_result"
    }
   ],
   "source": [
    "classifier.feature_name_"
   ],
   "metadata": {
    "collapsed": false,
    "pycharm": {
     "name": "#%%\n"
    }
   }
  },
  {
   "cell_type": "code",
   "execution_count": 83,
   "outputs": [
    {
     "data": {
      "text/plain": "array([7121, 8085, 6383, 9720, 8137, 2915, 7276, 1359, 3580, 8829, 5785,\n       6549, 6614, 5320, 1427, 3786, 1089, 2297, 1442, 1286], dtype=int32)"
     },
     "execution_count": 83,
     "metadata": {},
     "output_type": "execute_result"
    }
   ],
   "source": [
    "classifier.feature_importances_"
   ],
   "metadata": {
    "collapsed": false,
    "pycharm": {
     "name": "#%%\n"
    }
   }
  },
  {
   "cell_type": "code",
   "execution_count": 84,
   "outputs": [
    {
     "data": {
      "text/plain": "20"
     },
     "execution_count": 84,
     "metadata": {},
     "output_type": "execute_result"
    }
   ],
   "source": [
    "classifier.min_child_samples"
   ],
   "metadata": {
    "collapsed": false,
    "pycharm": {
     "name": "#%%\n"
    }
   }
  },
  {
   "cell_type": "code",
   "execution_count": 85,
   "outputs": [
    {
     "data": {
      "text/plain": "0.001"
     },
     "execution_count": 85,
     "metadata": {},
     "output_type": "execute_result"
    }
   ],
   "source": [
    "classifier.min_child_weight"
   ],
   "metadata": {
    "collapsed": false,
    "pycharm": {
     "name": "#%%\n"
    }
   }
  },
  {
   "cell_type": "code",
   "execution_count": 86,
   "outputs": [
    {
     "data": {
      "text/plain": "0.9513194382983745"
     },
     "execution_count": 86,
     "metadata": {},
     "output_type": "execute_result"
    }
   ],
   "source": [
    "fbeta_score(y_sm, classifier.predict(X_sm_20), beta=1)"
   ],
   "metadata": {
    "collapsed": false,
    "pycharm": {
     "name": "#%%\n"
    }
   }
  },
  {
   "cell_type": "code",
   "execution_count": 87,
   "outputs": [
    {
     "data": {
      "text/plain": "0.9533008822634621"
     },
     "execution_count": 87,
     "metadata": {},
     "output_type": "execute_result"
    }
   ],
   "source": [
    "roc_auc_score(y_sm, classifier.predict(X_sm_20))"
   ],
   "metadata": {
    "collapsed": false,
    "pycharm": {
     "name": "#%%\n"
    }
   }
  },
  {
   "cell_type": "code",
   "execution_count": 88,
   "outputs": [
    {
     "data": {
      "text/plain": "LGBMClassifier(learning_rate=0.01, max_depth=10, n_estimators=1000,\n               num_leaves=100, random_state=100)"
     },
     "execution_count": 88,
     "metadata": {},
     "output_type": "execute_result"
    }
   ],
   "source": [
    "X_train, X_test, y_train, y_test = train_test_split(X_sm_20, y_sm, test_size=0.2, random_state=0)\n",
    "lgbm20 = LGBMClassifier(random_state=100, learning_rate= 0.01, max_depth=10, n_estimators=1000, num_leaves=100)\n",
    "lgbm20.fit(X_train, y_train)"
   ],
   "metadata": {
    "collapsed": false,
    "pycharm": {
     "name": "#%%\n"
    }
   }
  },
  {
   "cell_type": "code",
   "execution_count": 89,
   "outputs": [
    {
     "data": {
      "text/plain": "0.9495092193376754"
     },
     "execution_count": 89,
     "metadata": {},
     "output_type": "execute_result"
    }
   ],
   "source": [
    "fbeta_score(y_test, lgbm20.predict(X_test), beta=1)"
   ],
   "metadata": {
    "collapsed": false,
    "pycharm": {
     "name": "#%%\n"
    }
   }
  },
  {
   "cell_type": "code",
   "execution_count": 90,
   "outputs": [
    {
     "data": {
      "text/plain": "0.9494116242111355"
     },
     "execution_count": 90,
     "metadata": {},
     "output_type": "execute_result"
    }
   ],
   "source": [
    "fbeta_score(y_test, lgbm_models[20].predict(X_test), beta=1)"
   ],
   "metadata": {
    "collapsed": false,
    "pycharm": {
     "name": "#%%\n"
    }
   }
  },
  {
   "cell_type": "code",
   "execution_count": 91,
   "outputs": [
    {
     "data": {
      "text/plain": "0.9510172632042415"
     },
     "execution_count": 91,
     "metadata": {},
     "output_type": "execute_result"
    }
   ],
   "source": [
    "fbeta_score(y_test, classifier.predict(X_test), beta=1)"
   ],
   "metadata": {
    "collapsed": false,
    "pycharm": {
     "name": "#%%\n"
    }
   }
  },
  {
   "cell_type": "code",
   "execution_count": 92,
   "outputs": [
    {
     "data": {
      "text/plain": "Index(['EXT_SOURCE_2', 'EXT_SOURCE_3', 'EXT_SOURCE_1',\n       'APPROVED_HOUR_APPR_PROCESS_START_MAX', 'OBS_30_CNT_SOCIAL_CIRCLE',\n       'DEF_30_CNT_SOCIAL_CIRCLE', 'APPROVED_CNT_PAYMENT_MEAN',\n       'NAME_FAMILY_STATUS_Married', 'OWN_CAR_AGE', 'PAYMENT_RATE',\n       'POS_MONTHS_BALANCE_MAX', 'DAYS_BIRTH',\n       'INSTAL_NUM_INSTALMENT_VERSION_NUNIQUE', 'INSTAL_AMT_PAYMENT_SUM',\n       'FLAG_OWN_CAR', 'POS_SK_DPD_DEF_MAX', 'CODE_GENDER',\n       'BURO_CREDIT_CURRENCY_currency 1_MEAN',\n       'NAME_FAMILY_STATUS_Single / not married',\n       'NAME_FAMILY_STATUS_Civil marriage'],\n      dtype='object')"
     },
     "execution_count": 92,
     "metadata": {},
     "output_type": "execute_result"
    }
   ],
   "source": [
    "X_sm_20.columns"
   ],
   "metadata": {
    "collapsed": false,
    "pycharm": {
     "name": "#%%\n"
    }
   }
  },
  {
   "cell_type": "code",
   "execution_count": 93,
   "outputs": [
    {
     "data": {
      "text/plain": "['EXT_SOURCE_2',\n 'EXT_SOURCE_3',\n 'EXT_SOURCE_1',\n 'APPROVED_HOUR_APPR_PROCESS_START_MAX',\n 'OBS_30_CNT_SOCIAL_CIRCLE',\n 'DEF_30_CNT_SOCIAL_CIRCLE',\n 'APPROVED_CNT_PAYMENT_MEAN',\n 'NAME_FAMILY_STATUS_Married',\n 'OWN_CAR_AGE',\n 'PAYMENT_RATE',\n 'POS_MONTHS_BALANCE_MAX',\n 'DAYS_BIRTH',\n 'INSTAL_NUM_INSTALMENT_VERSION_NUNIQUE',\n 'INSTAL_AMT_PAYMENT_SUM',\n 'FLAG_OWN_CAR',\n 'POS_SK_DPD_DEF_MAX',\n 'CODE_GENDER',\n 'BURO_CREDIT_CURRENCY_currency_1_MEAN',\n 'NAME_FAMILY_STATUS_Single_/_not_married',\n 'NAME_FAMILY_STATUS_Civil_marriage']"
     },
     "execution_count": 93,
     "metadata": {},
     "output_type": "execute_result"
    }
   ],
   "source": [
    "classifier.feature_name_"
   ],
   "metadata": {
    "collapsed": false,
    "pycharm": {
     "name": "#%%\n"
    }
   }
  },
  {
   "cell_type": "raw",
   "source": [
    "\n",
    "df[classifier.feature_name_]\n"
   ],
   "metadata": {
    "collapsed": false,
    "pycharm": {
     "name": "#%% raw\n"
    }
   }
  },
  {
   "cell_type": "code",
   "execution_count": 94,
   "outputs": [
    {
     "data": {
      "text/plain": "(356251, (356251, 827))"
     },
     "execution_count": 94,
     "metadata": {},
     "output_type": "execute_result"
    }
   ],
   "source": [
    "len(set(df['SK_ID_CURR'])), df.shape"
   ],
   "metadata": {
    "collapsed": false,
    "pycharm": {
     "name": "#%%\n"
    }
   }
  },
  {
   "cell_type": "code",
   "execution_count": 95,
   "outputs": [
    {
     "name": "stdout",
     "output_type": "stream",
     "text": [
      "SAVING df_for_api\n",
      "SAVING model_for_api\n"
     ]
    }
   ],
   "source": [
    "df_copy = df.set_index('SK_ID_CURR', drop=True)[list(X_sm_20.columns) + ['TARGET']]\n",
    "fast_forward_save(df_copy, 'df_for_api')\n",
    "fast_forward_save(classifier, 'model_for_api')"
   ],
   "metadata": {
    "collapsed": false,
    "pycharm": {
     "name": "#%%\n"
    }
   }
  },
  {
   "cell_type": "code",
   "execution_count": null,
   "outputs": [],
   "source": [],
   "metadata": {
    "collapsed": false,
    "pycharm": {
     "name": "#%%\n"
    }
   }
  }
 ],
 "metadata": {
  "kernelspec": {
   "display_name": "Python 3 (ipykernel)",
   "language": "python",
   "name": "python3"
  },
  "language_info": {
   "codemirror_mode": {
    "name": "ipython",
    "version": 3
   },
   "file_extension": ".py",
   "mimetype": "text/x-python",
   "name": "python",
   "nbconvert_exporter": "python",
   "pygments_lexer": "ipython3",
   "version": "3.10.2"
  }
 },
 "nbformat": 4,
 "nbformat_minor": 1
}